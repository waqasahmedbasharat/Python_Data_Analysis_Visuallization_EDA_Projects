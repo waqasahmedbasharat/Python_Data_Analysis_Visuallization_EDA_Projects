{
 "cells": [
  {
   "cell_type": "code",
   "execution_count": 1,
   "id": "011c61e4",
   "metadata": {
    "_cell_guid": "b1076dfc-b9ad-4769-8c92-a6c4dae69d19",
    "_kg_hide-input": true,
    "_kg_hide-output": true,
    "_uuid": "8f2839f25d086af736a60e9eeb907d3b93b6e0e5",
    "execution": {
     "iopub.execute_input": "2022-01-24T20:31:16.418471Z",
     "iopub.status.busy": "2022-01-24T20:31:16.417338Z",
     "iopub.status.idle": "2022-01-24T20:32:00.463406Z",
     "shell.execute_reply": "2022-01-24T20:32:00.463905Z",
     "shell.execute_reply.started": "2022-01-24T18:51:02.182548Z"
    },
    "papermill": {
     "duration": 44.068304,
     "end_time": "2022-01-24T20:32:00.464189",
     "exception": false,
     "start_time": "2022-01-24T20:31:16.395885",
     "status": "completed"
    },
    "tags": []
   },
   "outputs": [
    {
     "name": "stdout",
     "output_type": "stream",
     "text": [
      "Collecting openpyxl\r\n",
      "  Downloading openpyxl-3.0.9-py2.py3-none-any.whl (242 kB)\r\n",
      "     |████████████████████████████████| 242 kB 593 kB/s            \r\n",
      "\u001B[?25hCollecting et-xmlfile\r\n",
      "  Downloading et_xmlfile-1.1.0-py3-none-any.whl (4.7 kB)\r\n",
      "Installing collected packages: et-xmlfile, openpyxl\r\n",
      "Successfully installed et-xmlfile-1.1.0 openpyxl-3.0.9\r\n",
      "\u001B[33mWARNING: Running pip as the 'root' user can result in broken permissions and conflicting behaviour with the system package manager. It is recommended to use a virtual environment instead: https://pip.pypa.io/warnings/venv\u001B[0m\r\n",
      "Collecting dash_bio\r\n",
      "  Downloading dash_bio-1.0.1.tar.gz (10.2 MB)\r\n",
      "     |████████████████████████████████| 10.2 MB 595 kB/s            \r\n",
      "\u001B[?25h  Preparing metadata (setup.py) ... \u001B[?25l-\b \bdone\r\n",
      "\u001B[?25hCollecting dash>=1.6.1\r\n",
      "  Downloading dash-2.0.0-py3-none-any.whl (7.3 MB)\r\n",
      "     |████████████████████████████████| 7.3 MB 28.7 MB/s            \r\n",
      "\u001B[?25hRequirement already satisfied: pandas in /opt/conda/lib/python3.7/site-packages (from dash_bio) (1.3.4)\r\n",
      "Requirement already satisfied: scipy in /opt/conda/lib/python3.7/site-packages (from dash_bio) (1.7.3)\r\n",
      "Requirement already satisfied: scikit-learn>=0.20.1 in /opt/conda/lib/python3.7/site-packages (from dash_bio) (0.23.2)\r\n",
      "Collecting colour\r\n",
      "  Downloading colour-0.1.5-py2.py3-none-any.whl (23 kB)\r\n",
      "Collecting GEOparse>=1.1.0\r\n",
      "  Downloading GEOparse-2.0.3.tar.gz (278 kB)\r\n",
      "     |████████████████████████████████| 278 kB 71.2 MB/s            \r\n",
      "\u001B[?25h  Preparing metadata (setup.py) ... \u001B[?25l-\b \bdone\r\n",
      "\u001B[?25hRequirement already satisfied: jsonschema in /opt/conda/lib/python3.7/site-packages (from dash_bio) (3.2.0)\r\n",
      "Collecting parmed\r\n",
      "  Downloading ParmEd-3.4.3.tar.gz (2.6 MB)\r\n",
      "     |████████████████████████████████| 2.6 MB 53.8 MB/s            \r\n",
      "\u001B[?25h  Preparing metadata (setup.py) ... \u001B[?25l-\b \b\\\b \bdone\r\n",
      "\u001B[?25hCollecting periodictable\r\n",
      "  Downloading periodictable-1.6.0.tar.gz (686 kB)\r\n",
      "     |████████████████████████████████| 686 kB 35.0 MB/s            \r\n",
      "\u001B[?25h  Preparing metadata (setup.py) ... \u001B[?25l-\b \bdone\r\n",
      "\u001B[?25hRequirement already satisfied: requests in /opt/conda/lib/python3.7/site-packages (from dash_bio) (2.26.0)\r\n",
      "Requirement already satisfied: biopython>=1.77 in /opt/conda/lib/python3.7/site-packages (from dash_bio) (1.79)\r\n",
      "Requirement already satisfied: numpy in /opt/conda/lib/python3.7/site-packages (from biopython>=1.77->dash_bio) (1.19.5)\r\n",
      "Requirement already satisfied: Flask>=1.0.4 in /opt/conda/lib/python3.7/site-packages (from dash>=1.6.1->dash_bio) (2.0.2)\r\n",
      "Requirement already satisfied: plotly>=5.0.0 in /opt/conda/lib/python3.7/site-packages (from dash>=1.6.1->dash_bio) (5.5.0)\r\n",
      "Collecting dash-table==5.0.0\r\n",
      "  Downloading dash_table-5.0.0.tar.gz (3.4 kB)\r\n",
      "  Preparing metadata (setup.py) ... \u001B[?25l-\b \bdone\r\n",
      "\u001B[?25hCollecting dash-html-components==2.0.0\r\n",
      "  Downloading dash_html_components-2.0.0.tar.gz (3.8 kB)\r\n",
      "  Preparing metadata (setup.py) ... \u001B[?25l-\b \bdone\r\n",
      "\u001B[?25hCollecting flask-compress\r\n",
      "  Downloading Flask_Compress-1.10.1-py3-none-any.whl (7.9 kB)\r\n",
      "Collecting dash-core-components==2.0.0\r\n",
      "  Downloading dash_core_components-2.0.0.tar.gz (3.4 kB)\r\n",
      "  Preparing metadata (setup.py) ... \u001B[?25l-\b \bdone\r\n",
      "\u001B[?25hRequirement already satisfied: tqdm>=4.31.1 in /opt/conda/lib/python3.7/site-packages (from GEOparse>=1.1.0->dash_bio) (4.62.3)\r\n",
      "Requirement already satisfied: python-dateutil>=2.7.3 in /opt/conda/lib/python3.7/site-packages (from pandas->dash_bio) (2.8.0)\r\n",
      "Requirement already satisfied: pytz>=2017.3 in /opt/conda/lib/python3.7/site-packages (from pandas->dash_bio) (2021.3)\r\n",
      "Requirement already satisfied: certifi>=2017.4.17 in /opt/conda/lib/python3.7/site-packages (from requests->dash_bio) (2021.10.8)\r\n",
      "Requirement already satisfied: urllib3<1.27,>=1.21.1 in /opt/conda/lib/python3.7/site-packages (from requests->dash_bio) (1.26.7)\r\n",
      "Requirement already satisfied: charset-normalizer~=2.0.0 in /opt/conda/lib/python3.7/site-packages (from requests->dash_bio) (2.0.8)\r\n",
      "Requirement already satisfied: idna<4,>=2.5 in /opt/conda/lib/python3.7/site-packages (from requests->dash_bio) (3.1)\r\n",
      "Requirement already satisfied: joblib>=0.11 in /opt/conda/lib/python3.7/site-packages (from scikit-learn>=0.20.1->dash_bio) (1.1.0)\r\n",
      "Requirement already satisfied: threadpoolctl>=2.0.0 in /opt/conda/lib/python3.7/site-packages (from scikit-learn>=0.20.1->dash_bio) (3.0.0)\r\n",
      "Requirement already satisfied: importlib-metadata in /opt/conda/lib/python3.7/site-packages (from jsonschema->dash_bio) (4.10.0)\r\n",
      "Requirement already satisfied: attrs>=17.4.0 in /opt/conda/lib/python3.7/site-packages (from jsonschema->dash_bio) (21.2.0)\r\n",
      "Requirement already satisfied: six>=1.11.0 in /opt/conda/lib/python3.7/site-packages (from jsonschema->dash_bio) (1.16.0)\r\n",
      "Requirement already satisfied: pyrsistent>=0.14.0 in /opt/conda/lib/python3.7/site-packages (from jsonschema->dash_bio) (0.18.0)\r\n",
      "Requirement already satisfied: setuptools in /opt/conda/lib/python3.7/site-packages (from jsonschema->dash_bio) (59.4.0)\r\n",
      "Requirement already satisfied: pyparsing in /opt/conda/lib/python3.7/site-packages (from periodictable->dash_bio) (3.0.6)\r\n",
      "Requirement already satisfied: click>=7.1.2 in /opt/conda/lib/python3.7/site-packages (from Flask>=1.0.4->dash>=1.6.1->dash_bio) (8.0.3)\r\n",
      "Requirement already satisfied: Jinja2>=3.0 in /opt/conda/lib/python3.7/site-packages (from Flask>=1.0.4->dash>=1.6.1->dash_bio) (3.0.3)\r\n",
      "Requirement already satisfied: itsdangerous>=2.0 in /opt/conda/lib/python3.7/site-packages (from Flask>=1.0.4->dash>=1.6.1->dash_bio) (2.0.1)\r\n",
      "Requirement already satisfied: Werkzeug>=2.0 in /opt/conda/lib/python3.7/site-packages (from Flask>=1.0.4->dash>=1.6.1->dash_bio) (2.0.2)\r\n",
      "Requirement already satisfied: tenacity>=6.2.0 in /opt/conda/lib/python3.7/site-packages (from plotly>=5.0.0->dash>=1.6.1->dash_bio) (8.0.1)\r\n",
      "Collecting brotli\r\n",
      "  Downloading Brotli-1.0.9-cp37-cp37m-manylinux1_x86_64.whl (357 kB)\r\n",
      "     |████████████████████████████████| 357 kB 61.4 MB/s            \r\n",
      "\u001B[?25hRequirement already satisfied: zipp>=0.5 in /opt/conda/lib/python3.7/site-packages (from importlib-metadata->jsonschema->dash_bio) (3.6.0)\r\n",
      "Requirement already satisfied: typing-extensions>=3.6.4 in /opt/conda/lib/python3.7/site-packages (from importlib-metadata->jsonschema->dash_bio) (3.10.0.2)\r\n",
      "Requirement already satisfied: MarkupSafe>=2.0 in /opt/conda/lib/python3.7/site-packages (from Jinja2>=3.0->Flask>=1.0.4->dash>=1.6.1->dash_bio) (2.0.1)\r\n",
      "Building wheels for collected packages: dash-bio, dash-core-components, dash-html-components, dash-table, GEOparse, parmed, periodictable\r\n",
      "  Building wheel for dash-bio (setup.py) ... \u001B[?25l-\b \b\\\b \b|\b \b/\b \b-\b \b\\\b \b|\b \b/\b \b-\b \b\\\b \b|\b \bdone\r\n",
      "\u001B[?25h  Created wheel for dash-bio: filename=dash_bio-1.0.1-py3-none-any.whl size=10337987 sha256=0ccb239fc4aba32bc0c6d31d30023de596097d03e815e14781ac28d8549a4318\r\n",
      "  Stored in directory: /root/.cache/pip/wheels/a1/55/43/3e93599d86a9b33f87079705e2fb5a9b7bc1675d4766e365aa\r\n",
      "  Building wheel for dash-core-components (setup.py) ... \u001B[?25l-\b \bdone\r\n",
      "\u001B[?25h  Created wheel for dash-core-components: filename=dash_core_components-2.0.0-py3-none-any.whl size=3821 sha256=bb8b777d9b17a9163b7335e9c2c367ae47dbad37877ff7f97905fe824bfde798\r\n",
      "  Stored in directory: /root/.cache/pip/wheels/00/f9/c7/1a6437d794ed753ea9bc9079e761d4fc803a1f1f5d3697b9ec\r\n",
      "  Building wheel for dash-html-components (setup.py) ... \u001B[?25l-\b \bdone\r\n",
      "\u001B[?25h  Created wheel for dash-html-components: filename=dash_html_components-2.0.0-py3-none-any.whl size=4089 sha256=17e3fcfae03436b9d2d6ab69321d3521ad42c6c2a9fddd29e7b6aa464287a901\r\n",
      "  Stored in directory: /root/.cache/pip/wheels/ec/6b/81/05aceabd8b27f724e2c96784016287cc1bfbc349ebfda451de\r\n",
      "  Building wheel for dash-table (setup.py) ... \u001B[?25l-\b \bdone\r\n",
      "\u001B[?25h  Created wheel for dash-table: filename=dash_table-5.0.0-py3-none-any.whl size=3911 sha256=b8dd975df14e1575f7fa23aa4f0ab1b53d4734d18569d95bf98ed8f88a684d1f\r\n",
      "  Stored in directory: /root/.cache/pip/wheels/85/5d/4e/7c276b57992951dbe770bf5caad6448d0539c510663aefd2e2\r\n",
      "  Building wheel for GEOparse (setup.py) ... \u001B[?25l-\b \b\\\b \bdone\r\n",
      "\u001B[?25h  Created wheel for GEOparse: filename=GEOparse-2.0.3-py3-none-any.whl size=29063 sha256=f927c46594e84151f9a4bf2f7565b182ae3f9efd98fa58d46bc16e1b4a0ce865\r\n",
      "  Stored in directory: /root/.cache/pip/wheels/4d/15/e8/fbf3b47444215d9728c20d7b35436b50086aa67c2ad6dcedad\r\n",
      "  Building wheel for parmed (setup.py) ... \u001B[?25l-\b \b\\\b \b|\b \b/\b \b-\b \b\\\b \b|\b \b/\b \bdone\r\n",
      "\u001B[?25h  Created wheel for parmed: filename=ParmEd-3.4.3-cp37-cp37m-linux_x86_64.whl size=923065 sha256=3c6ae213826b5ba273214096a86519ba4922d0d988de082225278ee0845dc193\r\n",
      "  Stored in directory: /root/.cache/pip/wheels/2f/26/b3/8cb8da47601e3057598009e903ba5d71e3a8ff08bcbc65cd1e\r\n",
      "  Building wheel for periodictable (setup.py) ... \u001B[?25l-\b \b\\\b \b|\b \bdone\r\n",
      "\u001B[?25h  Created wheel for periodictable: filename=periodictable-1.6.0-py3-none-any.whl size=749751 sha256=290f8771448f44017bf6c3a19a997dda3d926bfc78f619f05723e111447bf9d2\r\n",
      "  Stored in directory: /root/.cache/pip/wheels/31/d2/e0/764db3104c74c9d991315dc39d1647012d38d9e76851bb16ae\r\n",
      "Successfully built dash-bio dash-core-components dash-html-components dash-table GEOparse parmed periodictable\r\n",
      "Installing collected packages: brotli, flask-compress, dash-table, dash-html-components, dash-core-components, periodictable, parmed, GEOparse, dash, colour, dash-bio\r\n",
      "Successfully installed GEOparse-2.0.3 brotli-1.0.9 colour-0.1.5 dash-2.0.0 dash-bio-1.0.1 dash-core-components-2.0.0 dash-html-components-2.0.0 dash-table-5.0.0 flask-compress-1.10.1 parmed-3.4.3 periodictable-1.6.0\r\n",
      "\u001B[33mWARNING: Running pip as the 'root' user can result in broken permissions and conflicting behaviour with the system package manager. It is recommended to use a virtual environment instead: https://pip.pypa.io/warnings/venv\u001B[0m\r\n"
     ]
    },
    {
     "data": {
      "text/html": [
       "        <script type=\"text/javascript\">\n",
       "        window.PlotlyConfig = {MathJaxConfig: 'local'};\n",
       "        if (window.MathJax) {MathJax.Hub.Config({SVG: {font: \"STIX-Web\"}});}\n",
       "        if (typeof require !== 'undefined') {\n",
       "        require.undef(\"plotly\");\n",
       "        requirejs.config({\n",
       "            paths: {\n",
       "                'plotly': ['https://cdn.plot.ly/plotly-2.8.3.min']\n",
       "            }\n",
       "        });\n",
       "        require(['plotly'], function(Plotly) {\n",
       "            window._Plotly = Plotly;\n",
       "        });\n",
       "        }\n",
       "        </script>\n",
       "        "
      ]
     },
     "metadata": {},
     "output_type": "display_data"
    },
    {
     "name": "stdout",
     "output_type": "stream",
     "text": [
      "/kaggle/input/cve-and-cwe-mapping-dataset/synonym_mapping.json\n",
      "/kaggle/input/cve-and-cwe-mapping-dataset/Global_Dataset.xlsx\n",
      "/kaggle/input/cve-and-cwe-mapping-dataset/Research Concept/RC_cwe_paths.xlsx\n",
      "/kaggle/input/cve-and-cwe-mapping-dataset/Research Concept/tree_structure.json\n",
      "/kaggle/input/cve-and-cwe-mapping-dataset/Research Concept/RC_CWEs.csv\n",
      "/kaggle/input/cve-and-cwe-mapping-dataset/Research Concept/RC_Vulnerability_Dataset.xlsx\n",
      "/kaggle/input/cve-and-cwe-mapping-dataset/Software Development/tree_structure.json\n",
      "/kaggle/input/cve-and-cwe-mapping-dataset/Software Development/SD_cwe_paths.xlsx\n",
      "/kaggle/input/cve-and-cwe-mapping-dataset/Software Development/SD_Vulnerability_Dataset.xlsx\n",
      "/kaggle/input/cve-and-cwe-mapping-dataset/Software Development/SD_CWEs.csv\n",
      "/kaggle/input/cve-and-cwe-mapping-dataset/Hardware Design/HD_CWEs.csv\n",
      "/kaggle/input/cve-and-cwe-mapping-dataset/Hardware Design/tree_structure.json\n",
      "/kaggle/input/cve-and-cwe-mapping-dataset/Hardware Design/HD_Vulnerability_Dataset.xlsx\n",
      "/kaggle/input/cve-and-cwe-mapping-dataset/Hardware Design/HD_cwe_paths.xlsx\n",
      "/kaggle/input/skull28/sk.png\n",
      "/kaggle/input/skullll/sk.png\n",
      "/kaggle/input/logosq/cslogo.png\n"
     ]
    }
   ],
   "source": [
    "# This Python 3 environment comes with many helpful analytics libraries installed\n",
    "# It is defined by the kaggle/python Docker image: https://github.com/kaggle/docker-python\n",
    "# For example, here's several helpful packages to load\n",
    "\n",
    "import numpy as np # linear algebra\n",
    "import pandas as pd # data processing, CSV file I/O (e.g. pd.read_csv)\n",
    "!pip install openpyxl\n",
    "!pip install dash_bio\n",
    "# Input data files are available in the read-only \"../input/\" directory\n",
    "# For example, running this (by clicking run or pressing Shift+Enter) will list all files under the input directory\n",
    "from plotly.offline import init_notebook_mode,iplot\n",
    "init_notebook_mode(connected=True)\n",
    "import os\n",
    "import warnings\n",
    "warnings.filterwarnings(\"ignore\")\n",
    "for dirname, _, filenames in os.walk('/kaggle/input'):\n",
    "    for filename in filenames:\n",
    "        print(os.path.join(dirname, filename))\n",
    "\n",
    "# You can write up to 20GB to the current directory (/kaggle/working/) that gets preserved as output when you create a version using \"Save & Run All\" \n",
    "# You can also write temporary files to /kaggle/temp/, but they won't be saved outside of the current session"
   ]
  },
  {
   "cell_type": "code",
   "execution_count": 2,
   "id": "0dfe9d10",
   "metadata": {
    "_kg_hide-input": true,
    "execution": {
     "iopub.execute_input": "2022-01-24T20:32:00.561575Z",
     "iopub.status.busy": "2022-01-24T20:32:00.560899Z",
     "iopub.status.idle": "2022-01-24T20:32:22.574617Z",
     "shell.execute_reply": "2022-01-24T20:32:22.573580Z",
     "shell.execute_reply.started": "2022-01-24T18:51:20.543684Z"
    },
    "papermill": {
     "duration": 22.063581,
     "end_time": "2022-01-24T20:32:22.574772",
     "exception": false,
     "start_time": "2022-01-24T20:32:00.511191",
     "status": "completed"
    },
    "tags": []
   },
   "outputs": [],
   "source": [
    "data=pd.read_excel(\"../input/cve-and-cwe-mapping-dataset/Global_Dataset.xlsx\" )"
   ]
  },
  {
   "cell_type": "markdown",
   "id": "ecf23d21",
   "metadata": {
    "papermill": {
     "duration": 0.047563,
     "end_time": "2022-01-24T20:32:22.668790",
     "exception": false,
     "start_time": "2022-01-24T20:32:22.621227",
     "status": "completed"
    },
    "tags": []
   },
   "source": [
    "## **Common Vulnerabilities and Exposures (CVE)**\n",
    "\n",
    "The Common Vulnerabilities and Exposures (CVE) system provides a reference-method for publicly known information-security vulnerabilities and exposures. The United States' National Cybersecurity FFRDC, operated by The Mitre Corporation, maintains the system, with funding from the US National Cyber Security Division of the US Department of Homeland Security. The system was officially launched for the public in September 1999.\n",
    "\n",
    "The Security Content Automation Protocol uses CVE, and CVE IDs are listed on Mitre's system as well as in the US National Vulnerability Database.\n",
    "\n",
    "\n",
    "A vulnerability is a weakness in a piece of computer software which can be used to access things one should not be able to gain access to. For example, software which processes credit cards should not allow people to read the credit card numbers it processes, but hackers might use a vulnerability to steal credit card numbers. Talking about one specific vulnerability is hard because there are many pieces of software, sometimes with many vulnerabilities. CVE Identifiers give each vulnerability one different name, so people can talk about specific vulnerabilities by using their names.\n",
    "\n",
    "https://en.wikipedia.org/wiki/Common_Vulnerabilities_and_Exposures\n",
    "\n",
    "https://www.mitre.org/\n",
    "\n",
    "https://nvd.nist.gov/\n",
    "\n",
    "https://cve.mitre.org/index.html\n",
    "\n"
   ]
  },
  {
   "cell_type": "markdown",
   "id": "f1b737f1",
   "metadata": {
    "papermill": {
     "duration": 0.045815,
     "end_time": "2022-01-24T20:32:22.853117",
     "exception": false,
     "start_time": "2022-01-24T20:32:22.807302",
     "status": "completed"
    },
    "tags": []
   },
   "source": [
    "## **NATIONAL VULNERABILITY DATABASE (NVE)** \n",
    "\n",
    "The NVD is the U.S. government repository of standards based vulnerability management data represented using the Security Content Automation Protocol (SCAP). This data enables automation of vulnerability management, security measurement, and compliance. The NVD includes databases of security checklist references, security-related software flaws, misconfigurations, product names, and impact metrics.\n",
    "\n",
    "### Vulnerability Metrics\n",
    "\n",
    "The Common Vulnerability Scoring System (CVSS) is an open framework for communicating the characteristics and severity of software vulnerabilities. CVSS consists of three metric groups: Base, Temporal, and Environmental. The Base metrics produce a score ranging from 0 to 10, which can then be modified by scoring the Temporal and Environmental metrics. A CVSS score is also represented as a vector string, a compressed textual representation of the values used to derive the score. Thus, CVSS is well suited as a standard measurement system for industries, organizations, and governments that need accurate and consistent vulnerability severity scores. Two common uses of CVSS are calculating the severity of vulnerabilities discovered on one's systems and as a factor in prioritization of vulnerability remediation activities. The National Vulnerability Database (NVD) provides CVSS scores for almost all known vulnerabilities.\n",
    "\n",
    "The NVD supports both Common Vulnerability Scoring System (CVSS) v2.0 and v3.X standards. The NVD provides CVSS 'base scores' which represent the innate characteristics of each vulnerability. The NVD does not currently provide 'temporal scores' (metrics that change over time due to events external to the vulnerability) or 'environmental scores' (scores customized to reflect the impact of the vulnerability on your organization). However, the NVD does supply a CVSS calculator for both CVSS v2 and v3 to allow you to add temporal and environmental score data. https://nvd.nist.gov/vuln-metrics/cvss\n",
    "\n",
    "\n",
    "![](https://user-images.githubusercontent.com/7767322/101494833-1c5a6400-3968-11eb-8a39-3b20bc93d0f4.png) "
   ]
  },
  {
   "cell_type": "markdown",
   "id": "9e8485bc",
   "metadata": {
    "papermill": {
     "duration": 0.045062,
     "end_time": "2022-01-24T20:32:22.943960",
     "exception": false,
     "start_time": "2022-01-24T20:32:22.898898",
     "status": "completed"
    },
    "tags": []
   },
   "source": [
    "## **About CWE**\n",
    "\n",
    "Common Weakness Enumeration (CWE™) is a community-developed list of common software and hardware weakness types that have security ramifications. “Weaknesses” are flaws, faults, bugs, or other errors in software or hardware implementation, code, design, or architecture that if left unaddressed could result in systems, networks, or hardware being vulnerable to attack. The CWE List and associated classification taxonomy serve as a language that can be used to identify and describe these weaknesses in terms of CWEs.\n",
    "\n",
    "Targeted at both the development and security practitioner communities, the main goal of CWE is to stop vulnerabilities at the source by educating software and hardware architects, designers, programmers, and acquirers on how to eliminate the most common mistakes before products are delivered. Ultimately, use of CWE helps prevent the kinds of security vulnerabilities that have plagued the software and hardware industries and put enterprises at risk.\n",
    "\n",
    "https://cwe.mitre.org/about/index.html"
   ]
  },
  {
   "cell_type": "markdown",
   "id": "d18c7c6a",
   "metadata": {
    "papermill": {
     "duration": 0.045691,
     "end_time": "2022-01-24T20:32:23.035731",
     "exception": false,
     "start_time": "2022-01-24T20:32:22.990040",
     "status": "completed"
    },
    "tags": []
   },
   "source": [
    "### 1. GLOBAL DATASET "
   ]
  },
  {
   "cell_type": "markdown",
   "id": "6e4dbd46",
   "metadata": {
    "papermill": {
     "duration": 0.045691,
     "end_time": "2022-01-24T20:32:23.128598",
     "exception": false,
     "start_time": "2022-01-24T20:32:23.082907",
     "status": "completed"
    },
    "tags": []
   },
   "source": [
    "Global dataset contains 150k+ vulnerabilities reported in NVD during the time period of 1999-2021. It includes the various information of the vulnerability including unique id, description, severity, severity scores, and the CWE category under which the vulnerability falls. Multiple records were used if a vulnerability is mapped to more than one category."
   ]
  },
  {
   "cell_type": "code",
   "execution_count": 3,
   "id": "37fbe759",
   "metadata": {
    "_kg_hide-input": true,
    "execution": {
     "iopub.execute_input": "2022-01-24T20:32:23.223724Z",
     "iopub.status.busy": "2022-01-24T20:32:23.223034Z",
     "iopub.status.idle": "2022-01-24T20:32:24.295518Z",
     "shell.execute_reply": "2022-01-24T20:32:24.296142Z",
     "shell.execute_reply.started": "2022-01-24T18:51:52.696769Z"
    },
    "papermill": {
     "duration": 1.122133,
     "end_time": "2022-01-24T20:32:24.296403",
     "exception": false,
     "start_time": "2022-01-24T20:32:23.174270",
     "status": "completed"
    },
    "tags": []
   },
   "outputs": [
    {
     "name": "stdout",
     "output_type": "stream",
     "text": [
      "<class 'pandas.core.frame.DataFrame'>\n",
      "RangeIndex: 169566 entries, 0 to 169565\n",
      "Data columns (total 8 columns):\n",
      " #   Column       Non-Null Count   Dtype \n",
      "---  ------       --------------   ----- \n",
      " 0   ID           169566 non-null  int64 \n",
      " 1   CVE-ID       169566 non-null  object\n",
      " 2   Year         169566 non-null  object\n",
      " 3   CVSS-V3      169566 non-null  object\n",
      " 4   CVSS-V2      169566 non-null  object\n",
      " 5   SEVERITY     169566 non-null  object\n",
      " 6   DESCRIPTION  169566 non-null  object\n",
      " 7   CWE-ID       169566 non-null  object\n",
      "dtypes: int64(1), object(7)\n",
      "memory usage: 10.3+ MB\n"
     ]
    }
   ],
   "source": [
    "year_list=[]\n",
    "for i in range(0,len(data[\"CVE-ID\"])):\n",
    "    a=data[\"CVE-ID\"][i].split(\"-\")[1]\n",
    "    year_list.append(a)\n",
    "\n",
    "data.insert(loc=2, column='Year', value=year_list)\n",
    "data.info()"
   ]
  },
  {
   "cell_type": "markdown",
   "id": "ddef886b",
   "metadata": {
    "papermill": {
     "duration": 0.046921,
     "end_time": "2022-01-24T20:32:24.391149",
     "exception": false,
     "start_time": "2022-01-24T20:32:24.344228",
     "status": "completed"
    },
    "tags": []
   },
   "source": [
    "Following table shows the first 10 entries of the dataset."
   ]
  },
  {
   "cell_type": "code",
   "execution_count": 4,
   "id": "cd0712cd",
   "metadata": {
    "_kg_hide-input": true,
    "execution": {
     "iopub.execute_input": "2022-01-24T20:32:24.493071Z",
     "iopub.status.busy": "2022-01-24T20:32:24.492152Z",
     "iopub.status.idle": "2022-01-24T20:32:24.612724Z",
     "shell.execute_reply": "2022-01-24T20:32:24.613189Z",
     "shell.execute_reply.started": "2022-01-24T18:51:54.242661Z"
    },
    "papermill": {
     "duration": 0.173825,
     "end_time": "2022-01-24T20:32:24.613407",
     "exception": false,
     "start_time": "2022-01-24T20:32:24.439582",
     "status": "completed"
    },
    "tags": []
   },
   "outputs": [
    {
     "data": {
      "application/vnd.plotly.v1+json": {
       "config": {
        "plotlyServerURL": "https://plot.ly"
       },
       "data": [
        {
         "cells": {
          "align": "left",
          "fill": {
           "color": "mistyrose"
          },
          "line": {
           "color": "darkslategray"
          },
          "values": [
           [
            1,
            2,
            3,
            4,
            5,
            6,
            7,
            8,
            9,
            10
           ],
           [
            "CVE-1999-0001",
            "CVE-1999-0002",
            "CVE-1999-0003",
            "CVE-1999-0004",
            "CVE-1999-0005",
            "CVE-1999-0006",
            "CVE-1999-0007",
            "CVE-1999-0008",
            "CVE-1999-0009",
            "CVE-1999-0010"
           ],
           [
            "1999",
            "1999",
            "1999",
            "1999",
            "1999",
            "1999",
            "1999",
            "1999",
            "1999",
            "1999"
           ],
           [
            "None",
            "None",
            "None",
            "None",
            "None",
            "None",
            "None",
            "None",
            "None",
            "None"
           ],
           [
            5,
            10,
            10,
            5,
            10,
            10,
            5,
            10,
            10,
            5
           ],
           [
            "MEDIUM",
            "HIGH",
            "HIGH",
            "MEDIUM",
            "HIGH",
            "HIGH",
            "MEDIUM",
            "HIGH",
            "HIGH",
            "MEDIUM"
           ],
           [
            "ip_input.c in BSD-derived TCP/IP implementations allows remote attackers to cause a denial of service (crash or hang) via crafted packets.",
            "Buffer overflow in NFS mountd gives root access to remote attackers, mostly in Linux systems.",
            "Execute commands as root via buffer overflow in Tooltalk database server (rpc.ttdbserverd).",
            "MIME buffer overflow in email clients, e.g. Solaris mailtool and Outlook.",
            "Arbitrary command execution via IMAP buffer overflow in authenticate command.",
            "Buffer overflow in POP servers based on BSD/Qualcomm's qpopper allows remote attackers to gain root access using a long PASS command.",
            "Information from SSL-encrypted sessions via PKCS #1.",
            "Buffer overflow in NIS+, in Sun's rpc.nisd program.",
            "Inverse query buffer overflow in BIND 4.9 and BIND 8 Releases.",
            "Denial of Service vulnerability in BIND 8 Releases via maliciously formatted DNS messages."
           ],
           [
            "CWE-20",
            "CWE-119",
            "NVD-CWE-Other",
            "NVD-CWE-Other",
            "NVD-CWE-Other",
            "NVD-CWE-Other",
            "CWE-327",
            "NVD-CWE-Other",
            "NVD-CWE-Other",
            "NVD-CWE-Other"
           ]
          ]
         },
         "header": {
          "align": "left",
          "fill": {
           "color": "indianred"
          },
          "line": {
           "color": "darkslategray"
          },
          "values": [
           "ID",
           "CVE-ID",
           "Year",
           "CVSS-V3",
           "CVSS-V2",
           "SEVERITY",
           "DESCRIPTION",
           "CWE-ID"
          ]
         },
         "type": "table"
        }
       ],
       "layout": {
        "height": 1000,
        "template": {
         "data": {
          "bar": [
           {
            "error_x": {
             "color": "#2a3f5f"
            },
            "error_y": {
             "color": "#2a3f5f"
            },
            "marker": {
             "line": {
              "color": "#E5ECF6",
              "width": 0.5
             },
             "pattern": {
              "fillmode": "overlay",
              "size": 10,
              "solidity": 0.2
             }
            },
            "type": "bar"
           }
          ],
          "barpolar": [
           {
            "marker": {
             "line": {
              "color": "#E5ECF6",
              "width": 0.5
             },
             "pattern": {
              "fillmode": "overlay",
              "size": 10,
              "solidity": 0.2
             }
            },
            "type": "barpolar"
           }
          ],
          "carpet": [
           {
            "aaxis": {
             "endlinecolor": "#2a3f5f",
             "gridcolor": "white",
             "linecolor": "white",
             "minorgridcolor": "white",
             "startlinecolor": "#2a3f5f"
            },
            "baxis": {
             "endlinecolor": "#2a3f5f",
             "gridcolor": "white",
             "linecolor": "white",
             "minorgridcolor": "white",
             "startlinecolor": "#2a3f5f"
            },
            "type": "carpet"
           }
          ],
          "choropleth": [
           {
            "colorbar": {
             "outlinewidth": 0,
             "ticks": ""
            },
            "type": "choropleth"
           }
          ],
          "contour": [
           {
            "colorbar": {
             "outlinewidth": 0,
             "ticks": ""
            },
            "colorscale": [
             [
              0.0,
              "#0d0887"
             ],
             [
              0.1111111111111111,
              "#46039f"
             ],
             [
              0.2222222222222222,
              "#7201a8"
             ],
             [
              0.3333333333333333,
              "#9c179e"
             ],
             [
              0.4444444444444444,
              "#bd3786"
             ],
             [
              0.5555555555555556,
              "#d8576b"
             ],
             [
              0.6666666666666666,
              "#ed7953"
             ],
             [
              0.7777777777777778,
              "#fb9f3a"
             ],
             [
              0.8888888888888888,
              "#fdca26"
             ],
             [
              1.0,
              "#f0f921"
             ]
            ],
            "type": "contour"
           }
          ],
          "contourcarpet": [
           {
            "colorbar": {
             "outlinewidth": 0,
             "ticks": ""
            },
            "type": "contourcarpet"
           }
          ],
          "heatmap": [
           {
            "colorbar": {
             "outlinewidth": 0,
             "ticks": ""
            },
            "colorscale": [
             [
              0.0,
              "#0d0887"
             ],
             [
              0.1111111111111111,
              "#46039f"
             ],
             [
              0.2222222222222222,
              "#7201a8"
             ],
             [
              0.3333333333333333,
              "#9c179e"
             ],
             [
              0.4444444444444444,
              "#bd3786"
             ],
             [
              0.5555555555555556,
              "#d8576b"
             ],
             [
              0.6666666666666666,
              "#ed7953"
             ],
             [
              0.7777777777777778,
              "#fb9f3a"
             ],
             [
              0.8888888888888888,
              "#fdca26"
             ],
             [
              1.0,
              "#f0f921"
             ]
            ],
            "type": "heatmap"
           }
          ],
          "heatmapgl": [
           {
            "colorbar": {
             "outlinewidth": 0,
             "ticks": ""
            },
            "colorscale": [
             [
              0.0,
              "#0d0887"
             ],
             [
              0.1111111111111111,
              "#46039f"
             ],
             [
              0.2222222222222222,
              "#7201a8"
             ],
             [
              0.3333333333333333,
              "#9c179e"
             ],
             [
              0.4444444444444444,
              "#bd3786"
             ],
             [
              0.5555555555555556,
              "#d8576b"
             ],
             [
              0.6666666666666666,
              "#ed7953"
             ],
             [
              0.7777777777777778,
              "#fb9f3a"
             ],
             [
              0.8888888888888888,
              "#fdca26"
             ],
             [
              1.0,
              "#f0f921"
             ]
            ],
            "type": "heatmapgl"
           }
          ],
          "histogram": [
           {
            "marker": {
             "pattern": {
              "fillmode": "overlay",
              "size": 10,
              "solidity": 0.2
             }
            },
            "type": "histogram"
           }
          ],
          "histogram2d": [
           {
            "colorbar": {
             "outlinewidth": 0,
             "ticks": ""
            },
            "colorscale": [
             [
              0.0,
              "#0d0887"
             ],
             [
              0.1111111111111111,
              "#46039f"
             ],
             [
              0.2222222222222222,
              "#7201a8"
             ],
             [
              0.3333333333333333,
              "#9c179e"
             ],
             [
              0.4444444444444444,
              "#bd3786"
             ],
             [
              0.5555555555555556,
              "#d8576b"
             ],
             [
              0.6666666666666666,
              "#ed7953"
             ],
             [
              0.7777777777777778,
              "#fb9f3a"
             ],
             [
              0.8888888888888888,
              "#fdca26"
             ],
             [
              1.0,
              "#f0f921"
             ]
            ],
            "type": "histogram2d"
           }
          ],
          "histogram2dcontour": [
           {
            "colorbar": {
             "outlinewidth": 0,
             "ticks": ""
            },
            "colorscale": [
             [
              0.0,
              "#0d0887"
             ],
             [
              0.1111111111111111,
              "#46039f"
             ],
             [
              0.2222222222222222,
              "#7201a8"
             ],
             [
              0.3333333333333333,
              "#9c179e"
             ],
             [
              0.4444444444444444,
              "#bd3786"
             ],
             [
              0.5555555555555556,
              "#d8576b"
             ],
             [
              0.6666666666666666,
              "#ed7953"
             ],
             [
              0.7777777777777778,
              "#fb9f3a"
             ],
             [
              0.8888888888888888,
              "#fdca26"
             ],
             [
              1.0,
              "#f0f921"
             ]
            ],
            "type": "histogram2dcontour"
           }
          ],
          "mesh3d": [
           {
            "colorbar": {
             "outlinewidth": 0,
             "ticks": ""
            },
            "type": "mesh3d"
           }
          ],
          "parcoords": [
           {
            "line": {
             "colorbar": {
              "outlinewidth": 0,
              "ticks": ""
             }
            },
            "type": "parcoords"
           }
          ],
          "pie": [
           {
            "automargin": true,
            "type": "pie"
           }
          ],
          "scatter": [
           {
            "marker": {
             "colorbar": {
              "outlinewidth": 0,
              "ticks": ""
             }
            },
            "type": "scatter"
           }
          ],
          "scatter3d": [
           {
            "line": {
             "colorbar": {
              "outlinewidth": 0,
              "ticks": ""
             }
            },
            "marker": {
             "colorbar": {
              "outlinewidth": 0,
              "ticks": ""
             }
            },
            "type": "scatter3d"
           }
          ],
          "scattercarpet": [
           {
            "marker": {
             "colorbar": {
              "outlinewidth": 0,
              "ticks": ""
             }
            },
            "type": "scattercarpet"
           }
          ],
          "scattergeo": [
           {
            "marker": {
             "colorbar": {
              "outlinewidth": 0,
              "ticks": ""
             }
            },
            "type": "scattergeo"
           }
          ],
          "scattergl": [
           {
            "marker": {
             "colorbar": {
              "outlinewidth": 0,
              "ticks": ""
             }
            },
            "type": "scattergl"
           }
          ],
          "scattermapbox": [
           {
            "marker": {
             "colorbar": {
              "outlinewidth": 0,
              "ticks": ""
             }
            },
            "type": "scattermapbox"
           }
          ],
          "scatterpolar": [
           {
            "marker": {
             "colorbar": {
              "outlinewidth": 0,
              "ticks": ""
             }
            },
            "type": "scatterpolar"
           }
          ],
          "scatterpolargl": [
           {
            "marker": {
             "colorbar": {
              "outlinewidth": 0,
              "ticks": ""
             }
            },
            "type": "scatterpolargl"
           }
          ],
          "scatterternary": [
           {
            "marker": {
             "colorbar": {
              "outlinewidth": 0,
              "ticks": ""
             }
            },
            "type": "scatterternary"
           }
          ],
          "surface": [
           {
            "colorbar": {
             "outlinewidth": 0,
             "ticks": ""
            },
            "colorscale": [
             [
              0.0,
              "#0d0887"
             ],
             [
              0.1111111111111111,
              "#46039f"
             ],
             [
              0.2222222222222222,
              "#7201a8"
             ],
             [
              0.3333333333333333,
              "#9c179e"
             ],
             [
              0.4444444444444444,
              "#bd3786"
             ],
             [
              0.5555555555555556,
              "#d8576b"
             ],
             [
              0.6666666666666666,
              "#ed7953"
             ],
             [
              0.7777777777777778,
              "#fb9f3a"
             ],
             [
              0.8888888888888888,
              "#fdca26"
             ],
             [
              1.0,
              "#f0f921"
             ]
            ],
            "type": "surface"
           }
          ],
          "table": [
           {
            "cells": {
             "fill": {
              "color": "#EBF0F8"
             },
             "line": {
              "color": "white"
             }
            },
            "header": {
             "fill": {
              "color": "#C8D4E3"
             },
             "line": {
              "color": "white"
             }
            },
            "type": "table"
           }
          ]
         },
         "layout": {
          "annotationdefaults": {
           "arrowcolor": "#2a3f5f",
           "arrowhead": 0,
           "arrowwidth": 1
          },
          "autotypenumbers": "strict",
          "coloraxis": {
           "colorbar": {
            "outlinewidth": 0,
            "ticks": ""
           }
          },
          "colorscale": {
           "diverging": [
            [
             0,
             "#8e0152"
            ],
            [
             0.1,
             "#c51b7d"
            ],
            [
             0.2,
             "#de77ae"
            ],
            [
             0.3,
             "#f1b6da"
            ],
            [
             0.4,
             "#fde0ef"
            ],
            [
             0.5,
             "#f7f7f7"
            ],
            [
             0.6,
             "#e6f5d0"
            ],
            [
             0.7,
             "#b8e186"
            ],
            [
             0.8,
             "#7fbc41"
            ],
            [
             0.9,
             "#4d9221"
            ],
            [
             1,
             "#276419"
            ]
           ],
           "sequential": [
            [
             0.0,
             "#0d0887"
            ],
            [
             0.1111111111111111,
             "#46039f"
            ],
            [
             0.2222222222222222,
             "#7201a8"
            ],
            [
             0.3333333333333333,
             "#9c179e"
            ],
            [
             0.4444444444444444,
             "#bd3786"
            ],
            [
             0.5555555555555556,
             "#d8576b"
            ],
            [
             0.6666666666666666,
             "#ed7953"
            ],
            [
             0.7777777777777778,
             "#fb9f3a"
            ],
            [
             0.8888888888888888,
             "#fdca26"
            ],
            [
             1.0,
             "#f0f921"
            ]
           ],
           "sequentialminus": [
            [
             0.0,
             "#0d0887"
            ],
            [
             0.1111111111111111,
             "#46039f"
            ],
            [
             0.2222222222222222,
             "#7201a8"
            ],
            [
             0.3333333333333333,
             "#9c179e"
            ],
            [
             0.4444444444444444,
             "#bd3786"
            ],
            [
             0.5555555555555556,
             "#d8576b"
            ],
            [
             0.6666666666666666,
             "#ed7953"
            ],
            [
             0.7777777777777778,
             "#fb9f3a"
            ],
            [
             0.8888888888888888,
             "#fdca26"
            ],
            [
             1.0,
             "#f0f921"
            ]
           ]
          },
          "colorway": [
           "#636efa",
           "#EF553B",
           "#00cc96",
           "#ab63fa",
           "#FFA15A",
           "#19d3f3",
           "#FF6692",
           "#B6E880",
           "#FF97FF",
           "#FECB52"
          ],
          "font": {
           "color": "#2a3f5f"
          },
          "geo": {
           "bgcolor": "white",
           "lakecolor": "white",
           "landcolor": "#E5ECF6",
           "showlakes": true,
           "showland": true,
           "subunitcolor": "white"
          },
          "hoverlabel": {
           "align": "left"
          },
          "hovermode": "closest",
          "mapbox": {
           "style": "light"
          },
          "paper_bgcolor": "white",
          "plot_bgcolor": "#E5ECF6",
          "polar": {
           "angularaxis": {
            "gridcolor": "white",
            "linecolor": "white",
            "ticks": ""
           },
           "bgcolor": "#E5ECF6",
           "radialaxis": {
            "gridcolor": "white",
            "linecolor": "white",
            "ticks": ""
           }
          },
          "scene": {
           "xaxis": {
            "backgroundcolor": "#E5ECF6",
            "gridcolor": "white",
            "gridwidth": 2,
            "linecolor": "white",
            "showbackground": true,
            "ticks": "",
            "zerolinecolor": "white"
           },
           "yaxis": {
            "backgroundcolor": "#E5ECF6",
            "gridcolor": "white",
            "gridwidth": 2,
            "linecolor": "white",
            "showbackground": true,
            "ticks": "",
            "zerolinecolor": "white"
           },
           "zaxis": {
            "backgroundcolor": "#E5ECF6",
            "gridcolor": "white",
            "gridwidth": 2,
            "linecolor": "white",
            "showbackground": true,
            "ticks": "",
            "zerolinecolor": "white"
           }
          },
          "shapedefaults": {
           "line": {
            "color": "#2a3f5f"
           }
          },
          "ternary": {
           "aaxis": {
            "gridcolor": "white",
            "linecolor": "white",
            "ticks": ""
           },
           "baxis": {
            "gridcolor": "white",
            "linecolor": "white",
            "ticks": ""
           },
           "bgcolor": "#E5ECF6",
           "caxis": {
            "gridcolor": "white",
            "linecolor": "white",
            "ticks": ""
           }
          },
          "title": {
           "x": 0.05
          },
          "xaxis": {
           "automargin": true,
           "gridcolor": "white",
           "linecolor": "white",
           "ticks": "",
           "title": {
            "standoff": 15
           },
           "zerolinecolor": "white",
           "zerolinewidth": 2
          },
          "yaxis": {
           "automargin": true,
           "gridcolor": "white",
           "linecolor": "white",
           "ticks": "",
           "title": {
            "standoff": 15
           },
           "zerolinecolor": "white",
           "zerolinewidth": 2
          }
         }
        },
        "width": 1000
       }
      },
      "text/html": [
       "<div>                            <div id=\"a4914c75-bfda-49cb-a07c-37c1b7e43f00\" class=\"plotly-graph-div\" style=\"height:1000px; width:1000px;\"></div>            <script type=\"text/javascript\">                require([\"plotly\"], function(Plotly) {                    window.PLOTLYENV=window.PLOTLYENV || {};                                    if (document.getElementById(\"a4914c75-bfda-49cb-a07c-37c1b7e43f00\")) {                    Plotly.newPlot(                        \"a4914c75-bfda-49cb-a07c-37c1b7e43f00\",                        [{\"cells\":{\"align\":\"left\",\"fill\":{\"color\":\"mistyrose\"},\"line\":{\"color\":\"darkslategray\"},\"values\":[[1,2,3,4,5,6,7,8,9,10],[\"CVE-1999-0001\",\"CVE-1999-0002\",\"CVE-1999-0003\",\"CVE-1999-0004\",\"CVE-1999-0005\",\"CVE-1999-0006\",\"CVE-1999-0007\",\"CVE-1999-0008\",\"CVE-1999-0009\",\"CVE-1999-0010\"],[\"1999\",\"1999\",\"1999\",\"1999\",\"1999\",\"1999\",\"1999\",\"1999\",\"1999\",\"1999\"],[\"None\",\"None\",\"None\",\"None\",\"None\",\"None\",\"None\",\"None\",\"None\",\"None\"],[5,10,10,5,10,10,5,10,10,5],[\"MEDIUM\",\"HIGH\",\"HIGH\",\"MEDIUM\",\"HIGH\",\"HIGH\",\"MEDIUM\",\"HIGH\",\"HIGH\",\"MEDIUM\"],[\"ip_input.c in BSD-derived TCP/IP implementations allows remote attackers to cause a denial of service (crash or hang) via crafted packets.\",\"Buffer overflow in NFS mountd gives root access to remote attackers, mostly in Linux systems.\",\"Execute commands as root via buffer overflow in Tooltalk database server (rpc.ttdbserverd).\",\"MIME buffer overflow in email clients, e.g. Solaris mailtool and Outlook.\",\"Arbitrary command execution via IMAP buffer overflow in authenticate command.\",\"Buffer overflow in POP servers based on BSD/Qualcomm's qpopper allows remote attackers to gain root access using a long PASS command.\",\"Information from SSL-encrypted sessions via PKCS #1.\",\"Buffer overflow in NIS+, in Sun's rpc.nisd program.\",\"Inverse query buffer overflow in BIND 4.9 and BIND 8 Releases.\",\"Denial of Service vulnerability in BIND 8 Releases via maliciously formatted DNS messages.\"],[\"CWE-20\",\"CWE-119\",\"NVD-CWE-Other\",\"NVD-CWE-Other\",\"NVD-CWE-Other\",\"NVD-CWE-Other\",\"CWE-327\",\"NVD-CWE-Other\",\"NVD-CWE-Other\",\"NVD-CWE-Other\"]]},\"header\":{\"align\":\"left\",\"fill\":{\"color\":\"indianred\"},\"line\":{\"color\":\"darkslategray\"},\"values\":[\"ID\",\"CVE-ID\",\"Year\",\"CVSS-V3\",\"CVSS-V2\",\"SEVERITY\",\"DESCRIPTION\",\"CWE-ID\"]},\"type\":\"table\"}],                        {\"template\":{\"data\":{\"bar\":[{\"error_x\":{\"color\":\"#2a3f5f\"},\"error_y\":{\"color\":\"#2a3f5f\"},\"marker\":{\"line\":{\"color\":\"#E5ECF6\",\"width\":0.5},\"pattern\":{\"fillmode\":\"overlay\",\"size\":10,\"solidity\":0.2}},\"type\":\"bar\"}],\"barpolar\":[{\"marker\":{\"line\":{\"color\":\"#E5ECF6\",\"width\":0.5},\"pattern\":{\"fillmode\":\"overlay\",\"size\":10,\"solidity\":0.2}},\"type\":\"barpolar\"}],\"carpet\":[{\"aaxis\":{\"endlinecolor\":\"#2a3f5f\",\"gridcolor\":\"white\",\"linecolor\":\"white\",\"minorgridcolor\":\"white\",\"startlinecolor\":\"#2a3f5f\"},\"baxis\":{\"endlinecolor\":\"#2a3f5f\",\"gridcolor\":\"white\",\"linecolor\":\"white\",\"minorgridcolor\":\"white\",\"startlinecolor\":\"#2a3f5f\"},\"type\":\"carpet\"}],\"choropleth\":[{\"colorbar\":{\"outlinewidth\":0,\"ticks\":\"\"},\"type\":\"choropleth\"}],\"contour\":[{\"colorbar\":{\"outlinewidth\":0,\"ticks\":\"\"},\"colorscale\":[[0.0,\"#0d0887\"],[0.1111111111111111,\"#46039f\"],[0.2222222222222222,\"#7201a8\"],[0.3333333333333333,\"#9c179e\"],[0.4444444444444444,\"#bd3786\"],[0.5555555555555556,\"#d8576b\"],[0.6666666666666666,\"#ed7953\"],[0.7777777777777778,\"#fb9f3a\"],[0.8888888888888888,\"#fdca26\"],[1.0,\"#f0f921\"]],\"type\":\"contour\"}],\"contourcarpet\":[{\"colorbar\":{\"outlinewidth\":0,\"ticks\":\"\"},\"type\":\"contourcarpet\"}],\"heatmap\":[{\"colorbar\":{\"outlinewidth\":0,\"ticks\":\"\"},\"colorscale\":[[0.0,\"#0d0887\"],[0.1111111111111111,\"#46039f\"],[0.2222222222222222,\"#7201a8\"],[0.3333333333333333,\"#9c179e\"],[0.4444444444444444,\"#bd3786\"],[0.5555555555555556,\"#d8576b\"],[0.6666666666666666,\"#ed7953\"],[0.7777777777777778,\"#fb9f3a\"],[0.8888888888888888,\"#fdca26\"],[1.0,\"#f0f921\"]],\"type\":\"heatmap\"}],\"heatmapgl\":[{\"colorbar\":{\"outlinewidth\":0,\"ticks\":\"\"},\"colorscale\":[[0.0,\"#0d0887\"],[0.1111111111111111,\"#46039f\"],[0.2222222222222222,\"#7201a8\"],[0.3333333333333333,\"#9c179e\"],[0.4444444444444444,\"#bd3786\"],[0.5555555555555556,\"#d8576b\"],[0.6666666666666666,\"#ed7953\"],[0.7777777777777778,\"#fb9f3a\"],[0.8888888888888888,\"#fdca26\"],[1.0,\"#f0f921\"]],\"type\":\"heatmapgl\"}],\"histogram\":[{\"marker\":{\"pattern\":{\"fillmode\":\"overlay\",\"size\":10,\"solidity\":0.2}},\"type\":\"histogram\"}],\"histogram2d\":[{\"colorbar\":{\"outlinewidth\":0,\"ticks\":\"\"},\"colorscale\":[[0.0,\"#0d0887\"],[0.1111111111111111,\"#46039f\"],[0.2222222222222222,\"#7201a8\"],[0.3333333333333333,\"#9c179e\"],[0.4444444444444444,\"#bd3786\"],[0.5555555555555556,\"#d8576b\"],[0.6666666666666666,\"#ed7953\"],[0.7777777777777778,\"#fb9f3a\"],[0.8888888888888888,\"#fdca26\"],[1.0,\"#f0f921\"]],\"type\":\"histogram2d\"}],\"histogram2dcontour\":[{\"colorbar\":{\"outlinewidth\":0,\"ticks\":\"\"},\"colorscale\":[[0.0,\"#0d0887\"],[0.1111111111111111,\"#46039f\"],[0.2222222222222222,\"#7201a8\"],[0.3333333333333333,\"#9c179e\"],[0.4444444444444444,\"#bd3786\"],[0.5555555555555556,\"#d8576b\"],[0.6666666666666666,\"#ed7953\"],[0.7777777777777778,\"#fb9f3a\"],[0.8888888888888888,\"#fdca26\"],[1.0,\"#f0f921\"]],\"type\":\"histogram2dcontour\"}],\"mesh3d\":[{\"colorbar\":{\"outlinewidth\":0,\"ticks\":\"\"},\"type\":\"mesh3d\"}],\"parcoords\":[{\"line\":{\"colorbar\":{\"outlinewidth\":0,\"ticks\":\"\"}},\"type\":\"parcoords\"}],\"pie\":[{\"automargin\":true,\"type\":\"pie\"}],\"scatter\":[{\"marker\":{\"colorbar\":{\"outlinewidth\":0,\"ticks\":\"\"}},\"type\":\"scatter\"}],\"scatter3d\":[{\"line\":{\"colorbar\":{\"outlinewidth\":0,\"ticks\":\"\"}},\"marker\":{\"colorbar\":{\"outlinewidth\":0,\"ticks\":\"\"}},\"type\":\"scatter3d\"}],\"scattercarpet\":[{\"marker\":{\"colorbar\":{\"outlinewidth\":0,\"ticks\":\"\"}},\"type\":\"scattercarpet\"}],\"scattergeo\":[{\"marker\":{\"colorbar\":{\"outlinewidth\":0,\"ticks\":\"\"}},\"type\":\"scattergeo\"}],\"scattergl\":[{\"marker\":{\"colorbar\":{\"outlinewidth\":0,\"ticks\":\"\"}},\"type\":\"scattergl\"}],\"scattermapbox\":[{\"marker\":{\"colorbar\":{\"outlinewidth\":0,\"ticks\":\"\"}},\"type\":\"scattermapbox\"}],\"scatterpolar\":[{\"marker\":{\"colorbar\":{\"outlinewidth\":0,\"ticks\":\"\"}},\"type\":\"scatterpolar\"}],\"scatterpolargl\":[{\"marker\":{\"colorbar\":{\"outlinewidth\":0,\"ticks\":\"\"}},\"type\":\"scatterpolargl\"}],\"scatterternary\":[{\"marker\":{\"colorbar\":{\"outlinewidth\":0,\"ticks\":\"\"}},\"type\":\"scatterternary\"}],\"surface\":[{\"colorbar\":{\"outlinewidth\":0,\"ticks\":\"\"},\"colorscale\":[[0.0,\"#0d0887\"],[0.1111111111111111,\"#46039f\"],[0.2222222222222222,\"#7201a8\"],[0.3333333333333333,\"#9c179e\"],[0.4444444444444444,\"#bd3786\"],[0.5555555555555556,\"#d8576b\"],[0.6666666666666666,\"#ed7953\"],[0.7777777777777778,\"#fb9f3a\"],[0.8888888888888888,\"#fdca26\"],[1.0,\"#f0f921\"]],\"type\":\"surface\"}],\"table\":[{\"cells\":{\"fill\":{\"color\":\"#EBF0F8\"},\"line\":{\"color\":\"white\"}},\"header\":{\"fill\":{\"color\":\"#C8D4E3\"},\"line\":{\"color\":\"white\"}},\"type\":\"table\"}]},\"layout\":{\"annotationdefaults\":{\"arrowcolor\":\"#2a3f5f\",\"arrowhead\":0,\"arrowwidth\":1},\"autotypenumbers\":\"strict\",\"coloraxis\":{\"colorbar\":{\"outlinewidth\":0,\"ticks\":\"\"}},\"colorscale\":{\"diverging\":[[0,\"#8e0152\"],[0.1,\"#c51b7d\"],[0.2,\"#de77ae\"],[0.3,\"#f1b6da\"],[0.4,\"#fde0ef\"],[0.5,\"#f7f7f7\"],[0.6,\"#e6f5d0\"],[0.7,\"#b8e186\"],[0.8,\"#7fbc41\"],[0.9,\"#4d9221\"],[1,\"#276419\"]],\"sequential\":[[0.0,\"#0d0887\"],[0.1111111111111111,\"#46039f\"],[0.2222222222222222,\"#7201a8\"],[0.3333333333333333,\"#9c179e\"],[0.4444444444444444,\"#bd3786\"],[0.5555555555555556,\"#d8576b\"],[0.6666666666666666,\"#ed7953\"],[0.7777777777777778,\"#fb9f3a\"],[0.8888888888888888,\"#fdca26\"],[1.0,\"#f0f921\"]],\"sequentialminus\":[[0.0,\"#0d0887\"],[0.1111111111111111,\"#46039f\"],[0.2222222222222222,\"#7201a8\"],[0.3333333333333333,\"#9c179e\"],[0.4444444444444444,\"#bd3786\"],[0.5555555555555556,\"#d8576b\"],[0.6666666666666666,\"#ed7953\"],[0.7777777777777778,\"#fb9f3a\"],[0.8888888888888888,\"#fdca26\"],[1.0,\"#f0f921\"]]},\"colorway\":[\"#636efa\",\"#EF553B\",\"#00cc96\",\"#ab63fa\",\"#FFA15A\",\"#19d3f3\",\"#FF6692\",\"#B6E880\",\"#FF97FF\",\"#FECB52\"],\"font\":{\"color\":\"#2a3f5f\"},\"geo\":{\"bgcolor\":\"white\",\"lakecolor\":\"white\",\"landcolor\":\"#E5ECF6\",\"showlakes\":true,\"showland\":true,\"subunitcolor\":\"white\"},\"hoverlabel\":{\"align\":\"left\"},\"hovermode\":\"closest\",\"mapbox\":{\"style\":\"light\"},\"paper_bgcolor\":\"white\",\"plot_bgcolor\":\"#E5ECF6\",\"polar\":{\"angularaxis\":{\"gridcolor\":\"white\",\"linecolor\":\"white\",\"ticks\":\"\"},\"bgcolor\":\"#E5ECF6\",\"radialaxis\":{\"gridcolor\":\"white\",\"linecolor\":\"white\",\"ticks\":\"\"}},\"scene\":{\"xaxis\":{\"backgroundcolor\":\"#E5ECF6\",\"gridcolor\":\"white\",\"gridwidth\":2,\"linecolor\":\"white\",\"showbackground\":true,\"ticks\":\"\",\"zerolinecolor\":\"white\"},\"yaxis\":{\"backgroundcolor\":\"#E5ECF6\",\"gridcolor\":\"white\",\"gridwidth\":2,\"linecolor\":\"white\",\"showbackground\":true,\"ticks\":\"\",\"zerolinecolor\":\"white\"},\"zaxis\":{\"backgroundcolor\":\"#E5ECF6\",\"gridcolor\":\"white\",\"gridwidth\":2,\"linecolor\":\"white\",\"showbackground\":true,\"ticks\":\"\",\"zerolinecolor\":\"white\"}},\"shapedefaults\":{\"line\":{\"color\":\"#2a3f5f\"}},\"ternary\":{\"aaxis\":{\"gridcolor\":\"white\",\"linecolor\":\"white\",\"ticks\":\"\"},\"baxis\":{\"gridcolor\":\"white\",\"linecolor\":\"white\",\"ticks\":\"\"},\"bgcolor\":\"#E5ECF6\",\"caxis\":{\"gridcolor\":\"white\",\"linecolor\":\"white\",\"ticks\":\"\"}},\"title\":{\"x\":0.05},\"xaxis\":{\"automargin\":true,\"gridcolor\":\"white\",\"linecolor\":\"white\",\"ticks\":\"\",\"title\":{\"standoff\":15},\"zerolinecolor\":\"white\",\"zerolinewidth\":2},\"yaxis\":{\"automargin\":true,\"gridcolor\":\"white\",\"linecolor\":\"white\",\"ticks\":\"\",\"title\":{\"standoff\":15},\"zerolinecolor\":\"white\",\"zerolinewidth\":2}}},\"width\":1000,\"height\":1000},                        {\"responsive\": true}                    ).then(function(){\n",
       "                            \n",
       "var gd = document.getElementById('a4914c75-bfda-49cb-a07c-37c1b7e43f00');\n",
       "var x = new MutationObserver(function (mutations, observer) {{\n",
       "        var display = window.getComputedStyle(gd).display;\n",
       "        if (!display || display === 'none') {{\n",
       "            console.log([gd, 'removed!']);\n",
       "            Plotly.purge(gd);\n",
       "            observer.disconnect();\n",
       "        }}\n",
       "}});\n",
       "\n",
       "// Listen for the removal of the full notebook cells\n",
       "var notebookContainer = gd.closest('#notebook-container');\n",
       "if (notebookContainer) {{\n",
       "    x.observe(notebookContainer, {childList: true});\n",
       "}}\n",
       "\n",
       "// Listen for the clearing of the current output cell\n",
       "var outputEl = gd.closest('.output');\n",
       "if (outputEl) {{\n",
       "    x.observe(outputEl, {childList: true});\n",
       "}}\n",
       "\n",
       "                        })                };                });            </script>        </div>"
      ]
     },
     "metadata": {},
     "output_type": "display_data"
    }
   ],
   "source": [
    "import plotly.graph_objects as go\n",
    "dataN=data.head(10)\n",
    "\n",
    "fig = go.Figure(data=[go.Table(\n",
    "    header=dict(values=dataN.columns,\n",
    "                line_color='darkslategray',\n",
    "                fill_color='indianred',\n",
    "                align='left'),\n",
    "    cells=dict(values=[dataN.ID, dataN[\"CVE-ID\"], dataN.Year, dataN[\"CVSS-V3\"],dataN[\"CVSS-V2\"],dataN.SEVERITY,dataN.DESCRIPTION,dataN[\"CWE-ID\"]], # 2nd column\n",
    "               line_color='darkslategray',\n",
    "               fill_color='mistyrose',\n",
    "               align='left'))\n",
    "])\n",
    "\n",
    "fig.update_layout(width=1000, height=1000)\n",
    "fig.show()"
   ]
  },
  {
   "cell_type": "markdown",
   "id": "7b64cde7",
   "metadata": {
    "papermill": {
     "duration": 0.050478,
     "end_time": "2022-01-24T20:32:24.715811",
     "exception": false,
     "start_time": "2022-01-24T20:32:24.665333",
     "status": "completed"
    },
    "tags": []
   },
   "source": [
    "The following chart shows the number of vulnerabilities reported by year."
   ]
  },
  {
   "cell_type": "code",
   "execution_count": 5,
   "id": "52bdb6de",
   "metadata": {
    "_kg_hide-input": true,
    "execution": {
     "iopub.execute_input": "2022-01-24T20:32:24.821035Z",
     "iopub.status.busy": "2022-01-24T20:32:24.820422Z",
     "iopub.status.idle": "2022-01-24T20:32:26.426748Z",
     "shell.execute_reply": "2022-01-24T20:32:26.427191Z",
     "shell.execute_reply.started": "2022-01-24T18:52:08.756169Z"
    },
    "papermill": {
     "duration": 1.660487,
     "end_time": "2022-01-24T20:32:26.427400",
     "exception": false,
     "start_time": "2022-01-24T20:32:24.766913",
     "status": "completed"
    },
    "tags": []
   },
   "outputs": [
    {
     "data": {
      "image/png": "[encoded data removed]",
      "text/plain": [
       "<Figure size 1440x720 with 1 Axes>"
      ]
     },
     "metadata": {},
     "output_type": "display_data"
    }
   ],
   "source": [
    "import matplotlib.pyplot as plt\n",
    "import seaborn as sns\n",
    "plt.rcParams[\"figure.figsize\"] = (20,10)\n",
    "sns.set_theme(style=\"darkgrid\")\n",
    "\n",
    "ax = sns.countplot(x=\"Year\", data=data,palette=\"hls\")\n",
    "ax.set_title(\"Vulnerabilities By Year\")\n",
    "for p in ax.patches:\n",
    "        ax.annotate('{:.0f}'.format(p.get_height()), (p.get_x()+0.1, p.get_height()+50))\n",
    "plt.xticks(rotation=90)\n",
    "plt.show()"
   ]
  },
  {
   "cell_type": "markdown",
   "id": "99373c64",
   "metadata": {
    "papermill": {
     "duration": 0.053115,
     "end_time": "2022-01-24T20:32:26.533019",
     "exception": false,
     "start_time": "2022-01-24T20:32:26.479904",
     "status": "completed"
    },
    "tags": []
   },
   "source": [
    "The  following bar chart shows the reported vulnerabilities by year as above. However, it is also divided according to severity. When we examine the graph, we observe that the vulnerabilities are mostly in the middle and high range."
   ]
  },
  {
   "cell_type": "code",
   "execution_count": 6,
   "id": "ace3991c",
   "metadata": {
    "_kg_hide-input": true,
    "execution": {
     "iopub.execute_input": "2022-01-24T20:32:26.643819Z",
     "iopub.status.busy": "2022-01-24T20:32:26.643049Z",
     "iopub.status.idle": "2022-01-24T20:32:28.210142Z",
     "shell.execute_reply": "2022-01-24T20:32:28.210609Z",
     "shell.execute_reply.started": "2022-01-24T18:52:18.118512Z"
    },
    "papermill": {
     "duration": 1.62401,
     "end_time": "2022-01-24T20:32:28.210784",
     "exception": false,
     "start_time": "2022-01-24T20:32:26.586774",
     "status": "completed"
    },
    "tags": []
   },
   "outputs": [
    {
     "data": {
      "image/png": "[encoded data removed]",
      "text/plain": [
       "<Figure size 1440x720 with 1 Axes>"
      ]
     },
     "metadata": {},
     "output_type": "display_data"
    }
   ],
   "source": [
    "\n",
    "plt.rcParams[\"figure.figsize\"] = (20,10)\n",
    "sns.set_theme(style=\"darkgrid\")\n",
    "\n",
    "ax = sns.countplot(x=\"Year\", data=data,palette=\"Set3\",hue=\"SEVERITY\")\n",
    "ax.set_title(\"Vulnerabilities By Year And Severity\")\n",
    "for p in ax.patches:\n",
    "        ax.annotate('{:.0f}'.format(p.get_height()), (p.get_x()+0.1, p.get_height()+50))\n",
    "plt.xticks(rotation=90)\n",
    "plt.show()"
   ]
  },
  {
   "cell_type": "markdown",
   "id": "aaa1d740",
   "metadata": {
    "papermill": {
     "duration": 0.055453,
     "end_time": "2022-01-24T20:32:28.321681",
     "exception": false,
     "start_time": "2022-01-24T20:32:28.266228",
     "status": "completed"
    },
    "tags": []
   },
   "source": [
    "Following wordcloud is derived according to the most used words in the \"description\" column of the dataset."
   ]
  },
  {
   "cell_type": "code",
   "execution_count": 7,
   "id": "1c7a27d1",
   "metadata": {
    "_kg_hide-input": true,
    "execution": {
     "iopub.execute_input": "2022-01-24T20:32:28.439097Z",
     "iopub.status.busy": "2022-01-24T20:32:28.438477Z",
     "iopub.status.idle": "2022-01-24T20:32:51.209341Z",
     "shell.execute_reply": "2022-01-24T20:32:51.209832Z",
     "shell.execute_reply.started": "2022-01-24T20:22:06.684269Z"
    },
    "papermill": {
     "duration": 22.8326,
     "end_time": "2022-01-24T20:32:51.210014",
     "exception": false,
     "start_time": "2022-01-24T20:32:28.377414",
     "status": "completed"
    },
    "tags": []
   },
   "outputs": [
    {
     "data": {
      "image/png": "[encoded data removed]",
      "text/plain": [
       "<Figure size 1080x1080 with 1 Axes>"
      ]
     },
     "metadata": {},
     "output_type": "display_data"
    }
   ],
   "source": [
    "from PIL import Image\n",
    "from wordcloud import WordCloud,STOPWORDS\n",
    "wave_mask= np.array(Image.open(\"../input/skullll/sk.png\"))\n",
    "text = \" \".join(desc for desc in data.DESCRIPTION)\n",
    "stopwords = set(STOPWORDS)\n",
    "stopwords.update([\"will\",\"announcing\",\"via\",\"none\"])\n",
    "word_cloud = WordCloud(mask=wave_mask, background_color = 'black',colormap=\"gist_ncar\",contour_width=1, stopwords=stopwords,contour_color=\"black\").generate(text)\n",
    "plt.rcParams[\"figure.figsize\"] = (15,15)\n",
    "plt.imshow(word_cloud, interpolation='bilinear')\n",
    "plt.axis(\"off\")\n",
    "plt.show()"
   ]
  },
  {
   "cell_type": "markdown",
   "id": "e3eaa75e",
   "metadata": {
    "papermill": {
     "duration": 0.067253,
     "end_time": "2022-01-24T20:32:51.345600",
     "exception": false,
     "start_time": "2022-01-24T20:32:51.278347",
     "status": "completed"
    },
    "tags": []
   },
   "source": [
    "### 2. HARDWARE DESIGN DATASET\n",
    "\n",
    "This dataset is a subset to Global_Dataset contains only those vulnerabilities whose CWE category is present in the Hardware Design Hierarchy. The general information of vulnerability includes CVE-ID, Description, Severity, CWE-Name, CWE-ID."
   ]
  },
  {
   "cell_type": "code",
   "execution_count": 8,
   "id": "1cf62238",
   "metadata": {
    "_kg_hide-input": true,
    "execution": {
     "iopub.execute_input": "2022-01-24T20:32:51.485783Z",
     "iopub.status.busy": "2022-01-24T20:32:51.485103Z",
     "iopub.status.idle": "2022-01-24T20:32:51.607579Z",
     "shell.execute_reply": "2022-01-24T20:32:51.607033Z",
     "shell.execute_reply.started": "2022-01-24T18:59:18.473999Z"
    },
    "papermill": {
     "duration": 0.194571,
     "end_time": "2022-01-24T20:32:51.607754",
     "exception": false,
     "start_time": "2022-01-24T20:32:51.413183",
     "status": "completed"
    },
    "tags": []
   },
   "outputs": [],
   "source": [
    "dataHD=pd.read_excel(\"../input/cve-and-cwe-mapping-dataset/Hardware Design/HD_Vulnerability_Dataset.xlsx\")"
   ]
  },
  {
   "cell_type": "code",
   "execution_count": 9,
   "id": "db1e9565",
   "metadata": {
    "_kg_hide-input": true,
    "execution": {
     "iopub.execute_input": "2022-01-24T20:32:51.752897Z",
     "iopub.status.busy": "2022-01-24T20:32:51.752160Z",
     "iopub.status.idle": "2022-01-24T20:32:51.755063Z",
     "shell.execute_reply": "2022-01-24T20:32:51.755674Z",
     "shell.execute_reply.started": "2022-01-24T18:59:20.071216Z"
    },
    "papermill": {
     "duration": 0.081504,
     "end_time": "2022-01-24T20:32:51.755848",
     "exception": false,
     "start_time": "2022-01-24T20:32:51.674344",
     "status": "completed"
    },
    "tags": []
   },
   "outputs": [],
   "source": [
    "year_list=[]\n",
    "for i in range(0,len(dataHD[\"CVE-ID\"])):\n",
    "    a=dataHD[\"CVE-ID\"][i].split(\"-\")[1]\n",
    "    year_list.append(a)\n",
    "\n",
    "dataHD.insert(loc=2, column='Year', value=year_list)"
   ]
  },
  {
   "cell_type": "code",
   "execution_count": 10,
   "id": "52e8ed30",
   "metadata": {
    "_kg_hide-input": true,
    "execution": {
     "iopub.execute_input": "2022-01-24T20:32:51.904786Z",
     "iopub.status.busy": "2022-01-24T20:32:51.896797Z",
     "iopub.status.idle": "2022-01-24T20:32:51.924871Z",
     "shell.execute_reply": "2022-01-24T20:32:51.925425Z",
     "shell.execute_reply.started": "2022-01-24T18:59:36.779991Z"
    },
    "papermill": {
     "duration": 0.103429,
     "end_time": "2022-01-24T20:32:51.925598",
     "exception": false,
     "start_time": "2022-01-24T20:32:51.822169",
     "status": "completed"
    },
    "tags": []
   },
   "outputs": [],
   "source": [
    "df2011=dataHD[dataHD.Year==\"2011\"][\"CWE-NAME\"].value_counts().to_frame().reset_index()\n",
    "df2012=dataHD[dataHD.Year==\"2012\"][\"CWE-NAME\"].value_counts().to_frame().reset_index()\n",
    "df2013=dataHD[dataHD.Year==\"2013\"][\"CWE-NAME\"].value_counts().to_frame().reset_index()\n",
    "df2014=dataHD[dataHD.Year==\"2014\"][\"CWE-NAME\"].value_counts().to_frame().reset_index()\n",
    "df2015=dataHD[dataHD.Year==\"2015\"][\"CWE-NAME\"].value_counts().to_frame().reset_index()\n",
    "df2016=dataHD[dataHD.Year==\"2016\"][\"CWE-NAME\"].value_counts().to_frame().reset_index()\n",
    "df2017=dataHD[dataHD.Year==\"2017\"][\"CWE-NAME\"].value_counts().to_frame().reset_index()\n",
    "df2018=dataHD[dataHD.Year==\"2018\"][\"CWE-NAME\"].value_counts().to_frame().reset_index()\n",
    "df2019=dataHD[dataHD.Year==\"2019\"][\"CWE-NAME\"].value_counts().to_frame().reset_index()\n",
    "df2020=dataHD[dataHD.Year==\"2020\"][\"CWE-NAME\"].value_counts().to_frame().reset_index()\n",
    "df2021=dataHD[dataHD.Year==\"2021\"][\"CWE-NAME\"].value_counts().to_frame().reset_index()\n",
    "df2022=dataHD[dataHD.Year==\"2022\"][\"CWE-NAME\"].value_counts().to_frame().reset_index()"
   ]
  },
  {
   "cell_type": "markdown",
   "id": "370c6678",
   "metadata": {
    "papermill": {
     "duration": 0.06819,
     "end_time": "2022-01-24T20:32:52.060101",
     "exception": false,
     "start_time": "2022-01-24T20:32:51.991911",
     "status": "completed"
    },
    "tags": []
   },
   "source": [
    "#### Following pie charts show percentage of Hardware Design Vulnerabilities according to CWE Name between 2011-2021. Especially, Incorrect default permissions are the most common type of vulnerability."
   ]
  },
  {
   "cell_type": "code",
   "execution_count": 11,
   "id": "8f99a21a",
   "metadata": {
    "_kg_hide-input": true,
    "execution": {
     "iopub.execute_input": "2022-01-24T20:32:52.211471Z",
     "iopub.status.busy": "2022-01-24T20:32:52.210788Z",
     "iopub.status.idle": "2022-01-24T20:32:53.517395Z",
     "shell.execute_reply": "2022-01-24T20:32:53.517958Z",
     "shell.execute_reply.started": "2022-01-24T19:32:06.476805Z"
    },
    "papermill": {
     "duration": 1.390298,
     "end_time": "2022-01-24T20:32:53.518125",
     "exception": false,
     "start_time": "2022-01-24T20:32:52.127827",
     "status": "completed"
    },
    "tags": []
   },
   "outputs": [
    {
     "data": {
      "application/vnd.plotly.v1+json": {
       "config": {
        "plotlyServerURL": "https://plot.ly"
       },
       "data": [
        {
         "domain": {
          "x": [
           0.0,
           0.2125
          ],
          "y": [
           0.7777777777777778,
           1.0
          ]
         },
         "hoverinfo": "label+percent",
         "labels": [
          "Incorrect Default Permissions"
         ],
         "marker": {
          "line": {
           "color": "red",
           "width": 2
          }
         },
         "name": "2011",
         "textfont": {
          "size": 15
         },
         "textposition": "inside",
         "type": "pie",
         "values": [
          4
         ]
        },
        {
         "domain": {
          "x": [
           0.2625,
           0.475
          ],
          "y": [
           0.7777777777777778,
           1.0
          ]
         },
         "hoverinfo": "label+percent",
         "labels": [
          "Incorrect Default Permissions"
         ],
         "marker": {
          "line": {
           "color": "red",
           "width": 2
          }
         },
         "name": "2012",
         "textfont": {
          "size": 15
         },
         "textposition": "inside",
         "type": "pie",
         "values": [
          6
         ]
        },
        {
         "domain": {
          "x": [
           0.525,
           0.7375
          ],
          "y": [
           0.7777777777777778,
           1.0
          ]
         },
         "hoverinfo": "label+percent",
         "labels": [
          "Incorrect Default Permissions",
          "Observable Discrepancy"
         ],
         "marker": {
          "line": {
           "color": "red",
           "width": 2
          }
         },
         "name": "2013",
         "textfont": {
          "size": 15
         },
         "textposition": "inside",
         "type": "pie",
         "values": [
          5,
          1
         ]
        },
        {
         "domain": {
          "x": [
           0.7875,
           1.0
          ],
          "y": [
           0.7777777777777778,
           1.0
          ]
         },
         "hoverinfo": "label+percent",
         "labels": [
          "Incorrect Default Permissions",
          "Observable Discrepancy"
         ],
         "marker": {
          "line": {
           "color": "red",
           "width": 2
          }
         },
         "name": "2014",
         "textfont": {
          "size": 15
         },
         "textposition": "inside",
         "type": "pie",
         "values": [
          6,
          2
         ]
        },
        {
         "domain": {
          "x": [
           0.0,
           0.2125
          ],
          "y": [
           0.3888888888888889,
           0.6111111111111112
          ]
         },
         "hoverinfo": "label+percent",
         "labels": [
          "Incorrect Default Permissions",
          "Observable Discrepancy",
          "Unintended Proxy or Intermediary ('Confused Deputy')"
         ],
         "marker": {
          "line": {
           "color": "red",
           "width": 2
          }
         },
         "name": "2015",
         "textfont": {
          "size": 15
         },
         "textposition": "inside",
         "type": "pie",
         "values": [
          5,
          2,
          1
         ]
        },
        {
         "domain": {
          "x": [
           0.2625,
           0.475
          ],
          "y": [
           0.3888888888888889,
           0.6111111111111112
          ]
         },
         "hoverinfo": "label+percent",
         "labels": [
          "Incorrect Default Permissions",
          "Observable Discrepancy"
         ],
         "marker": {
          "line": {
           "color": "red",
           "width": 2
          }
         },
         "name": "2016",
         "textfont": {
          "size": 15
         },
         "textposition": "inside",
         "type": "pie",
         "values": [
          3,
          1
         ]
        },
        {
         "domain": {
          "x": [
           0.525,
           0.7375
          ],
          "y": [
           0.3888888888888889,
           0.6111111111111112
          ]
         },
         "hoverinfo": "label+percent",
         "labels": [
          "Incorrect Default Permissions",
          "Observable Discrepancy"
         ],
         "marker": {
          "line": {
           "color": "red",
           "width": 2
          }
         },
         "name": "2017",
         "textfont": {
          "size": 15
         },
         "textposition": "inside",
         "type": "pie",
         "values": [
          33,
          12
         ]
        },
        {
         "domain": {
          "x": [
           0.7875,
           1.0
          ],
          "y": [
           0.3888888888888889,
           0.6111111111111112
          ]
         },
         "hoverinfo": "label+percent",
         "labels": [
          "Incorrect Default Permissions",
          "Observable Discrepancy",
          "Unintended Proxy or Intermediary ('Confused Deputy')"
         ],
         "marker": {
          "line": {
           "color": "red",
           "width": 2
          }
         },
         "name": "2018",
         "textfont": {
          "size": 15
         },
         "textposition": "inside",
         "type": "pie",
         "values": [
          19,
          14,
          3
         ]
        },
        {
         "domain": {
          "x": [
           0.0,
           0.2125
          ],
          "y": [
           0.0,
           0.22222222222222224
          ]
         },
         "hoverinfo": "label+percent",
         "labels": [
          "Incorrect Default Permissions",
          "Observable Discrepancy",
          "Missing Cryptographic Step",
          "Unintended Proxy or Intermediary ('Confused Deputy')",
          "Expected Behavior Violation"
         ],
         "marker": {
          "line": {
           "color": "red",
           "width": 2
          }
         },
         "name": "2019",
         "textfont": {
          "size": 15
         },
         "textposition": "inside",
         "type": "pie",
         "values": [
          96,
          60,
          1,
          1,
          1
         ]
        },
        {
         "domain": {
          "x": [
           0.2625,
           0.475
          ],
          "y": [
           0.0,
           0.22222222222222224
          ]
         },
         "hoverinfo": "label+percent",
         "labels": [
          "Incorrect Default Permissions",
          "Observable Discrepancy",
          "Unintended Proxy or Intermediary ('Confused Deputy')"
         ],
         "marker": {
          "line": {
           "color": "red",
           "width": 2
          }
         },
         "name": "2020",
         "textfont": {
          "size": 15
         },
         "textposition": "inside",
         "type": "pie",
         "values": [
          223,
          63,
          1
         ]
        },
        {
         "domain": {
          "x": [
           0.525,
           0.7375
          ],
          "y": [
           0.0,
           0.22222222222222224
          ]
         },
         "hoverinfo": "label+percent",
         "labels": [
          "Incorrect Default Permissions",
          "Observable Discrepancy",
          "Missing Protection Against Hardware Reverse Engineering Using Integrated Circuit (IC) Imaging Techniques"
         ],
         "marker": {
          "line": {
           "color": "red",
           "width": 2
          }
         },
         "name": "2021",
         "textfont": {
          "size": 15
         },
         "textposition": "inside",
         "type": "pie",
         "values": [
          114,
          59,
          1
         ]
        },
        {
         "domain": {
          "x": [
           0.7875,
           1.0
          ],
          "y": [
           0.0,
           0.22222222222222224
          ]
         },
         "hoverinfo": "label+percent",
         "labels": [],
         "marker": {
          "line": {
           "color": "red",
           "width": 2
          }
         },
         "name": "2022",
         "textfont": {
          "size": 15
         },
         "textposition": "inside",
         "type": "pie",
         "values": []
        }
       ],
       "layout": {
        "annotations": [
         {
          "font": {
           "size": 16
          },
          "showarrow": false,
          "text": "2011",
          "x": 0.10625,
          "xanchor": "center",
          "xref": "paper",
          "y": 1.0,
          "yanchor": "bottom",
          "yref": "paper"
         },
         {
          "font": {
           "size": 16
          },
          "showarrow": false,
          "text": "2012",
          "x": 0.36875,
          "xanchor": "center",
          "xref": "paper",
          "y": 1.0,
          "yanchor": "bottom",
          "yref": "paper"
         },
         {
          "font": {
           "size": 16
          },
          "showarrow": false,
          "text": "2013",
          "x": 0.6312500000000001,
          "xanchor": "center",
          "xref": "paper",
          "y": 1.0,
          "yanchor": "bottom",
          "yref": "paper"
         },
         {
          "font": {
           "size": 16
          },
          "showarrow": false,
          "text": "2014",
          "x": 0.89375,
          "xanchor": "center",
          "xref": "paper",
          "y": 1.0,
          "yanchor": "bottom",
          "yref": "paper"
         },
         {
          "font": {
           "size": 16
          },
          "showarrow": false,
          "text": "2015",
          "x": 0.10625,
          "xanchor": "center",
          "xref": "paper",
          "y": 0.6111111111111112,
          "yanchor": "bottom",
          "yref": "paper"
         },
         {
          "font": {
           "size": 16
          },
          "showarrow": false,
          "text": "2016",
          "x": 0.36875,
          "xanchor": "center",
          "xref": "paper",
          "y": 0.6111111111111112,
          "yanchor": "bottom",
          "yref": "paper"
         },
         {
          "font": {
           "size": 16
          },
          "showarrow": false,
          "text": "2017",
          "x": 0.6312500000000001,
          "xanchor": "center",
          "xref": "paper",
          "y": 0.6111111111111112,
          "yanchor": "bottom",
          "yref": "paper"
         },
         {
          "font": {
           "size": 16
          },
          "showarrow": false,
          "text": "2018",
          "x": 0.89375,
          "xanchor": "center",
          "xref": "paper",
          "y": 0.6111111111111112,
          "yanchor": "bottom",
          "yref": "paper"
         },
         {
          "font": {
           "size": 16
          },
          "showarrow": false,
          "text": "2019",
          "x": 0.10625,
          "xanchor": "center",
          "xref": "paper",
          "y": 0.22222222222222224,
          "yanchor": "bottom",
          "yref": "paper"
         },
         {
          "font": {
           "size": 16
          },
          "showarrow": false,
          "text": "2020",
          "x": 0.36875,
          "xanchor": "center",
          "xref": "paper",
          "y": 0.22222222222222224,
          "yanchor": "bottom",
          "yref": "paper"
         },
         {
          "font": {
           "size": 16
          },
          "showarrow": false,
          "text": "2021",
          "x": 0.6312500000000001,
          "xanchor": "center",
          "xref": "paper",
          "y": 0.22222222222222224,
          "yanchor": "bottom",
          "yref": "paper"
         }
        ],
        "colorway": [
         "rgb(0,0,0)",
         "rgb(30,0,100)",
         "rgb(120,0,100)",
         "rgb(160,90,0)",
         "rgb(230,200,0)",
         "rgb(255,250,220)"
        ],
        "height": 900,
        "template": {
         "data": {
          "bar": [
           {
            "error_x": {
             "color": "#2a3f5f"
            },
            "error_y": {
             "color": "#2a3f5f"
            },
            "marker": {
             "line": {
              "color": "#E5ECF6",
              "width": 0.5
             },
             "pattern": {
              "fillmode": "overlay",
              "size": 10,
              "solidity": 0.2
             }
            },
            "type": "bar"
           }
          ],
          "barpolar": [
           {
            "marker": {
             "line": {
              "color": "#E5ECF6",
              "width": 0.5
             },
             "pattern": {
              "fillmode": "overlay",
              "size": 10,
              "solidity": 0.2
             }
            },
            "type": "barpolar"
           }
          ],
          "carpet": [
           {
            "aaxis": {
             "endlinecolor": "#2a3f5f",
             "gridcolor": "white",
             "linecolor": "white",
             "minorgridcolor": "white",
             "startlinecolor": "#2a3f5f"
            },
            "baxis": {
             "endlinecolor": "#2a3f5f",
             "gridcolor": "white",
             "linecolor": "white",
             "minorgridcolor": "white",
             "startlinecolor": "#2a3f5f"
            },
            "type": "carpet"
           }
          ],
          "choropleth": [
           {
            "colorbar": {
             "outlinewidth": 0,
             "ticks": ""
            },
            "type": "choropleth"
           }
          ],
          "contour": [
           {
            "colorbar": {
             "outlinewidth": 0,
             "ticks": ""
            },
            "colorscale": [
             [
              0.0,
              "#0d0887"
             ],
             [
              0.1111111111111111,
              "#46039f"
             ],
             [
              0.2222222222222222,
              "#7201a8"
             ],
             [
              0.3333333333333333,
              "#9c179e"
             ],
             [
              0.4444444444444444,
              "#bd3786"
             ],
             [
              0.5555555555555556,
              "#d8576b"
             ],
             [
              0.6666666666666666,
              "#ed7953"
             ],
             [
              0.7777777777777778,
              "#fb9f3a"
             ],
             [
              0.8888888888888888,
              "#fdca26"
             ],
             [
              1.0,
              "#f0f921"
             ]
            ],
            "type": "contour"
           }
          ],
          "contourcarpet": [
           {
            "colorbar": {
             "outlinewidth": 0,
             "ticks": ""
            },
            "type": "contourcarpet"
           }
          ],
          "heatmap": [
           {
            "colorbar": {
             "outlinewidth": 0,
             "ticks": ""
            },
            "colorscale": [
             [
              0.0,
              "#0d0887"
             ],
             [
              0.1111111111111111,
              "#46039f"
             ],
             [
              0.2222222222222222,
              "#7201a8"
             ],
             [
              0.3333333333333333,
              "#9c179e"
             ],
             [
              0.4444444444444444,
              "#bd3786"
             ],
             [
              0.5555555555555556,
              "#d8576b"
             ],
             [
              0.6666666666666666,
              "#ed7953"
             ],
             [
              0.7777777777777778,
              "#fb9f3a"
             ],
             [
              0.8888888888888888,
              "#fdca26"
             ],
             [
              1.0,
              "#f0f921"
             ]
            ],
            "type": "heatmap"
           }
          ],
          "heatmapgl": [
           {
            "colorbar": {
             "outlinewidth": 0,
             "ticks": ""
            },
            "colorscale": [
             [
              0.0,
              "#0d0887"
             ],
             [
              0.1111111111111111,
              "#46039f"
             ],
             [
              0.2222222222222222,
              "#7201a8"
             ],
             [
              0.3333333333333333,
              "#9c179e"
             ],
             [
              0.4444444444444444,
              "#bd3786"
             ],
             [
              0.5555555555555556,
              "#d8576b"
             ],
             [
              0.6666666666666666,
              "#ed7953"
             ],
             [
              0.7777777777777778,
              "#fb9f3a"
             ],
             [
              0.8888888888888888,
              "#fdca26"
             ],
             [
              1.0,
              "#f0f921"
             ]
            ],
            "type": "heatmapgl"
           }
          ],
          "histogram": [
           {
            "marker": {
             "pattern": {
              "fillmode": "overlay",
              "size": 10,
              "solidity": 0.2
             }
            },
            "type": "histogram"
           }
          ],
          "histogram2d": [
           {
            "colorbar": {
             "outlinewidth": 0,
             "ticks": ""
            },
            "colorscale": [
             [
              0.0,
              "#0d0887"
             ],
             [
              0.1111111111111111,
              "#46039f"
             ],
             [
              0.2222222222222222,
              "#7201a8"
             ],
             [
              0.3333333333333333,
              "#9c179e"
             ],
             [
              0.4444444444444444,
              "#bd3786"
             ],
             [
              0.5555555555555556,
              "#d8576b"
             ],
             [
              0.6666666666666666,
              "#ed7953"
             ],
             [
              0.7777777777777778,
              "#fb9f3a"
             ],
             [
              0.8888888888888888,
              "#fdca26"
             ],
             [
              1.0,
              "#f0f921"
             ]
            ],
            "type": "histogram2d"
           }
          ],
          "histogram2dcontour": [
           {
            "colorbar": {
             "outlinewidth": 0,
             "ticks": ""
            },
            "colorscale": [
             [
              0.0,
              "#0d0887"
             ],
             [
              0.1111111111111111,
              "#46039f"
             ],
             [
              0.2222222222222222,
              "#7201a8"
             ],
             [
              0.3333333333333333,
              "#9c179e"
             ],
             [
              0.4444444444444444,
              "#bd3786"
             ],
             [
              0.5555555555555556,
              "#d8576b"
             ],
             [
              0.6666666666666666,
              "#ed7953"
             ],
             [
              0.7777777777777778,
              "#fb9f3a"
             ],
             [
              0.8888888888888888,
              "#fdca26"
             ],
             [
              1.0,
              "#f0f921"
             ]
            ],
            "type": "histogram2dcontour"
           }
          ],
          "mesh3d": [
           {
            "colorbar": {
             "outlinewidth": 0,
             "ticks": ""
            },
            "type": "mesh3d"
           }
          ],
          "parcoords": [
           {
            "line": {
             "colorbar": {
              "outlinewidth": 0,
              "ticks": ""
             }
            },
            "type": "parcoords"
           }
          ],
          "pie": [
           {
            "automargin": true,
            "type": "pie"
           }
          ],
          "scatter": [
           {
            "marker": {
             "colorbar": {
              "outlinewidth": 0,
              "ticks": ""
             }
            },
            "type": "scatter"
           }
          ],
          "scatter3d": [
           {
            "line": {
             "colorbar": {
              "outlinewidth": 0,
              "ticks": ""
             }
            },
            "marker": {
             "colorbar": {
              "outlinewidth": 0,
              "ticks": ""
             }
            },
            "type": "scatter3d"
           }
          ],
          "scattercarpet": [
           {
            "marker": {
             "colorbar": {
              "outlinewidth": 0,
              "ticks": ""
             }
            },
            "type": "scattercarpet"
           }
          ],
          "scattergeo": [
           {
            "marker": {
             "colorbar": {
              "outlinewidth": 0,
              "ticks": ""
             }
            },
            "type": "scattergeo"
           }
          ],
          "scattergl": [
           {
            "marker": {
             "colorbar": {
              "outlinewidth": 0,
              "ticks": ""
             }
            },
            "type": "scattergl"
           }
          ],
          "scattermapbox": [
           {
            "marker": {
             "colorbar": {
              "outlinewidth": 0,
              "ticks": ""
             }
            },
            "type": "scattermapbox"
           }
          ],
          "scatterpolar": [
           {
            "marker": {
             "colorbar": {
              "outlinewidth": 0,
              "ticks": ""
             }
            },
            "type": "scatterpolar"
           }
          ],
          "scatterpolargl": [
           {
            "marker": {
             "colorbar": {
              "outlinewidth": 0,
              "ticks": ""
             }
            },
            "type": "scatterpolargl"
           }
          ],
          "scatterternary": [
           {
            "marker": {
             "colorbar": {
              "outlinewidth": 0,
              "ticks": ""
             }
            },
            "type": "scatterternary"
           }
          ],
          "surface": [
           {
            "colorbar": {
             "outlinewidth": 0,
             "ticks": ""
            },
            "colorscale": [
             [
              0.0,
              "#0d0887"
             ],
             [
              0.1111111111111111,
              "#46039f"
             ],
             [
              0.2222222222222222,
              "#7201a8"
             ],
             [
              0.3333333333333333,
              "#9c179e"
             ],
             [
              0.4444444444444444,
              "#bd3786"
             ],
             [
              0.5555555555555556,
              "#d8576b"
             ],
             [
              0.6666666666666666,
              "#ed7953"
             ],
             [
              0.7777777777777778,
              "#fb9f3a"
             ],
             [
              0.8888888888888888,
              "#fdca26"
             ],
             [
              1.0,
              "#f0f921"
             ]
            ],
            "type": "surface"
           }
          ],
          "table": [
           {
            "cells": {
             "fill": {
              "color": "#EBF0F8"
             },
             "line": {
              "color": "white"
             }
            },
            "header": {
             "fill": {
              "color": "#C8D4E3"
             },
             "line": {
              "color": "white"
             }
            },
            "type": "table"
           }
          ]
         },
         "layout": {
          "annotationdefaults": {
           "arrowcolor": "#2a3f5f",
           "arrowhead": 0,
           "arrowwidth": 1
          },
          "autotypenumbers": "strict",
          "coloraxis": {
           "colorbar": {
            "outlinewidth": 0,
            "ticks": ""
           }
          },
          "colorscale": {
           "diverging": [
            [
             0,
             "#8e0152"
            ],
            [
             0.1,
             "#c51b7d"
            ],
            [
             0.2,
             "#de77ae"
            ],
            [
             0.3,
             "#f1b6da"
            ],
            [
             0.4,
             "#fde0ef"
            ],
            [
             0.5,
             "#f7f7f7"
            ],
            [
             0.6,
             "#e6f5d0"
            ],
            [
             0.7,
             "#b8e186"
            ],
            [
             0.8,
             "#7fbc41"
            ],
            [
             0.9,
             "#4d9221"
            ],
            [
             1,
             "#276419"
            ]
           ],
           "sequential": [
            [
             0.0,
             "#0d0887"
            ],
            [
             0.1111111111111111,
             "#46039f"
            ],
            [
             0.2222222222222222,
             "#7201a8"
            ],
            [
             0.3333333333333333,
             "#9c179e"
            ],
            [
             0.4444444444444444,
             "#bd3786"
            ],
            [
             0.5555555555555556,
             "#d8576b"
            ],
            [
             0.6666666666666666,
             "#ed7953"
            ],
            [
             0.7777777777777778,
             "#fb9f3a"
            ],
            [
             0.8888888888888888,
             "#fdca26"
            ],
            [
             1.0,
             "#f0f921"
            ]
           ],
           "sequentialminus": [
            [
             0.0,
             "#0d0887"
            ],
            [
             0.1111111111111111,
             "#46039f"
            ],
            [
             0.2222222222222222,
             "#7201a8"
            ],
            [
             0.3333333333333333,
             "#9c179e"
            ],
            [
             0.4444444444444444,
             "#bd3786"
            ],
            [
             0.5555555555555556,
             "#d8576b"
            ],
            [
             0.6666666666666666,
             "#ed7953"
            ],
            [
             0.7777777777777778,
             "#fb9f3a"
            ],
            [
             0.8888888888888888,
             "#fdca26"
            ],
            [
             1.0,
             "#f0f921"
            ]
           ]
          },
          "colorway": [
           "#636efa",
           "#EF553B",
           "#00cc96",
           "#ab63fa",
           "#FFA15A",
           "#19d3f3",
           "#FF6692",
           "#B6E880",
           "#FF97FF",
           "#FECB52"
          ],
          "font": {
           "color": "#2a3f5f"
          },
          "geo": {
           "bgcolor": "white",
           "lakecolor": "white",
           "landcolor": "#E5ECF6",
           "showlakes": true,
           "showland": true,
           "subunitcolor": "white"
          },
          "hoverlabel": {
           "align": "left"
          },
          "hovermode": "closest",
          "mapbox": {
           "style": "light"
          },
          "paper_bgcolor": "white",
          "plot_bgcolor": "#E5ECF6",
          "polar": {
           "angularaxis": {
            "gridcolor": "white",
            "linecolor": "white",
            "ticks": ""
           },
           "bgcolor": "#E5ECF6",
           "radialaxis": {
            "gridcolor": "white",
            "linecolor": "white",
            "ticks": ""
           }
          },
          "scene": {
           "xaxis": {
            "backgroundcolor": "#E5ECF6",
            "gridcolor": "white",
            "gridwidth": 2,
            "linecolor": "white",
            "showbackground": true,
            "ticks": "",
            "zerolinecolor": "white"
           },
           "yaxis": {
            "backgroundcolor": "#E5ECF6",
            "gridcolor": "white",
            "gridwidth": 2,
            "linecolor": "white",
            "showbackground": true,
            "ticks": "",
            "zerolinecolor": "white"
           },
           "zaxis": {
            "backgroundcolor": "#E5ECF6",
            "gridcolor": "white",
            "gridwidth": 2,
            "linecolor": "white",
            "showbackground": true,
            "ticks": "",
            "zerolinecolor": "white"
           }
          },
          "shapedefaults": {
           "line": {
            "color": "#2a3f5f"
           }
          },
          "ternary": {
           "aaxis": {
            "gridcolor": "white",
            "linecolor": "white",
            "ticks": ""
           },
           "baxis": {
            "gridcolor": "white",
            "linecolor": "white",
            "ticks": ""
           },
           "bgcolor": "#E5ECF6",
           "caxis": {
            "gridcolor": "white",
            "linecolor": "white",
            "ticks": ""
           }
          },
          "title": {
           "x": 0.05
          },
          "xaxis": {
           "automargin": true,
           "gridcolor": "white",
           "linecolor": "white",
           "ticks": "",
           "title": {
            "standoff": 15
           },
           "zerolinecolor": "white",
           "zerolinewidth": 2
          },
          "yaxis": {
           "automargin": true,
           "gridcolor": "white",
           "linecolor": "white",
           "ticks": "",
           "title": {
            "standoff": 15
           },
           "zerolinecolor": "white",
           "zerolinewidth": 2
          }
         }
        },
        "title": {
         "text": "Percentage of Hardware Design Vulnerabilities between 2011-2021"
        },
        "width": 1700
       }
      },
      "text/html": [
       "<div>                            <div id=\"52065df0-fa3d-4b2c-b265-05fc8b38b4df\" class=\"plotly-graph-div\" style=\"height:900px; width:1700px;\"></div>            <script type=\"text/javascript\">                require([\"plotly\"], function(Plotly) {                    window.PLOTLYENV=window.PLOTLYENV || {};                                    if (document.getElementById(\"52065df0-fa3d-4b2c-b265-05fc8b38b4df\")) {                    Plotly.newPlot(                        \"52065df0-fa3d-4b2c-b265-05fc8b38b4df\",                        [{\"labels\":[\"Incorrect Default Permissions\"],\"name\":\"2011\",\"values\":[4],\"type\":\"pie\",\"domain\":{\"x\":[0.0,0.2125],\"y\":[0.7777777777777778,1.0]},\"textfont\":{\"size\":15},\"marker\":{\"line\":{\"color\":\"red\",\"width\":2}},\"hoverinfo\":\"label+percent\",\"textposition\":\"inside\"},{\"labels\":[\"Incorrect Default Permissions\"],\"name\":\"2012\",\"values\":[6],\"type\":\"pie\",\"domain\":{\"x\":[0.2625,0.475],\"y\":[0.7777777777777778,1.0]},\"textfont\":{\"size\":15},\"marker\":{\"line\":{\"color\":\"red\",\"width\":2}},\"hoverinfo\":\"label+percent\",\"textposition\":\"inside\"},{\"labels\":[\"Incorrect Default Permissions\",\"Observable Discrepancy\"],\"name\":\"2013\",\"values\":[5,1],\"type\":\"pie\",\"domain\":{\"x\":[0.525,0.7375],\"y\":[0.7777777777777778,1.0]},\"textfont\":{\"size\":15},\"marker\":{\"line\":{\"color\":\"red\",\"width\":2}},\"hoverinfo\":\"label+percent\",\"textposition\":\"inside\"},{\"labels\":[\"Incorrect Default Permissions\",\"Observable Discrepancy\"],\"name\":\"2014\",\"values\":[6,2],\"type\":\"pie\",\"domain\":{\"x\":[0.7875,1.0],\"y\":[0.7777777777777778,1.0]},\"textfont\":{\"size\":15},\"marker\":{\"line\":{\"color\":\"red\",\"width\":2}},\"hoverinfo\":\"label+percent\",\"textposition\":\"inside\"},{\"labels\":[\"Incorrect Default Permissions\",\"Observable Discrepancy\",\"Unintended Proxy or Intermediary ('Confused Deputy')\"],\"name\":\"2015\",\"values\":[5,2,1],\"type\":\"pie\",\"domain\":{\"x\":[0.0,0.2125],\"y\":[0.3888888888888889,0.6111111111111112]},\"textfont\":{\"size\":15},\"marker\":{\"line\":{\"color\":\"red\",\"width\":2}},\"hoverinfo\":\"label+percent\",\"textposition\":\"inside\"},{\"labels\":[\"Incorrect Default Permissions\",\"Observable Discrepancy\"],\"name\":\"2016\",\"values\":[3,1],\"type\":\"pie\",\"domain\":{\"x\":[0.2625,0.475],\"y\":[0.3888888888888889,0.6111111111111112]},\"textfont\":{\"size\":15},\"marker\":{\"line\":{\"color\":\"red\",\"width\":2}},\"hoverinfo\":\"label+percent\",\"textposition\":\"inside\"},{\"labels\":[\"Incorrect Default Permissions\",\"Observable Discrepancy\"],\"name\":\"2017\",\"values\":[33,12],\"type\":\"pie\",\"domain\":{\"x\":[0.525,0.7375],\"y\":[0.3888888888888889,0.6111111111111112]},\"textfont\":{\"size\":15},\"marker\":{\"line\":{\"color\":\"red\",\"width\":2}},\"hoverinfo\":\"label+percent\",\"textposition\":\"inside\"},{\"labels\":[\"Incorrect Default Permissions\",\"Observable Discrepancy\",\"Unintended Proxy or Intermediary ('Confused Deputy')\"],\"name\":\"2018\",\"values\":[19,14,3],\"type\":\"pie\",\"domain\":{\"x\":[0.7875,1.0],\"y\":[0.3888888888888889,0.6111111111111112]},\"textfont\":{\"size\":15},\"marker\":{\"line\":{\"color\":\"red\",\"width\":2}},\"hoverinfo\":\"label+percent\",\"textposition\":\"inside\"},{\"labels\":[\"Incorrect Default Permissions\",\"Observable Discrepancy\",\"Missing Cryptographic Step\",\"Unintended Proxy or Intermediary ('Confused Deputy')\",\"Expected Behavior Violation\"],\"name\":\"2019\",\"values\":[96,60,1,1,1],\"type\":\"pie\",\"domain\":{\"x\":[0.0,0.2125],\"y\":[0.0,0.22222222222222224]},\"textfont\":{\"size\":15},\"marker\":{\"line\":{\"color\":\"red\",\"width\":2}},\"hoverinfo\":\"label+percent\",\"textposition\":\"inside\"},{\"labels\":[\"Incorrect Default Permissions\",\"Observable Discrepancy\",\"Unintended Proxy or Intermediary ('Confused Deputy')\"],\"name\":\"2020\",\"values\":[223,63,1],\"type\":\"pie\",\"domain\":{\"x\":[0.2625,0.475],\"y\":[0.0,0.22222222222222224]},\"textfont\":{\"size\":15},\"marker\":{\"line\":{\"color\":\"red\",\"width\":2}},\"hoverinfo\":\"label+percent\",\"textposition\":\"inside\"},{\"labels\":[\"Incorrect Default Permissions\",\"Observable Discrepancy\",\"Missing Protection Against Hardware Reverse Engineering Using Integrated Circuit (IC) Imaging Techniques\"],\"name\":\"2021\",\"values\":[114,59,1],\"type\":\"pie\",\"domain\":{\"x\":[0.525,0.7375],\"y\":[0.0,0.22222222222222224]},\"textfont\":{\"size\":15},\"marker\":{\"line\":{\"color\":\"red\",\"width\":2}},\"hoverinfo\":\"label+percent\",\"textposition\":\"inside\"},{\"labels\":[],\"name\":\"2022\",\"values\":[],\"type\":\"pie\",\"domain\":{\"x\":[0.7875,1.0],\"y\":[0.0,0.22222222222222224]},\"textfont\":{\"size\":15},\"marker\":{\"line\":{\"color\":\"red\",\"width\":2}},\"hoverinfo\":\"label+percent\",\"textposition\":\"inside\"}],                        {\"template\":{\"data\":{\"bar\":[{\"error_x\":{\"color\":\"#2a3f5f\"},\"error_y\":{\"color\":\"#2a3f5f\"},\"marker\":{\"line\":{\"color\":\"#E5ECF6\",\"width\":0.5},\"pattern\":{\"fillmode\":\"overlay\",\"size\":10,\"solidity\":0.2}},\"type\":\"bar\"}],\"barpolar\":[{\"marker\":{\"line\":{\"color\":\"#E5ECF6\",\"width\":0.5},\"pattern\":{\"fillmode\":\"overlay\",\"size\":10,\"solidity\":0.2}},\"type\":\"barpolar\"}],\"carpet\":[{\"aaxis\":{\"endlinecolor\":\"#2a3f5f\",\"gridcolor\":\"white\",\"linecolor\":\"white\",\"minorgridcolor\":\"white\",\"startlinecolor\":\"#2a3f5f\"},\"baxis\":{\"endlinecolor\":\"#2a3f5f\",\"gridcolor\":\"white\",\"linecolor\":\"white\",\"minorgridcolor\":\"white\",\"startlinecolor\":\"#2a3f5f\"},\"type\":\"carpet\"}],\"choropleth\":[{\"colorbar\":{\"outlinewidth\":0,\"ticks\":\"\"},\"type\":\"choropleth\"}],\"contour\":[{\"colorbar\":{\"outlinewidth\":0,\"ticks\":\"\"},\"colorscale\":[[0.0,\"#0d0887\"],[0.1111111111111111,\"#46039f\"],[0.2222222222222222,\"#7201a8\"],[0.3333333333333333,\"#9c179e\"],[0.4444444444444444,\"#bd3786\"],[0.5555555555555556,\"#d8576b\"],[0.6666666666666666,\"#ed7953\"],[0.7777777777777778,\"#fb9f3a\"],[0.8888888888888888,\"#fdca26\"],[1.0,\"#f0f921\"]],\"type\":\"contour\"}],\"contourcarpet\":[{\"colorbar\":{\"outlinewidth\":0,\"ticks\":\"\"},\"type\":\"contourcarpet\"}],\"heatmap\":[{\"colorbar\":{\"outlinewidth\":0,\"ticks\":\"\"},\"colorscale\":[[0.0,\"#0d0887\"],[0.1111111111111111,\"#46039f\"],[0.2222222222222222,\"#7201a8\"],[0.3333333333333333,\"#9c179e\"],[0.4444444444444444,\"#bd3786\"],[0.5555555555555556,\"#d8576b\"],[0.6666666666666666,\"#ed7953\"],[0.7777777777777778,\"#fb9f3a\"],[0.8888888888888888,\"#fdca26\"],[1.0,\"#f0f921\"]],\"type\":\"heatmap\"}],\"heatmapgl\":[{\"colorbar\":{\"outlinewidth\":0,\"ticks\":\"\"},\"colorscale\":[[0.0,\"#0d0887\"],[0.1111111111111111,\"#46039f\"],[0.2222222222222222,\"#7201a8\"],[0.3333333333333333,\"#9c179e\"],[0.4444444444444444,\"#bd3786\"],[0.5555555555555556,\"#d8576b\"],[0.6666666666666666,\"#ed7953\"],[0.7777777777777778,\"#fb9f3a\"],[0.8888888888888888,\"#fdca26\"],[1.0,\"#f0f921\"]],\"type\":\"heatmapgl\"}],\"histogram\":[{\"marker\":{\"pattern\":{\"fillmode\":\"overlay\",\"size\":10,\"solidity\":0.2}},\"type\":\"histogram\"}],\"histogram2d\":[{\"colorbar\":{\"outlinewidth\":0,\"ticks\":\"\"},\"colorscale\":[[0.0,\"#0d0887\"],[0.1111111111111111,\"#46039f\"],[0.2222222222222222,\"#7201a8\"],[0.3333333333333333,\"#9c179e\"],[0.4444444444444444,\"#bd3786\"],[0.5555555555555556,\"#d8576b\"],[0.6666666666666666,\"#ed7953\"],[0.7777777777777778,\"#fb9f3a\"],[0.8888888888888888,\"#fdca26\"],[1.0,\"#f0f921\"]],\"type\":\"histogram2d\"}],\"histogram2dcontour\":[{\"colorbar\":{\"outlinewidth\":0,\"ticks\":\"\"},\"colorscale\":[[0.0,\"#0d0887\"],[0.1111111111111111,\"#46039f\"],[0.2222222222222222,\"#7201a8\"],[0.3333333333333333,\"#9c179e\"],[0.4444444444444444,\"#bd3786\"],[0.5555555555555556,\"#d8576b\"],[0.6666666666666666,\"#ed7953\"],[0.7777777777777778,\"#fb9f3a\"],[0.8888888888888888,\"#fdca26\"],[1.0,\"#f0f921\"]],\"type\":\"histogram2dcontour\"}],\"mesh3d\":[{\"colorbar\":{\"outlinewidth\":0,\"ticks\":\"\"},\"type\":\"mesh3d\"}],\"parcoords\":[{\"line\":{\"colorbar\":{\"outlinewidth\":0,\"ticks\":\"\"}},\"type\":\"parcoords\"}],\"pie\":[{\"automargin\":true,\"type\":\"pie\"}],\"scatter\":[{\"marker\":{\"colorbar\":{\"outlinewidth\":0,\"ticks\":\"\"}},\"type\":\"scatter\"}],\"scatter3d\":[{\"line\":{\"colorbar\":{\"outlinewidth\":0,\"ticks\":\"\"}},\"marker\":{\"colorbar\":{\"outlinewidth\":0,\"ticks\":\"\"}},\"type\":\"scatter3d\"}],\"scattercarpet\":[{\"marker\":{\"colorbar\":{\"outlinewidth\":0,\"ticks\":\"\"}},\"type\":\"scattercarpet\"}],\"scattergeo\":[{\"marker\":{\"colorbar\":{\"outlinewidth\":0,\"ticks\":\"\"}},\"type\":\"scattergeo\"}],\"scattergl\":[{\"marker\":{\"colorbar\":{\"outlinewidth\":0,\"ticks\":\"\"}},\"type\":\"scattergl\"}],\"scattermapbox\":[{\"marker\":{\"colorbar\":{\"outlinewidth\":0,\"ticks\":\"\"}},\"type\":\"scattermapbox\"}],\"scatterpolar\":[{\"marker\":{\"colorbar\":{\"outlinewidth\":0,\"ticks\":\"\"}},\"type\":\"scatterpolar\"}],\"scatterpolargl\":[{\"marker\":{\"colorbar\":{\"outlinewidth\":0,\"ticks\":\"\"}},\"type\":\"scatterpolargl\"}],\"scatterternary\":[{\"marker\":{\"colorbar\":{\"outlinewidth\":0,\"ticks\":\"\"}},\"type\":\"scatterternary\"}],\"surface\":[{\"colorbar\":{\"outlinewidth\":0,\"ticks\":\"\"},\"colorscale\":[[0.0,\"#0d0887\"],[0.1111111111111111,\"#46039f\"],[0.2222222222222222,\"#7201a8\"],[0.3333333333333333,\"#9c179e\"],[0.4444444444444444,\"#bd3786\"],[0.5555555555555556,\"#d8576b\"],[0.6666666666666666,\"#ed7953\"],[0.7777777777777778,\"#fb9f3a\"],[0.8888888888888888,\"#fdca26\"],[1.0,\"#f0f921\"]],\"type\":\"surface\"}],\"table\":[{\"cells\":{\"fill\":{\"color\":\"#EBF0F8\"},\"line\":{\"color\":\"white\"}},\"header\":{\"fill\":{\"color\":\"#C8D4E3\"},\"line\":{\"color\":\"white\"}},\"type\":\"table\"}]},\"layout\":{\"annotationdefaults\":{\"arrowcolor\":\"#2a3f5f\",\"arrowhead\":0,\"arrowwidth\":1},\"autotypenumbers\":\"strict\",\"coloraxis\":{\"colorbar\":{\"outlinewidth\":0,\"ticks\":\"\"}},\"colorscale\":{\"diverging\":[[0,\"#8e0152\"],[0.1,\"#c51b7d\"],[0.2,\"#de77ae\"],[0.3,\"#f1b6da\"],[0.4,\"#fde0ef\"],[0.5,\"#f7f7f7\"],[0.6,\"#e6f5d0\"],[0.7,\"#b8e186\"],[0.8,\"#7fbc41\"],[0.9,\"#4d9221\"],[1,\"#276419\"]],\"sequential\":[[0.0,\"#0d0887\"],[0.1111111111111111,\"#46039f\"],[0.2222222222222222,\"#7201a8\"],[0.3333333333333333,\"#9c179e\"],[0.4444444444444444,\"#bd3786\"],[0.5555555555555556,\"#d8576b\"],[0.6666666666666666,\"#ed7953\"],[0.7777777777777778,\"#fb9f3a\"],[0.8888888888888888,\"#fdca26\"],[1.0,\"#f0f921\"]],\"sequentialminus\":[[0.0,\"#0d0887\"],[0.1111111111111111,\"#46039f\"],[0.2222222222222222,\"#7201a8\"],[0.3333333333333333,\"#9c179e\"],[0.4444444444444444,\"#bd3786\"],[0.5555555555555556,\"#d8576b\"],[0.6666666666666666,\"#ed7953\"],[0.7777777777777778,\"#fb9f3a\"],[0.8888888888888888,\"#fdca26\"],[1.0,\"#f0f921\"]]},\"colorway\":[\"#636efa\",\"#EF553B\",\"#00cc96\",\"#ab63fa\",\"#FFA15A\",\"#19d3f3\",\"#FF6692\",\"#B6E880\",\"#FF97FF\",\"#FECB52\"],\"font\":{\"color\":\"#2a3f5f\"},\"geo\":{\"bgcolor\":\"white\",\"lakecolor\":\"white\",\"landcolor\":\"#E5ECF6\",\"showlakes\":true,\"showland\":true,\"subunitcolor\":\"white\"},\"hoverlabel\":{\"align\":\"left\"},\"hovermode\":\"closest\",\"mapbox\":{\"style\":\"light\"},\"paper_bgcolor\":\"white\",\"plot_bgcolor\":\"#E5ECF6\",\"polar\":{\"angularaxis\":{\"gridcolor\":\"white\",\"linecolor\":\"white\",\"ticks\":\"\"},\"bgcolor\":\"#E5ECF6\",\"radialaxis\":{\"gridcolor\":\"white\",\"linecolor\":\"white\",\"ticks\":\"\"}},\"scene\":{\"xaxis\":{\"backgroundcolor\":\"#E5ECF6\",\"gridcolor\":\"white\",\"gridwidth\":2,\"linecolor\":\"white\",\"showbackground\":true,\"ticks\":\"\",\"zerolinecolor\":\"white\"},\"yaxis\":{\"backgroundcolor\":\"#E5ECF6\",\"gridcolor\":\"white\",\"gridwidth\":2,\"linecolor\":\"white\",\"showbackground\":true,\"ticks\":\"\",\"zerolinecolor\":\"white\"},\"zaxis\":{\"backgroundcolor\":\"#E5ECF6\",\"gridcolor\":\"white\",\"gridwidth\":2,\"linecolor\":\"white\",\"showbackground\":true,\"ticks\":\"\",\"zerolinecolor\":\"white\"}},\"shapedefaults\":{\"line\":{\"color\":\"#2a3f5f\"}},\"ternary\":{\"aaxis\":{\"gridcolor\":\"white\",\"linecolor\":\"white\",\"ticks\":\"\"},\"baxis\":{\"gridcolor\":\"white\",\"linecolor\":\"white\",\"ticks\":\"\"},\"bgcolor\":\"#E5ECF6\",\"caxis\":{\"gridcolor\":\"white\",\"linecolor\":\"white\",\"ticks\":\"\"}},\"title\":{\"x\":0.05},\"xaxis\":{\"automargin\":true,\"gridcolor\":\"white\",\"linecolor\":\"white\",\"ticks\":\"\",\"title\":{\"standoff\":15},\"zerolinecolor\":\"white\",\"zerolinewidth\":2},\"yaxis\":{\"automargin\":true,\"gridcolor\":\"white\",\"linecolor\":\"white\",\"ticks\":\"\",\"title\":{\"standoff\":15},\"zerolinecolor\":\"white\",\"zerolinewidth\":2}}},\"annotations\":[{\"font\":{\"size\":16},\"showarrow\":false,\"text\":\"2011\",\"x\":0.10625,\"xanchor\":\"center\",\"xref\":\"paper\",\"y\":1.0,\"yanchor\":\"bottom\",\"yref\":\"paper\"},{\"font\":{\"size\":16},\"showarrow\":false,\"text\":\"2012\",\"x\":0.36875,\"xanchor\":\"center\",\"xref\":\"paper\",\"y\":1.0,\"yanchor\":\"bottom\",\"yref\":\"paper\"},{\"font\":{\"size\":16},\"showarrow\":false,\"text\":\"2013\",\"x\":0.6312500000000001,\"xanchor\":\"center\",\"xref\":\"paper\",\"y\":1.0,\"yanchor\":\"bottom\",\"yref\":\"paper\"},{\"font\":{\"size\":16},\"showarrow\":false,\"text\":\"2014\",\"x\":0.89375,\"xanchor\":\"center\",\"xref\":\"paper\",\"y\":1.0,\"yanchor\":\"bottom\",\"yref\":\"paper\"},{\"font\":{\"size\":16},\"showarrow\":false,\"text\":\"2015\",\"x\":0.10625,\"xanchor\":\"center\",\"xref\":\"paper\",\"y\":0.6111111111111112,\"yanchor\":\"bottom\",\"yref\":\"paper\"},{\"font\":{\"size\":16},\"showarrow\":false,\"text\":\"2016\",\"x\":0.36875,\"xanchor\":\"center\",\"xref\":\"paper\",\"y\":0.6111111111111112,\"yanchor\":\"bottom\",\"yref\":\"paper\"},{\"font\":{\"size\":16},\"showarrow\":false,\"text\":\"2017\",\"x\":0.6312500000000001,\"xanchor\":\"center\",\"xref\":\"paper\",\"y\":0.6111111111111112,\"yanchor\":\"bottom\",\"yref\":\"paper\"},{\"font\":{\"size\":16},\"showarrow\":false,\"text\":\"2018\",\"x\":0.89375,\"xanchor\":\"center\",\"xref\":\"paper\",\"y\":0.6111111111111112,\"yanchor\":\"bottom\",\"yref\":\"paper\"},{\"font\":{\"size\":16},\"showarrow\":false,\"text\":\"2019\",\"x\":0.10625,\"xanchor\":\"center\",\"xref\":\"paper\",\"y\":0.22222222222222224,\"yanchor\":\"bottom\",\"yref\":\"paper\"},{\"font\":{\"size\":16},\"showarrow\":false,\"text\":\"2020\",\"x\":0.36875,\"xanchor\":\"center\",\"xref\":\"paper\",\"y\":0.22222222222222224,\"yanchor\":\"bottom\",\"yref\":\"paper\"},{\"font\":{\"size\":16},\"showarrow\":false,\"text\":\"2021\",\"x\":0.6312500000000001,\"xanchor\":\"center\",\"xref\":\"paper\",\"y\":0.22222222222222224,\"yanchor\":\"bottom\",\"yref\":\"paper\"}],\"title\":{\"text\":\"Percentage of Hardware Design Vulnerabilities between 2011-2021\"},\"height\":900,\"width\":1700,\"colorway\":[\"rgb(0,0,0)\",\"rgb(30,0,100)\",\"rgb(120,0,100)\",\"rgb(160,90,0)\",\"rgb(230,200,0)\",\"rgb(255,250,220)\"]},                        {\"responsive\": true}                    ).then(function(){\n",
       "                            \n",
       "var gd = document.getElementById('52065df0-fa3d-4b2c-b265-05fc8b38b4df');\n",
       "var x = new MutationObserver(function (mutations, observer) {{\n",
       "        var display = window.getComputedStyle(gd).display;\n",
       "        if (!display || display === 'none') {{\n",
       "            console.log([gd, 'removed!']);\n",
       "            Plotly.purge(gd);\n",
       "            observer.disconnect();\n",
       "        }}\n",
       "}});\n",
       "\n",
       "// Listen for the removal of the full notebook cells\n",
       "var notebookContainer = gd.closest('#notebook-container');\n",
       "if (notebookContainer) {{\n",
       "    x.observe(notebookContainer, {childList: true});\n",
       "}}\n",
       "\n",
       "// Listen for the clearing of the current output cell\n",
       "var outputEl = gd.closest('.output');\n",
       "if (outputEl) {{\n",
       "    x.observe(outputEl, {childList: true});\n",
       "}}\n",
       "\n",
       "                        })                };                });            </script>        </div>"
      ]
     },
     "metadata": {},
     "output_type": "display_data"
    }
   ],
   "source": [
    "import plotly.graph_objects as go\n",
    "from plotly.subplots import make_subplots\n",
    "\n",
    "import plotly.express as px\n",
    "fig = make_subplots(rows=3, cols=4,  subplot_titles=(\"2011\", \"2012\", \"2013\",\"2014\",\"2015\",\"2016\",\"2017\",\"2018\",\"2019\",\"2020\",\"2021\"),\n",
    "                    specs=[[{\"type\": \"pie\"}, {\"type\": \"pie\"}, {\"type\": \"pie\"}, {\"type\": \"pie\"}],[{\"type\": \"pie\"},{\"type\": \"pie\"},{\"type\": \"pie\"},{\"type\": \"pie\"}],[{\"type\": \"pie\"},{\"type\": \"pie\"},{\"type\": \"pie\"},{\"type\": \"pie\"}]])\n",
    "\n",
    "fig.add_trace(go.Pie(labels=df2011[\"index\"].values, values=df2011[\"CWE-NAME\"].values,name=2011 ) ,row=1, col=1)\n",
    "fig.add_trace(go.Pie(labels=df2012[\"index\"].values, values=df2012[\"CWE-NAME\"].values,name=2012) ,row=1, col=2)\n",
    "fig.add_trace(go.Pie(labels=df2013[\"index\"].values, values=df2013[\"CWE-NAME\"].values,name=2013) ,row=1, col=3)\n",
    "fig.add_trace(go.Pie(labels=df2014[\"index\"].values, values=df2014[\"CWE-NAME\"].values,name=2014) ,row=1, col=4)\n",
    "fig.add_trace(go.Pie(labels=df2015[\"index\"].values, values=df2015[\"CWE-NAME\"].values,name=2015) ,row=2, col=1)\n",
    "fig.add_trace(go.Pie(labels=df2016[\"index\"].values, values=df2016[\"CWE-NAME\"].values,name=2016) ,row=2, col=2)\n",
    "fig.add_trace(go.Pie(labels=df2017[\"index\"].values, values=df2017[\"CWE-NAME\"].values,name=2017) ,row=2, col=3)\n",
    "fig.add_trace(go.Pie(labels=df2018[\"index\"].values, values=df2018[\"CWE-NAME\"].values,name=2018) ,row=2, col=4)\n",
    "fig.add_trace(go.Pie(labels=df2019[\"index\"].values, values=df2019[\"CWE-NAME\"].values,name=2019) ,row=3, col=1)\n",
    "fig.add_trace(go.Pie(labels=df2020[\"index\"].values, values=df2020[\"CWE-NAME\"].values,name=2020) ,row=3, col=2)\n",
    "fig.add_trace(go.Pie(labels=df2021[\"index\"].values, values=df2021[\"CWE-NAME\"].values,name=2021) ,row=3, col=3)\n",
    "fig.add_trace(go.Pie(labels=df2022[\"index\"].values, values=df2022[\"CWE-NAME\"].values,name=2022) ,row=3, col=4)\n",
    "\n",
    "fig.update_traces(hoverinfo='label+percent', textfont_size=15,textposition='inside',\n",
    "                  marker=dict(line=dict(color='red', width=2)))\n",
    "\n",
    "\n",
    "fig.update_layout(height=900, width=1700, colorway=px.colors.sequential.Electric , \n",
    "                  title_text=\"Percentage of Hardware Design Vulnerabilities between 2011-2021\")\n",
    "\n",
    "fig.show()"
   ]
  },
  {
   "cell_type": "markdown",
   "id": "d9d1d496",
   "metadata": {
    "papermill": {
     "duration": 0.074751,
     "end_time": "2022-01-24T20:32:53.668297",
     "exception": false,
     "start_time": "2022-01-24T20:32:53.593546",
     "status": "completed"
    },
    "tags": []
   },
   "source": [
    "#### The following chart shows the average cvss-v2 scores by year and CVE Name. Incorrect default permission shows average score values in the ranges of 4.1-7.7, Observable Discrepancy 3.38-5, Unintended Proxy or Intermediary 4.6-6.4.\n",
    "\n",
    "#### Missing Protection Against Hardware Reverse Engineering Using Integrated Circut(IC) is reported in 2021 and Missing Cryptographic Step and Expected Behavior Violation in 2019"
   ]
  },
  {
   "cell_type": "code",
   "execution_count": 12,
   "id": "5d9c1222",
   "metadata": {
    "_kg_hide-input": true,
    "execution": {
     "iopub.execute_input": "2022-01-24T20:32:53.822607Z",
     "iopub.status.busy": "2022-01-24T20:32:53.821930Z",
     "iopub.status.idle": "2022-01-24T20:32:54.874231Z",
     "shell.execute_reply": "2022-01-24T20:32:54.874764Z",
     "shell.execute_reply.started": "2022-01-24T19:04:49.28504Z"
    },
    "papermill": {
     "duration": 1.132508,
     "end_time": "2022-01-24T20:32:54.874936",
     "exception": false,
     "start_time": "2022-01-24T20:32:53.742428",
     "status": "completed"
    },
    "tags": []
   },
   "outputs": [
    {
     "data": {
      "application/vnd.plotly.v1+json": {
       "config": {
        "plotlyServerURL": "https://plot.ly"
       },
       "data": [
        {
         "alignmentgroup": "True",
         "bingroup": "y",
         "histfunc": "avg",
         "hovertemplate": "CWE-NAME=Incorrect Default Permissions<br>avg of CVSS-V2=%{x}<br>Year=%{y}<extra></extra>",
         "legendgroup": "Incorrect Default Permissions",
         "marker": {
          "color": "#636efa",
          "line": {
           "color": "rgb(8,48,107)",
           "width": 1.5
          },
          "pattern": {
           "shape": ""
          }
         },
         "name": "Incorrect Default Permissions",
         "offsetgroup": "Incorrect Default Permissions",
         "opacity": 0.6,
         "orientation": "h",
         "showlegend": true,
         "texttemplate": "%{value:.2s}",
         "type": "histogram",
         "x": [
          5.0,
          5.0,
          4.3,
          6.8,
          5.0,
          4.0,
          6.5,
          2.1,
          5.0,
          2.1,
          4.9,
          2.1,
          5.9,
          2.1,
          2.1,
          9.3,
          9.0,
          9.0,
          9.0,
          4.6,
          7.2,
          7.2,
          7.2,
          6.5,
          6.5,
          6.5,
          6.5,
          7.2,
          7.2,
          7.2,
          4.0,
          7.5,
          4.0,
          5.0,
          9.0,
          7.2,
          9.0,
          3.6,
          9.0,
          3.6,
          2.1,
          2.1,
          2.1,
          10.0,
          10.0,
          9.0,
          5.0,
          5.0,
          5.5,
          7.5,
          4.8,
          5.0,
          3.6,
          7.5,
          2.1,
          2.1,
          2.1,
          2.1,
          3.6,
          4.6,
          7.2,
          6.8,
          4.0,
          2.1,
          6.5,
          7.2,
          4.6,
          4.6,
          7.2,
          4.0,
          4.0,
          1.9,
          6.5,
          7.2,
          6.5,
          3.6,
          4.6,
          4.6,
          7.2,
          7.2,
          2.1,
          4.0,
          4.6,
          4.3,
          4.0,
          4.0,
          4.0,
          4.0,
          4.0,
          4.0,
          4.0,
          7.2,
          4.6,
          4.3,
          7.5,
          4.6,
          4.1,
          4.6,
          4.3,
          7.2,
          7.2,
          7.2,
          4.6,
          4.6,
          4.6,
          4.6,
          4.6,
          4.6,
          4.6,
          3.5,
          4.0,
          5.0,
          4.0,
          2.1,
          4.6,
          6.6,
          6.5,
          5.0,
          4.0,
          6.5,
          6.5,
          2.1,
          5.5,
          4.0,
          5.5,
          8.5,
          7.2,
          5.0,
          4.6,
          7.2,
          2.1,
          2.1,
          2.1,
          2.1,
          2.1,
          10.0,
          6.0,
          4.6,
          7.5,
          7.2,
          5.0,
          5.0,
          5.0,
          2.1,
          4.0,
          6.5,
          7.5,
          6.6,
          9.0,
          4.4,
          4.4,
          5.0,
          5.0,
          7.2,
          5.0,
          9.0,
          4.0,
          7.5,
          7.5,
          5.0,
          5.0,
          4.4,
          4.6,
          6.9,
          1.9,
          6.6,
          10.0,
          3.6,
          7.8,
          3.6,
          3.6,
          6.9,
          4.3,
          2.1,
          5.0,
          6.5,
          6.8,
          5.0,
          2.1,
          4.4,
          7.2,
          4.4,
          4.6,
          6.8,
          4.6,
          4.6,
          4.4,
          7.2,
          7.2,
          2.1,
          4.6,
          4.6,
          7.2,
          7.2,
          2.1,
          2.1,
          4.6,
          7.2,
          6.8,
          4.6,
          4.6,
          4.6,
          4.6,
          2.1,
          4.6,
          4.6,
          4.6,
          4.6,
          4.4,
          7.2,
          7.5,
          4.6,
          4.3,
          5.0,
          4.6,
          6.5,
          4.0,
          4.0,
          7.5,
          2.1,
          9.0,
          4.0,
          6.5,
          4.0,
          6.4,
          5.0,
          4.6,
          4.6,
          4.6,
          4.6,
          4.6,
          4.3,
          4.3,
          6.0,
          9.3,
          7.8,
          7.5,
          4.6,
          5.5,
          6.5,
          5.0,
          7.5,
          4.6,
          7.2,
          4.4,
          7.2,
          7.2,
          7.2,
          4.6,
          4.6,
          7.2,
          7.2,
          7.2,
          7.2,
          7.2,
          7.2,
          7.2,
          7.2,
          2.1,
          4.3,
          7.2,
          2.1,
          7.2,
          7.2,
          5.0,
          4.0,
          4.6,
          6.5,
          4.4,
          7.2,
          2.1,
          7.2,
          4.0,
          4.4,
          7.2,
          4.6,
          3.5,
          4.4,
          4.6,
          5.0,
          5.5,
          4.0,
          4.0,
          4.0,
          5.0,
          4.0,
          4.0,
          4.0,
          4.6,
          5.0,
          4.6,
          2.1,
          5.0,
          5.0,
          7.2,
          5.0,
          7.2,
          7.2,
          4.0,
          2.1,
          6.5,
          4.0,
          2.1,
          5.0,
          3.6,
          6.8,
          4.0,
          4.6,
          5.0,
          5.0,
          5.0,
          4.3,
          7.2,
          4.6,
          9.0,
          10.0,
          5.0,
          6.4,
          2.1,
          5.0,
          7.2,
          5.0,
          6.5,
          4.6,
          4.6,
          7.5,
          9.3,
          4.0,
          4.6,
          5.5,
          3.6,
          5.5,
          4.0,
          7.2,
          9.0,
          5.4,
          7.2,
          4.6,
          5.5,
          4.6,
          5.0,
          5.5,
          4.3,
          6.8,
          4.3,
          4.3,
          4.3,
          4.3,
          6.8,
          6.8,
          4.3,
          4.3,
          4.3,
          4.3,
          4.3,
          4.3,
          4.3,
          4.3,
          4.3,
          4.3,
          4.3,
          4.3,
          4.3,
          4.3,
          7.2,
          7.2,
          4.6,
          5.0,
          4.0,
          4.0,
          5.0,
          4.3,
          4.3,
          7.2,
          7.2,
          6.8,
          7.2,
          7.5,
          4.0,
          2.1,
          2.1,
          4.6,
          4.6,
          4.6,
          4.6,
          4.6,
          4.6,
          4.6,
          2.1,
          6.9,
          6.9,
          6.9,
          5.8,
          7.5,
          7.5,
          9.0,
          10.0,
          4.6,
          2.1,
          6.5,
          9.3,
          4.6,
          4.6,
          4.6,
          4.1,
          4.6,
          4.6,
          4.6,
          4.6,
          4.6,
          2.1,
          2.1,
          4.6,
          2.1,
          4.4,
          4.6,
          4.9,
          4.9,
          4.4,
          4.3,
          2.1,
          4.9,
          7.2,
          2.1,
          3.6,
          4.3,
          4.3,
          7.2,
          2.1,
          7.2,
          5.0,
          4.0,
          4.0,
          5.0,
          8.0,
          5.0,
          2.1,
          6.5,
          5.0,
          5.0,
          5.0,
          5.0,
          6.5,
          2.1,
          1.9,
          2.1,
          7.2,
          2.1,
          4.6,
          2.1,
          2.1,
          4.6,
          3.6,
          4.0,
          7.2,
          7.5,
          4.4,
          6.5,
          4.4,
          9.0,
          4.0,
          4.9,
          4.9,
          4.3,
          9.4,
          4.4,
          4.6,
          7.2,
          7.2,
          5.0,
          4.6,
          4.6,
          7.2,
          7.2,
          7.2,
          6.0,
          4.0,
          4.0,
          6.5,
          4.0,
          5.0,
          2.1,
          6.5,
          7.2,
          4.6,
          2.1,
          7.2,
          4.6,
          7.5,
          7.5,
          4.4,
          7.5,
          7.5,
          5.0,
          10.0,
          5.0,
          9.3,
          2.1,
          4.6,
          9.0,
          10.0,
          7.2,
          4.6,
          4.0,
          4.0,
          4.6,
          4.6,
          6.5,
          7.2,
          5.0,
          4.6,
          4.6,
          6.4,
          7.5,
          5.0
         ],
         "xaxis": "x",
         "y": [
          "2010",
          "2011",
          "2011",
          "2011",
          "2011",
          "2012",
          "2012",
          "2012",
          "2012",
          "2012",
          "2012",
          "2013",
          "2013",
          "2013",
          "2013",
          "2013",
          "2014",
          "2014",
          "2014",
          "2014",
          "2014",
          "2014",
          "2015",
          "2015",
          "2015",
          "2015",
          "2015",
          "2016",
          "2016",
          "2016",
          "2017",
          "2017",
          "2017",
          "2017",
          "2017",
          "2017",
          "2017",
          "2017",
          "2017",
          "2017",
          "2017",
          "2017",
          "2017",
          "2017",
          "2017",
          "2017",
          "2017",
          "2017",
          "2017",
          "2017",
          "2017",
          "2017",
          "2017",
          "2017",
          "2017",
          "2017",
          "2017",
          "2017",
          "2017",
          "2017",
          "2017",
          "2017",
          "2017",
          "2018",
          "2018",
          "2018",
          "2018",
          "2018",
          "2018",
          "2018",
          "2018",
          "2018",
          "2018",
          "2018",
          "2018",
          "2018",
          "2018",
          "2018",
          "2018",
          "2018",
          "2018",
          "2018",
          "2019",
          "2019",
          "2019",
          "2019",
          "2019",
          "2019",
          "2019",
          "2019",
          "2019",
          "2019",
          "2019",
          "2019",
          "2019",
          "2019",
          "2019",
          "2019",
          "2019",
          "2019",
          "2019",
          "2019",
          "2019",
          "2019",
          "2019",
          "2019",
          "2019",
          "2019",
          "2019",
          "2019",
          "2019",
          "2019",
          "2019",
          "2019",
          "2019",
          "2019",
          "2019",
          "2019",
          "2019",
          "2019",
          "2019",
          "2019",
          "2019",
          "2019",
          "2019",
          "2019",
          "2019",
          "2019",
          "2019",
          "2019",
          "2019",
          "2019",
          "2019",
          "2019",
          "2019",
          "2019",
          "2019",
          "2019",
          "2019",
          "2019",
          "2019",
          "2019",
          "2019",
          "2019",
          "2019",
          "2019",
          "2019",
          "2019",
          "2019",
          "2019",
          "2019",
          "2019",
          "2019",
          "2019",
          "2019",
          "2019",
          "2019",
          "2019",
          "2019",
          "2019",
          "2019",
          "2019",
          "2019",
          "2019",
          "2019",
          "2019",
          "2019",
          "2019",
          "2019",
          "2019",
          "2019",
          "2019",
          "2019",
          "2019",
          "2019",
          "2019",
          "2019",
          "2019",
          "2020",
          "2020",
          "2020",
          "2020",
          "2020",
          "2020",
          "2020",
          "2020",
          "2020",
          "2020",
          "2020",
          "2020",
          "2020",
          "2020",
          "2020",
          "2020",
          "2020",
          "2020",
          "2020",
          "2020",
          "2020",
          "2020",
          "2020",
          "2020",
          "2020",
          "2020",
          "2020",
          "2020",
          "2020",
          "2020",
          "2020",
          "2020",
          "2020",
          "2020",
          "2020",
          "2020",
          "2020",
          "2020",
          "2020",
          "2020",
          "2020",
          "2020",
          "2020",
          "2020",
          "2020",
          "2020",
          "2020",
          "2020",
          "2020",
          "2020",
          "2020",
          "2020",
          "2020",
          "2020",
          "2020",
          "2020",
          "2020",
          "2020",
          "2020",
          "2020",
          "2020",
          "2020",
          "2020",
          "2020",
          "2020",
          "2020",
          "2020",
          "2020",
          "2020",
          "2020",
          "2020",
          "2020",
          "2020",
          "2020",
          "2020",
          "2020",
          "2020",
          "2020",
          "2020",
          "2020",
          "2020",
          "2020",
          "2020",
          "2020",
          "2020",
          "2020",
          "2020",
          "2020",
          "2020",
          "2020",
          "2020",
          "2020",
          "2020",
          "2020",
          "2020",
          "2020",
          "2020",
          "2020",
          "2020",
          "2020",
          "2020",
          "2020",
          "2020",
          "2020",
          "2020",
          "2020",
          "2020",
          "2020",
          "2020",
          "2020",
          "2020",
          "2020",
          "2020",
          "2020",
          "2020",
          "2020",
          "2020",
          "2020",
          "2020",
          "2020",
          "2020",
          "2020",
          "2020",
          "2020",
          "2020",
          "2020",
          "2020",
          "2020",
          "2020",
          "2020",
          "2020",
          "2020",
          "2020",
          "2020",
          "2020",
          "2020",
          "2020",
          "2020",
          "2020",
          "2020",
          "2020",
          "2020",
          "2020",
          "2020",
          "2020",
          "2020",
          "2020",
          "2020",
          "2020",
          "2020",
          "2020",
          "2020",
          "2020",
          "2020",
          "2020",
          "2020",
          "2020",
          "2020",
          "2020",
          "2020",
          "2020",
          "2020",
          "2020",
          "2020",
          "2020",
          "2020",
          "2020",
          "2020",
          "2020",
          "2020",
          "2020",
          "2020",
          "2020",
          "2020",
          "2020",
          "2020",
          "2020",
          "2020",
          "2020",
          "2020",
          "2020",
          "2020",
          "2020",
          "2020",
          "2020",
          "2020",
          "2020",
          "2020",
          "2020",
          "2020",
          "2020",
          "2020",
          "2020",
          "2020",
          "2020",
          "2020",
          "2020",
          "2020",
          "2020",
          "2020",
          "2020",
          "2020",
          "2020",
          "2020",
          "2020",
          "2020",
          "2020",
          "2020",
          "2020",
          "2020",
          "2020",
          "2020",
          "2020",
          "2020",
          "2020",
          "2020",
          "2020",
          "2020",
          "2020",
          "2020",
          "2020",
          "2020",
          "2020",
          "2021",
          "2021",
          "2021",
          "2021",
          "2021",
          "2021",
          "2021",
          "2021",
          "2021",
          "2021",
          "2021",
          "2021",
          "2021",
          "2021",
          "2021",
          "2021",
          "2021",
          "2021",
          "2021",
          "2021",
          "2021",
          "2021",
          "2021",
          "2021",
          "2021",
          "2021",
          "2021",
          "2021",
          "2021",
          "2021",
          "2021",
          "2021",
          "2021",
          "2021",
          "2021",
          "2021",
          "2021",
          "2021",
          "2021",
          "2021",
          "2021",
          "2021",
          "2021",
          "2021",
          "2021",
          "2021",
          "2021",
          "2021",
          "2021",
          "2021",
          "2021",
          "2021",
          "2021",
          "2021",
          "2021",
          "2021",
          "2021",
          "2021",
          "2021",
          "2021",
          "2021",
          "2021",
          "2021",
          "2021",
          "2021",
          "2021",
          "2021",
          "2021",
          "2021",
          "2021",
          "2021",
          "2021",
          "2021",
          "2021",
          "2021",
          "2021",
          "2021",
          "2021",
          "2021",
          "2021",
          "2021",
          "2021",
          "2021",
          "2021",
          "2021",
          "2021",
          "2021",
          "2021",
          "2021",
          "2021",
          "2021",
          "2021",
          "2021",
          "2021",
          "2021",
          "2021",
          "2021",
          "2021",
          "2021",
          "2021",
          "2021",
          "2021",
          "2021",
          "2021",
          "2021",
          "2021",
          "2021",
          "2021",
          "2021",
          "2021",
          "2021",
          "2021",
          "2021",
          "2021"
         ],
         "yaxis": "y"
        },
        {
         "alignmentgroup": "True",
         "bingroup": "y",
         "histfunc": "avg",
         "hovertemplate": "CWE-NAME=Observable Discrepancy<br>avg of CVSS-V2=%{x}<br>Year=%{y}<extra></extra>",
         "legendgroup": "Observable Discrepancy",
         "marker": {
          "color": "#EF553B",
          "line": {
           "color": "rgb(8,48,107)",
           "width": 1.5
          },
          "pattern": {
           "shape": ""
          }
         },
         "name": "Observable Discrepancy",
         "offsetgroup": "Observable Discrepancy",
         "opacity": 0.6,
         "orientation": "h",
         "showlegend": true,
         "texttemplate": "%{value:.2s}",
         "type": "histogram",
         "x": [
          5.0,
          5.0,
          4.3,
          4.3,
          4.3,
          5.0,
          4.3,
          4.3,
          4.3,
          4.3,
          4.3,
          4.3,
          4.3,
          1.9,
          4.7,
          4.3,
          2.6,
          5.0,
          5.0,
          1.9,
          4.3,
          5.0,
          5.0,
          3.3,
          3.3,
          5.4,
          4.7,
          2.1,
          4.7,
          1.9,
          4.3,
          4.3,
          6.8,
          5.0,
          5.0,
          6.8,
          2.1,
          5.8,
          5.0,
          4.3,
          4.3,
          4.3,
          5.0,
          5.0,
          4.3,
          5.0,
          4.3,
          2.9,
          5.0,
          2.6,
          1.2,
          4.3,
          4.3,
          2.6,
          4.9,
          2.1,
          1.9,
          1.9,
          1.9,
          5.0,
          1.9,
          1.9,
          2.1,
          1.9,
          5.0,
          4.3,
          4.3,
          1.2,
          5.0,
          5.0,
          5.0,
          4.3,
          4.3,
          1.9,
          1.9,
          5.0,
          5.0,
          6.8,
          2.1,
          5.0,
          4.3,
          2.6,
          5.0,
          5.0,
          4.3,
          5.0,
          5.0,
          5.0,
          2.1,
          4.3,
          4.3,
          6.8,
          2.1,
          3.5,
          1.9,
          4.3,
          5.0,
          5.0,
          5.0,
          4.6,
          5.0,
          5.0,
          1.2,
          1.2,
          1.9,
          1.2,
          5.0,
          2.1,
          5.0,
          2.1,
          4.3,
          4.3,
          4.3,
          2.1,
          4.3,
          5.0,
          2.1,
          5.0,
          5.0,
          4.3,
          3.5,
          3.5,
          5.0,
          2.1,
          7.8,
          1.9,
          5.0,
          5.0,
          4.3,
          1.9,
          5.0,
          7.8,
          5.0,
          5.0,
          5.0,
          4.3,
          5.0,
          5.0,
          1.9,
          5.0,
          2.9,
          2.9,
          2.9,
          5.0,
          2.6,
          4.3,
          4.3,
          4.3,
          5.0,
          5.0,
          2.1,
          5.0,
          4.3,
          6.5,
          3.5,
          2.1,
          2.1,
          2.1,
          2.1,
          2.1,
          2.1,
          2.1,
          2.1,
          2.1,
          2.1,
          2.1,
          2.1,
          2.1,
          2.1,
          2.1,
          2.1,
          2.1,
          2.1,
          2.1,
          5.0,
          2.1,
          5.0,
          4.3,
          4.3,
          4.0,
          4.0,
          4.0,
          1.9,
          4.3,
          4.3,
          4.3,
          4.3,
          4.3,
          5.0,
          5.0,
          5.0,
          1.9,
          1.9,
          1.9,
          1.9,
          5.0,
          5.0,
          4.7,
          2.1,
          5.0,
          3.3,
          5.0,
          2.1,
          3.5,
          4.3,
          2.1,
          5.0,
          5.0,
          5.0,
          5.0,
          4.0,
          5.0,
          5.0,
          5.0
         ],
         "xaxis": "x",
         "y": [
          "2013",
          "2014",
          "2014",
          "2015",
          "2015",
          "2016",
          "2017",
          "2017",
          "2017",
          "2017",
          "2017",
          "2017",
          "2017",
          "2017",
          "2017",
          "2017",
          "2017",
          "2017",
          "2018",
          "2018",
          "2018",
          "2018",
          "2018",
          "2018",
          "2018",
          "2018",
          "2018",
          "2018",
          "2018",
          "2018",
          "2018",
          "2018",
          "2019",
          "2019",
          "2019",
          "2019",
          "2019",
          "2019",
          "2019",
          "2019",
          "2019",
          "2019",
          "2019",
          "2019",
          "2019",
          "2019",
          "2019",
          "2019",
          "2019",
          "2019",
          "2019",
          "2019",
          "2019",
          "2019",
          "2019",
          "2019",
          "2019",
          "2019",
          "2019",
          "2019",
          "2019",
          "2019",
          "2019",
          "2019",
          "2019",
          "2019",
          "2019",
          "2019",
          "2019",
          "2019",
          "2019",
          "2019",
          "2019",
          "2019",
          "2019",
          "2019",
          "2019",
          "2019",
          "2019",
          "2019",
          "2019",
          "2019",
          "2019",
          "2019",
          "2019",
          "2019",
          "2019",
          "2019",
          "2019",
          "2019",
          "2019",
          "2019",
          "2020",
          "2020",
          "2020",
          "2020",
          "2020",
          "2020",
          "2020",
          "2020",
          "2020",
          "2020",
          "2020",
          "2020",
          "2020",
          "2020",
          "2020",
          "2020",
          "2020",
          "2020",
          "2020",
          "2020",
          "2020",
          "2020",
          "2020",
          "2020",
          "2020",
          "2020",
          "2020",
          "2020",
          "2020",
          "2020",
          "2020",
          "2020",
          "2020",
          "2020",
          "2020",
          "2020",
          "2020",
          "2020",
          "2020",
          "2020",
          "2020",
          "2020",
          "2020",
          "2020",
          "2020",
          "2020",
          "2020",
          "2020",
          "2020",
          "2020",
          "2020",
          "2020",
          "2020",
          "2020",
          "2020",
          "2020",
          "2020",
          "2020",
          "2020",
          "2020",
          "2020",
          "2020",
          "2020",
          "2021",
          "2021",
          "2021",
          "2021",
          "2021",
          "2021",
          "2021",
          "2021",
          "2021",
          "2021",
          "2021",
          "2021",
          "2021",
          "2021",
          "2021",
          "2021",
          "2021",
          "2021",
          "2021",
          "2021",
          "2021",
          "2021",
          "2021",
          "2021",
          "2021",
          "2021",
          "2021",
          "2021",
          "2021",
          "2021",
          "2021",
          "2021",
          "2021",
          "2021",
          "2021",
          "2021",
          "2021",
          "2021",
          "2021",
          "2021",
          "2021",
          "2021",
          "2021",
          "2021",
          "2021",
          "2021",
          "2021",
          "2021",
          "2021",
          "2021",
          "2021",
          "2021",
          "2021",
          "2021",
          "2021",
          "2021",
          "2021",
          "2021",
          "2021"
         ],
         "yaxis": "y"
        },
        {
         "alignmentgroup": "True",
         "bingroup": "y",
         "histfunc": "avg",
         "hovertemplate": "CWE-NAME=Unintended Proxy or Intermediary ('Confused Deputy')<br>avg of CVSS-V2=%{x}<br>Year=%{y}<extra></extra>",
         "legendgroup": "Unintended Proxy or Intermediary ('Confused Deputy')",
         "marker": {
          "color": "#00cc96",
          "line": {
           "color": "rgb(8,48,107)",
           "width": 1.5
          },
          "pattern": {
           "shape": ""
          }
         },
         "name": "Unintended Proxy or Intermediary ('Confused Deputy')",
         "offsetgroup": "Unintended Proxy or Intermediary ('Confused Deputy')",
         "opacity": 0.6,
         "orientation": "h",
         "showlegend": true,
         "texttemplate": "%{value:.2s}",
         "type": "histogram",
         "x": [
          6.4,
          4.6,
          4.3,
          4.9,
          5.0,
          6.4
         ],
         "xaxis": "x",
         "y": [
          "2015",
          "2018",
          "2018",
          "2018",
          "2019",
          "2020"
         ],
         "yaxis": "y"
        },
        {
         "alignmentgroup": "True",
         "bingroup": "y",
         "histfunc": "avg",
         "hovertemplate": "CWE-NAME=Missing Cryptographic Step<br>avg of CVSS-V2=%{x}<br>Year=%{y}<extra></extra>",
         "legendgroup": "Missing Cryptographic Step",
         "marker": {
          "color": "#ab63fa",
          "line": {
           "color": "rgb(8,48,107)",
           "width": 1.5
          },
          "pattern": {
           "shape": ""
          }
         },
         "name": "Missing Cryptographic Step",
         "offsetgroup": "Missing Cryptographic Step",
         "opacity": 0.6,
         "orientation": "h",
         "showlegend": true,
         "texttemplate": "%{value:.2s}",
         "type": "histogram",
         "x": [
          4.3
         ],
         "xaxis": "x",
         "y": [
          "2019"
         ],
         "yaxis": "y"
        },
        {
         "alignmentgroup": "True",
         "bingroup": "y",
         "histfunc": "avg",
         "hovertemplate": "CWE-NAME=Expected Behavior Violation<br>avg of CVSS-V2=%{x}<br>Year=%{y}<extra></extra>",
         "legendgroup": "Expected Behavior Violation",
         "marker": {
          "color": "#FFA15A",
          "line": {
           "color": "rgb(8,48,107)",
           "width": 1.5
          },
          "pattern": {
           "shape": ""
          }
         },
         "name": "Expected Behavior Violation",
         "offsetgroup": "Expected Behavior Violation",
         "opacity": 0.6,
         "orientation": "h",
         "showlegend": true,
         "texttemplate": "%{value:.2s}",
         "type": "histogram",
         "x": [
          6.4
         ],
         "xaxis": "x",
         "y": [
          "2019"
         ],
         "yaxis": "y"
        },
        {
         "alignmentgroup": "True",
         "bingroup": "y",
         "histfunc": "avg",
         "hovertemplate": "CWE-NAME=Missing Protection Against Hardware Reverse Engineering Using Integrated Circuit (IC) Imaging Techniques<br>avg of CVSS-V2=%{x}<br>Year=%{y}<extra></extra>",
         "legendgroup": "Missing Protection Against Hardware Reverse Engineering Using Integrated Circuit (IC) Imaging Techniques",
         "marker": {
          "color": "#19d3f3",
          "line": {
           "color": "rgb(8,48,107)",
           "width": 1.5
          },
          "pattern": {
           "shape": ""
          }
         },
         "name": "Missing Protection Against Hardware Reverse Engineering Using Integrated Circuit (IC) Imaging Techniques",
         "offsetgroup": "Missing Protection Against Hardware Reverse Engineering Using Integrated Circuit (IC) Imaging Techniques",
         "opacity": 0.6,
         "orientation": "h",
         "showlegend": true,
         "texttemplate": "%{value:.2s}",
         "type": "histogram",
         "x": [
          6.9
         ],
         "xaxis": "x",
         "y": [
          "2021"
         ],
         "yaxis": "y"
        }
       ],
       "layout": {
        "barmode": "relative",
        "height": 700,
        "legend": {
         "title": {
          "text": "CWE-NAME"
         },
         "tracegroupgap": 0
        },
        "template": {
         "data": {
          "bar": [
           {
            "error_x": {
             "color": "#2a3f5f"
            },
            "error_y": {
             "color": "#2a3f5f"
            },
            "marker": {
             "line": {
              "color": "#E5ECF6",
              "width": 0.5
             },
             "pattern": {
              "fillmode": "overlay",
              "size": 10,
              "solidity": 0.2
             }
            },
            "type": "bar"
           }
          ],
          "barpolar": [
           {
            "marker": {
             "line": {
              "color": "#E5ECF6",
              "width": 0.5
             },
             "pattern": {
              "fillmode": "overlay",
              "size": 10,
              "solidity": 0.2
             }
            },
            "type": "barpolar"
           }
          ],
          "carpet": [
           {
            "aaxis": {
             "endlinecolor": "#2a3f5f",
             "gridcolor": "white",
             "linecolor": "white",
             "minorgridcolor": "white",
             "startlinecolor": "#2a3f5f"
            },
            "baxis": {
             "endlinecolor": "#2a3f5f",
             "gridcolor": "white",
             "linecolor": "white",
             "minorgridcolor": "white",
             "startlinecolor": "#2a3f5f"
            },
            "type": "carpet"
           }
          ],
          "choropleth": [
           {
            "colorbar": {
             "outlinewidth": 0,
             "ticks": ""
            },
            "type": "choropleth"
           }
          ],
          "contour": [
           {
            "colorbar": {
             "outlinewidth": 0,
             "ticks": ""
            },
            "colorscale": [
             [
              0.0,
              "#0d0887"
             ],
             [
              0.1111111111111111,
              "#46039f"
             ],
             [
              0.2222222222222222,
              "#7201a8"
             ],
             [
              0.3333333333333333,
              "#9c179e"
             ],
             [
              0.4444444444444444,
              "#bd3786"
             ],
             [
              0.5555555555555556,
              "#d8576b"
             ],
             [
              0.6666666666666666,
              "#ed7953"
             ],
             [
              0.7777777777777778,
              "#fb9f3a"
             ],
             [
              0.8888888888888888,
              "#fdca26"
             ],
             [
              1.0,
              "#f0f921"
             ]
            ],
            "type": "contour"
           }
          ],
          "contourcarpet": [
           {
            "colorbar": {
             "outlinewidth": 0,
             "ticks": ""
            },
            "type": "contourcarpet"
           }
          ],
          "heatmap": [
           {
            "colorbar": {
             "outlinewidth": 0,
             "ticks": ""
            },
            "colorscale": [
             [
              0.0,
              "#0d0887"
             ],
             [
              0.1111111111111111,
              "#46039f"
             ],
             [
              0.2222222222222222,
              "#7201a8"
             ],
             [
              0.3333333333333333,
              "#9c179e"
             ],
             [
              0.4444444444444444,
              "#bd3786"
             ],
             [
              0.5555555555555556,
              "#d8576b"
             ],
             [
              0.6666666666666666,
              "#ed7953"
             ],
             [
              0.7777777777777778,
              "#fb9f3a"
             ],
             [
              0.8888888888888888,
              "#fdca26"
             ],
             [
              1.0,
              "#f0f921"
             ]
            ],
            "type": "heatmap"
           }
          ],
          "heatmapgl": [
           {
            "colorbar": {
             "outlinewidth": 0,
             "ticks": ""
            },
            "colorscale": [
             [
              0.0,
              "#0d0887"
             ],
             [
              0.1111111111111111,
              "#46039f"
             ],
             [
              0.2222222222222222,
              "#7201a8"
             ],
             [
              0.3333333333333333,
              "#9c179e"
             ],
             [
              0.4444444444444444,
              "#bd3786"
             ],
             [
              0.5555555555555556,
              "#d8576b"
             ],
             [
              0.6666666666666666,
              "#ed7953"
             ],
             [
              0.7777777777777778,
              "#fb9f3a"
             ],
             [
              0.8888888888888888,
              "#fdca26"
             ],
             [
              1.0,
              "#f0f921"
             ]
            ],
            "type": "heatmapgl"
           }
          ],
          "histogram": [
           {
            "marker": {
             "pattern": {
              "fillmode": "overlay",
              "size": 10,
              "solidity": 0.2
             }
            },
            "type": "histogram"
           }
          ],
          "histogram2d": [
           {
            "colorbar": {
             "outlinewidth": 0,
             "ticks": ""
            },
            "colorscale": [
             [
              0.0,
              "#0d0887"
             ],
             [
              0.1111111111111111,
              "#46039f"
             ],
             [
              0.2222222222222222,
              "#7201a8"
             ],
             [
              0.3333333333333333,
              "#9c179e"
             ],
             [
              0.4444444444444444,
              "#bd3786"
             ],
             [
              0.5555555555555556,
              "#d8576b"
             ],
             [
              0.6666666666666666,
              "#ed7953"
             ],
             [
              0.7777777777777778,
              "#fb9f3a"
             ],
             [
              0.8888888888888888,
              "#fdca26"
             ],
             [
              1.0,
              "#f0f921"
             ]
            ],
            "type": "histogram2d"
           }
          ],
          "histogram2dcontour": [
           {
            "colorbar": {
             "outlinewidth": 0,
             "ticks": ""
            },
            "colorscale": [
             [
              0.0,
              "#0d0887"
             ],
             [
              0.1111111111111111,
              "#46039f"
             ],
             [
              0.2222222222222222,
              "#7201a8"
             ],
             [
              0.3333333333333333,
              "#9c179e"
             ],
             [
              0.4444444444444444,
              "#bd3786"
             ],
             [
              0.5555555555555556,
              "#d8576b"
             ],
             [
              0.6666666666666666,
              "#ed7953"
             ],
             [
              0.7777777777777778,
              "#fb9f3a"
             ],
             [
              0.8888888888888888,
              "#fdca26"
             ],
             [
              1.0,
              "#f0f921"
             ]
            ],
            "type": "histogram2dcontour"
           }
          ],
          "mesh3d": [
           {
            "colorbar": {
             "outlinewidth": 0,
             "ticks": ""
            },
            "type": "mesh3d"
           }
          ],
          "parcoords": [
           {
            "line": {
             "colorbar": {
              "outlinewidth": 0,
              "ticks": ""
             }
            },
            "type": "parcoords"
           }
          ],
          "pie": [
           {
            "automargin": true,
            "type": "pie"
           }
          ],
          "scatter": [
           {
            "marker": {
             "colorbar": {
              "outlinewidth": 0,
              "ticks": ""
             }
            },
            "type": "scatter"
           }
          ],
          "scatter3d": [
           {
            "line": {
             "colorbar": {
              "outlinewidth": 0,
              "ticks": ""
             }
            },
            "marker": {
             "colorbar": {
              "outlinewidth": 0,
              "ticks": ""
             }
            },
            "type": "scatter3d"
           }
          ],
          "scattercarpet": [
           {
            "marker": {
             "colorbar": {
              "outlinewidth": 0,
              "ticks": ""
             }
            },
            "type": "scattercarpet"
           }
          ],
          "scattergeo": [
           {
            "marker": {
             "colorbar": {
              "outlinewidth": 0,
              "ticks": ""
             }
            },
            "type": "scattergeo"
           }
          ],
          "scattergl": [
           {
            "marker": {
             "colorbar": {
              "outlinewidth": 0,
              "ticks": ""
             }
            },
            "type": "scattergl"
           }
          ],
          "scattermapbox": [
           {
            "marker": {
             "colorbar": {
              "outlinewidth": 0,
              "ticks": ""
             }
            },
            "type": "scattermapbox"
           }
          ],
          "scatterpolar": [
           {
            "marker": {
             "colorbar": {
              "outlinewidth": 0,
              "ticks": ""
             }
            },
            "type": "scatterpolar"
           }
          ],
          "scatterpolargl": [
           {
            "marker": {
             "colorbar": {
              "outlinewidth": 0,
              "ticks": ""
             }
            },
            "type": "scatterpolargl"
           }
          ],
          "scatterternary": [
           {
            "marker": {
             "colorbar": {
              "outlinewidth": 0,
              "ticks": ""
             }
            },
            "type": "scatterternary"
           }
          ],
          "surface": [
           {
            "colorbar": {
             "outlinewidth": 0,
             "ticks": ""
            },
            "colorscale": [
             [
              0.0,
              "#0d0887"
             ],
             [
              0.1111111111111111,
              "#46039f"
             ],
             [
              0.2222222222222222,
              "#7201a8"
             ],
             [
              0.3333333333333333,
              "#9c179e"
             ],
             [
              0.4444444444444444,
              "#bd3786"
             ],
             [
              0.5555555555555556,
              "#d8576b"
             ],
             [
              0.6666666666666666,
              "#ed7953"
             ],
             [
              0.7777777777777778,
              "#fb9f3a"
             ],
             [
              0.8888888888888888,
              "#fdca26"
             ],
             [
              1.0,
              "#f0f921"
             ]
            ],
            "type": "surface"
           }
          ],
          "table": [
           {
            "cells": {
             "fill": {
              "color": "#EBF0F8"
             },
             "line": {
              "color": "white"
             }
            },
            "header": {
             "fill": {
              "color": "#C8D4E3"
             },
             "line": {
              "color": "white"
             }
            },
            "type": "table"
           }
          ]
         },
         "layout": {
          "annotationdefaults": {
           "arrowcolor": "#2a3f5f",
           "arrowhead": 0,
           "arrowwidth": 1
          },
          "autotypenumbers": "strict",
          "coloraxis": {
           "colorbar": {
            "outlinewidth": 0,
            "ticks": ""
           }
          },
          "colorscale": {
           "diverging": [
            [
             0,
             "#8e0152"
            ],
            [
             0.1,
             "#c51b7d"
            ],
            [
             0.2,
             "#de77ae"
            ],
            [
             0.3,
             "#f1b6da"
            ],
            [
             0.4,
             "#fde0ef"
            ],
            [
             0.5,
             "#f7f7f7"
            ],
            [
             0.6,
             "#e6f5d0"
            ],
            [
             0.7,
             "#b8e186"
            ],
            [
             0.8,
             "#7fbc41"
            ],
            [
             0.9,
             "#4d9221"
            ],
            [
             1,
             "#276419"
            ]
           ],
           "sequential": [
            [
             0.0,
             "#0d0887"
            ],
            [
             0.1111111111111111,
             "#46039f"
            ],
            [
             0.2222222222222222,
             "#7201a8"
            ],
            [
             0.3333333333333333,
             "#9c179e"
            ],
            [
             0.4444444444444444,
             "#bd3786"
            ],
            [
             0.5555555555555556,
             "#d8576b"
            ],
            [
             0.6666666666666666,
             "#ed7953"
            ],
            [
             0.7777777777777778,
             "#fb9f3a"
            ],
            [
             0.8888888888888888,
             "#fdca26"
            ],
            [
             1.0,
             "#f0f921"
            ]
           ],
           "sequentialminus": [
            [
             0.0,
             "#0d0887"
            ],
            [
             0.1111111111111111,
             "#46039f"
            ],
            [
             0.2222222222222222,
             "#7201a8"
            ],
            [
             0.3333333333333333,
             "#9c179e"
            ],
            [
             0.4444444444444444,
             "#bd3786"
            ],
            [
             0.5555555555555556,
             "#d8576b"
            ],
            [
             0.6666666666666666,
             "#ed7953"
            ],
            [
             0.7777777777777778,
             "#fb9f3a"
            ],
            [
             0.8888888888888888,
             "#fdca26"
            ],
            [
             1.0,
             "#f0f921"
            ]
           ]
          },
          "colorway": [
           "#636efa",
           "#EF553B",
           "#00cc96",
           "#ab63fa",
           "#FFA15A",
           "#19d3f3",
           "#FF6692",
           "#B6E880",
           "#FF97FF",
           "#FECB52"
          ],
          "font": {
           "color": "#2a3f5f"
          },
          "geo": {
           "bgcolor": "white",
           "lakecolor": "white",
           "landcolor": "#E5ECF6",
           "showlakes": true,
           "showland": true,
           "subunitcolor": "white"
          },
          "hoverlabel": {
           "align": "left"
          },
          "hovermode": "closest",
          "mapbox": {
           "style": "light"
          },
          "paper_bgcolor": "white",
          "plot_bgcolor": "#E5ECF6",
          "polar": {
           "angularaxis": {
            "gridcolor": "white",
            "linecolor": "white",
            "ticks": ""
           },
           "bgcolor": "#E5ECF6",
           "radialaxis": {
            "gridcolor": "white",
            "linecolor": "white",
            "ticks": ""
           }
          },
          "scene": {
           "xaxis": {
            "backgroundcolor": "#E5ECF6",
            "gridcolor": "white",
            "gridwidth": 2,
            "linecolor": "white",
            "showbackground": true,
            "ticks": "",
            "zerolinecolor": "white"
           },
           "yaxis": {
            "backgroundcolor": "#E5ECF6",
            "gridcolor": "white",
            "gridwidth": 2,
            "linecolor": "white",
            "showbackground": true,
            "ticks": "",
            "zerolinecolor": "white"
           },
           "zaxis": {
            "backgroundcolor": "#E5ECF6",
            "gridcolor": "white",
            "gridwidth": 2,
            "linecolor": "white",
            "showbackground": true,
            "ticks": "",
            "zerolinecolor": "white"
           }
          },
          "shapedefaults": {
           "line": {
            "color": "#2a3f5f"
           }
          },
          "ternary": {
           "aaxis": {
            "gridcolor": "white",
            "linecolor": "white",
            "ticks": ""
           },
           "baxis": {
            "gridcolor": "white",
            "linecolor": "white",
            "ticks": ""
           },
           "bgcolor": "#E5ECF6",
           "caxis": {
            "gridcolor": "white",
            "linecolor": "white",
            "ticks": ""
           }
          },
          "title": {
           "x": 0.05
          },
          "xaxis": {
           "automargin": true,
           "gridcolor": "white",
           "linecolor": "white",
           "ticks": "",
           "title": {
            "standoff": 15
           },
           "zerolinecolor": "white",
           "zerolinewidth": 2
          },
          "yaxis": {
           "automargin": true,
           "gridcolor": "white",
           "linecolor": "white",
           "ticks": "",
           "title": {
            "standoff": 15
           },
           "zerolinecolor": "white",
           "zerolinewidth": 2
          }
         }
        },
        "title": {
         "text": "Hardware Design- Average CVSS-V2 Score by CWE NAME and Year"
        },
        "width": 1500,
        "xaxis": {
         "anchor": "y",
         "domain": [
          0.0,
          1.0
         ],
         "title": {
          "text": "avg of CVSS-V2"
         }
        },
        "yaxis": {
         "anchor": "x",
         "domain": [
          0.0,
          1.0
         ],
         "title": {
          "text": "Year"
         }
        }
       }
      },
      "text/html": [
       "<div>                            <div id=\"11c5c75b-eabe-4533-a8c3-24e39de2d5b7\" class=\"plotly-graph-div\" style=\"height:700px; width:1500px;\"></div>            <script type=\"text/javascript\">                require([\"plotly\"], function(Plotly) {                    window.PLOTLYENV=window.PLOTLYENV || {};                                    if (document.getElementById(\"11c5c75b-eabe-4533-a8c3-24e39de2d5b7\")) {                    Plotly.newPlot(                        \"11c5c75b-eabe-4533-a8c3-24e39de2d5b7\",                        [{\"alignmentgroup\":\"True\",\"bingroup\":\"y\",\"histfunc\":\"avg\",\"hovertemplate\":\"CWE-NAME=Incorrect Default Permissions<br>avg of CVSS-V2=%{x}<br>Year=%{y}<extra></extra>\",\"legendgroup\":\"Incorrect Default Permissions\",\"marker\":{\"color\":\"#636efa\",\"pattern\":{\"shape\":\"\"},\"line\":{\"color\":\"rgb(8,48,107)\",\"width\":1.5}},\"name\":\"Incorrect Default Permissions\",\"offsetgroup\":\"Incorrect Default Permissions\",\"orientation\":\"h\",\"showlegend\":true,\"texttemplate\":\"%{value:.2s}\",\"x\":[5.0,5.0,4.3,6.8,5.0,4.0,6.5,2.1,5.0,2.1,4.9,2.1,5.9,2.1,2.1,9.3,9.0,9.0,9.0,4.6,7.2,7.2,7.2,6.5,6.5,6.5,6.5,7.2,7.2,7.2,4.0,7.5,4.0,5.0,9.0,7.2,9.0,3.6,9.0,3.6,2.1,2.1,2.1,10.0,10.0,9.0,5.0,5.0,5.5,7.5,4.8,5.0,3.6,7.5,2.1,2.1,2.1,2.1,3.6,4.6,7.2,6.8,4.0,2.1,6.5,7.2,4.6,4.6,7.2,4.0,4.0,1.9,6.5,7.2,6.5,3.6,4.6,4.6,7.2,7.2,2.1,4.0,4.6,4.3,4.0,4.0,4.0,4.0,4.0,4.0,4.0,7.2,4.6,4.3,7.5,4.6,4.1,4.6,4.3,7.2,7.2,7.2,4.6,4.6,4.6,4.6,4.6,4.6,4.6,3.5,4.0,5.0,4.0,2.1,4.6,6.6,6.5,5.0,4.0,6.5,6.5,2.1,5.5,4.0,5.5,8.5,7.2,5.0,4.6,7.2,2.1,2.1,2.1,2.1,2.1,10.0,6.0,4.6,7.5,7.2,5.0,5.0,5.0,2.1,4.0,6.5,7.5,6.6,9.0,4.4,4.4,5.0,5.0,7.2,5.0,9.0,4.0,7.5,7.5,5.0,5.0,4.4,4.6,6.9,1.9,6.6,10.0,3.6,7.8,3.6,3.6,6.9,4.3,2.1,5.0,6.5,6.8,5.0,2.1,4.4,7.2,4.4,4.6,6.8,4.6,4.6,4.4,7.2,7.2,2.1,4.6,4.6,7.2,7.2,2.1,2.1,4.6,7.2,6.8,4.6,4.6,4.6,4.6,2.1,4.6,4.6,4.6,4.6,4.4,7.2,7.5,4.6,4.3,5.0,4.6,6.5,4.0,4.0,7.5,2.1,9.0,4.0,6.5,4.0,6.4,5.0,4.6,4.6,4.6,4.6,4.6,4.3,4.3,6.0,9.3,7.8,7.5,4.6,5.5,6.5,5.0,7.5,4.6,7.2,4.4,7.2,7.2,7.2,4.6,4.6,7.2,7.2,7.2,7.2,7.2,7.2,7.2,7.2,2.1,4.3,7.2,2.1,7.2,7.2,5.0,4.0,4.6,6.5,4.4,7.2,2.1,7.2,4.0,4.4,7.2,4.6,3.5,4.4,4.6,5.0,5.5,4.0,4.0,4.0,5.0,4.0,4.0,4.0,4.6,5.0,4.6,2.1,5.0,5.0,7.2,5.0,7.2,7.2,4.0,2.1,6.5,4.0,2.1,5.0,3.6,6.8,4.0,4.6,5.0,5.0,5.0,4.3,7.2,4.6,9.0,10.0,5.0,6.4,2.1,5.0,7.2,5.0,6.5,4.6,4.6,7.5,9.3,4.0,4.6,5.5,3.6,5.5,4.0,7.2,9.0,5.4,7.2,4.6,5.5,4.6,5.0,5.5,4.3,6.8,4.3,4.3,4.3,4.3,6.8,6.8,4.3,4.3,4.3,4.3,4.3,4.3,4.3,4.3,4.3,4.3,4.3,4.3,4.3,4.3,7.2,7.2,4.6,5.0,4.0,4.0,5.0,4.3,4.3,7.2,7.2,6.8,7.2,7.5,4.0,2.1,2.1,4.6,4.6,4.6,4.6,4.6,4.6,4.6,2.1,6.9,6.9,6.9,5.8,7.5,7.5,9.0,10.0,4.6,2.1,6.5,9.3,4.6,4.6,4.6,4.1,4.6,4.6,4.6,4.6,4.6,2.1,2.1,4.6,2.1,4.4,4.6,4.9,4.9,4.4,4.3,2.1,4.9,7.2,2.1,3.6,4.3,4.3,7.2,2.1,7.2,5.0,4.0,4.0,5.0,8.0,5.0,2.1,6.5,5.0,5.0,5.0,5.0,6.5,2.1,1.9,2.1,7.2,2.1,4.6,2.1,2.1,4.6,3.6,4.0,7.2,7.5,4.4,6.5,4.4,9.0,4.0,4.9,4.9,4.3,9.4,4.4,4.6,7.2,7.2,5.0,4.6,4.6,7.2,7.2,7.2,6.0,4.0,4.0,6.5,4.0,5.0,2.1,6.5,7.2,4.6,2.1,7.2,4.6,7.5,7.5,4.4,7.5,7.5,5.0,10.0,5.0,9.3,2.1,4.6,9.0,10.0,7.2,4.6,4.0,4.0,4.6,4.6,6.5,7.2,5.0,4.6,4.6,6.4,7.5,5.0],\"xaxis\":\"x\",\"y\":[\"2010\",\"2011\",\"2011\",\"2011\",\"2011\",\"2012\",\"2012\",\"2012\",\"2012\",\"2012\",\"2012\",\"2013\",\"2013\",\"2013\",\"2013\",\"2013\",\"2014\",\"2014\",\"2014\",\"2014\",\"2014\",\"2014\",\"2015\",\"2015\",\"2015\",\"2015\",\"2015\",\"2016\",\"2016\",\"2016\",\"2017\",\"2017\",\"2017\",\"2017\",\"2017\",\"2017\",\"2017\",\"2017\",\"2017\",\"2017\",\"2017\",\"2017\",\"2017\",\"2017\",\"2017\",\"2017\",\"2017\",\"2017\",\"2017\",\"2017\",\"2017\",\"2017\",\"2017\",\"2017\",\"2017\",\"2017\",\"2017\",\"2017\",\"2017\",\"2017\",\"2017\",\"2017\",\"2017\",\"2018\",\"2018\",\"2018\",\"2018\",\"2018\",\"2018\",\"2018\",\"2018\",\"2018\",\"2018\",\"2018\",\"2018\",\"2018\",\"2018\",\"2018\",\"2018\",\"2018\",\"2018\",\"2018\",\"2019\",\"2019\",\"2019\",\"2019\",\"2019\",\"2019\",\"2019\",\"2019\",\"2019\",\"2019\",\"2019\",\"2019\",\"2019\",\"2019\",\"2019\",\"2019\",\"2019\",\"2019\",\"2019\",\"2019\",\"2019\",\"2019\",\"2019\",\"2019\",\"2019\",\"2019\",\"2019\",\"2019\",\"2019\",\"2019\",\"2019\",\"2019\",\"2019\",\"2019\",\"2019\",\"2019\",\"2019\",\"2019\",\"2019\",\"2019\",\"2019\",\"2019\",\"2019\",\"2019\",\"2019\",\"2019\",\"2019\",\"2019\",\"2019\",\"2019\",\"2019\",\"2019\",\"2019\",\"2019\",\"2019\",\"2019\",\"2019\",\"2019\",\"2019\",\"2019\",\"2019\",\"2019\",\"2019\",\"2019\",\"2019\",\"2019\",\"2019\",\"2019\",\"2019\",\"2019\",\"2019\",\"2019\",\"2019\",\"2019\",\"2019\",\"2019\",\"2019\",\"2019\",\"2019\",\"2019\",\"2019\",\"2019\",\"2019\",\"2019\",\"2019\",\"2019\",\"2019\",\"2019\",\"2019\",\"2019\",\"2019\",\"2019\",\"2019\",\"2019\",\"2019\",\"2019\",\"2020\",\"2020\",\"2020\",\"2020\",\"2020\",\"2020\",\"2020\",\"2020\",\"2020\",\"2020\",\"2020\",\"2020\",\"2020\",\"2020\",\"2020\",\"2020\",\"2020\",\"2020\",\"2020\",\"2020\",\"2020\",\"2020\",\"2020\",\"2020\",\"2020\",\"2020\",\"2020\",\"2020\",\"2020\",\"2020\",\"2020\",\"2020\",\"2020\",\"2020\",\"2020\",\"2020\",\"2020\",\"2020\",\"2020\",\"2020\",\"2020\",\"2020\",\"2020\",\"2020\",\"2020\",\"2020\",\"2020\",\"2020\",\"2020\",\"2020\",\"2020\",\"2020\",\"2020\",\"2020\",\"2020\",\"2020\",\"2020\",\"2020\",\"2020\",\"2020\",\"2020\",\"2020\",\"2020\",\"2020\",\"2020\",\"2020\",\"2020\",\"2020\",\"2020\",\"2020\",\"2020\",\"2020\",\"2020\",\"2020\",\"2020\",\"2020\",\"2020\",\"2020\",\"2020\",\"2020\",\"2020\",\"2020\",\"2020\",\"2020\",\"2020\",\"2020\",\"2020\",\"2020\",\"2020\",\"2020\",\"2020\",\"2020\",\"2020\",\"2020\",\"2020\",\"2020\",\"2020\",\"2020\",\"2020\",\"2020\",\"2020\",\"2020\",\"2020\",\"2020\",\"2020\",\"2020\",\"2020\",\"2020\",\"2020\",\"2020\",\"2020\",\"2020\",\"2020\",\"2020\",\"2020\",\"2020\",\"2020\",\"2020\",\"2020\",\"2020\",\"2020\",\"2020\",\"2020\",\"2020\",\"2020\",\"2020\",\"2020\",\"2020\",\"2020\",\"2020\",\"2020\",\"2020\",\"2020\",\"2020\",\"2020\",\"2020\",\"2020\",\"2020\",\"2020\",\"2020\",\"2020\",\"2020\",\"2020\",\"2020\",\"2020\",\"2020\",\"2020\",\"2020\",\"2020\",\"2020\",\"2020\",\"2020\",\"2020\",\"2020\",\"2020\",\"2020\",\"2020\",\"2020\",\"2020\",\"2020\",\"2020\",\"2020\",\"2020\",\"2020\",\"2020\",\"2020\",\"2020\",\"2020\",\"2020\",\"2020\",\"2020\",\"2020\",\"2020\",\"2020\",\"2020\",\"2020\",\"2020\",\"2020\",\"2020\",\"2020\",\"2020\",\"2020\",\"2020\",\"2020\",\"2020\",\"2020\",\"2020\",\"2020\",\"2020\",\"2020\",\"2020\",\"2020\",\"2020\",\"2020\",\"2020\",\"2020\",\"2020\",\"2020\",\"2020\",\"2020\",\"2020\",\"2020\",\"2020\",\"2020\",\"2020\",\"2020\",\"2020\",\"2020\",\"2020\",\"2020\",\"2020\",\"2020\",\"2020\",\"2020\",\"2020\",\"2020\",\"2020\",\"2020\",\"2020\",\"2020\",\"2020\",\"2020\",\"2020\",\"2021\",\"2021\",\"2021\",\"2021\",\"2021\",\"2021\",\"2021\",\"2021\",\"2021\",\"2021\",\"2021\",\"2021\",\"2021\",\"2021\",\"2021\",\"2021\",\"2021\",\"2021\",\"2021\",\"2021\",\"2021\",\"2021\",\"2021\",\"2021\",\"2021\",\"2021\",\"2021\",\"2021\",\"2021\",\"2021\",\"2021\",\"2021\",\"2021\",\"2021\",\"2021\",\"2021\",\"2021\",\"2021\",\"2021\",\"2021\",\"2021\",\"2021\",\"2021\",\"2021\",\"2021\",\"2021\",\"2021\",\"2021\",\"2021\",\"2021\",\"2021\",\"2021\",\"2021\",\"2021\",\"2021\",\"2021\",\"2021\",\"2021\",\"2021\",\"2021\",\"2021\",\"2021\",\"2021\",\"2021\",\"2021\",\"2021\",\"2021\",\"2021\",\"2021\",\"2021\",\"2021\",\"2021\",\"2021\",\"2021\",\"2021\",\"2021\",\"2021\",\"2021\",\"2021\",\"2021\",\"2021\",\"2021\",\"2021\",\"2021\",\"2021\",\"2021\",\"2021\",\"2021\",\"2021\",\"2021\",\"2021\",\"2021\",\"2021\",\"2021\",\"2021\",\"2021\",\"2021\",\"2021\",\"2021\",\"2021\",\"2021\",\"2021\",\"2021\",\"2021\",\"2021\",\"2021\",\"2021\",\"2021\",\"2021\",\"2021\",\"2021\",\"2021\",\"2021\",\"2021\"],\"yaxis\":\"y\",\"type\":\"histogram\",\"opacity\":0.6},{\"alignmentgroup\":\"True\",\"bingroup\":\"y\",\"histfunc\":\"avg\",\"hovertemplate\":\"CWE-NAME=Observable Discrepancy<br>avg of CVSS-V2=%{x}<br>Year=%{y}<extra></extra>\",\"legendgroup\":\"Observable Discrepancy\",\"marker\":{\"color\":\"#EF553B\",\"pattern\":{\"shape\":\"\"},\"line\":{\"color\":\"rgb(8,48,107)\",\"width\":1.5}},\"name\":\"Observable Discrepancy\",\"offsetgroup\":\"Observable Discrepancy\",\"orientation\":\"h\",\"showlegend\":true,\"texttemplate\":\"%{value:.2s}\",\"x\":[5.0,5.0,4.3,4.3,4.3,5.0,4.3,4.3,4.3,4.3,4.3,4.3,4.3,1.9,4.7,4.3,2.6,5.0,5.0,1.9,4.3,5.0,5.0,3.3,3.3,5.4,4.7,2.1,4.7,1.9,4.3,4.3,6.8,5.0,5.0,6.8,2.1,5.8,5.0,4.3,4.3,4.3,5.0,5.0,4.3,5.0,4.3,2.9,5.0,2.6,1.2,4.3,4.3,2.6,4.9,2.1,1.9,1.9,1.9,5.0,1.9,1.9,2.1,1.9,5.0,4.3,4.3,1.2,5.0,5.0,5.0,4.3,4.3,1.9,1.9,5.0,5.0,6.8,2.1,5.0,4.3,2.6,5.0,5.0,4.3,5.0,5.0,5.0,2.1,4.3,4.3,6.8,2.1,3.5,1.9,4.3,5.0,5.0,5.0,4.6,5.0,5.0,1.2,1.2,1.9,1.2,5.0,2.1,5.0,2.1,4.3,4.3,4.3,2.1,4.3,5.0,2.1,5.0,5.0,4.3,3.5,3.5,5.0,2.1,7.8,1.9,5.0,5.0,4.3,1.9,5.0,7.8,5.0,5.0,5.0,4.3,5.0,5.0,1.9,5.0,2.9,2.9,2.9,5.0,2.6,4.3,4.3,4.3,5.0,5.0,2.1,5.0,4.3,6.5,3.5,2.1,2.1,2.1,2.1,2.1,2.1,2.1,2.1,2.1,2.1,2.1,2.1,2.1,2.1,2.1,2.1,2.1,2.1,2.1,5.0,2.1,5.0,4.3,4.3,4.0,4.0,4.0,1.9,4.3,4.3,4.3,4.3,4.3,5.0,5.0,5.0,1.9,1.9,1.9,1.9,5.0,5.0,4.7,2.1,5.0,3.3,5.0,2.1,3.5,4.3,2.1,5.0,5.0,5.0,5.0,4.0,5.0,5.0,5.0],\"xaxis\":\"x\",\"y\":[\"2013\",\"2014\",\"2014\",\"2015\",\"2015\",\"2016\",\"2017\",\"2017\",\"2017\",\"2017\",\"2017\",\"2017\",\"2017\",\"2017\",\"2017\",\"2017\",\"2017\",\"2017\",\"2018\",\"2018\",\"2018\",\"2018\",\"2018\",\"2018\",\"2018\",\"2018\",\"2018\",\"2018\",\"2018\",\"2018\",\"2018\",\"2018\",\"2019\",\"2019\",\"2019\",\"2019\",\"2019\",\"2019\",\"2019\",\"2019\",\"2019\",\"2019\",\"2019\",\"2019\",\"2019\",\"2019\",\"2019\",\"2019\",\"2019\",\"2019\",\"2019\",\"2019\",\"2019\",\"2019\",\"2019\",\"2019\",\"2019\",\"2019\",\"2019\",\"2019\",\"2019\",\"2019\",\"2019\",\"2019\",\"2019\",\"2019\",\"2019\",\"2019\",\"2019\",\"2019\",\"2019\",\"2019\",\"2019\",\"2019\",\"2019\",\"2019\",\"2019\",\"2019\",\"2019\",\"2019\",\"2019\",\"2019\",\"2019\",\"2019\",\"2019\",\"2019\",\"2019\",\"2019\",\"2019\",\"2019\",\"2019\",\"2019\",\"2020\",\"2020\",\"2020\",\"2020\",\"2020\",\"2020\",\"2020\",\"2020\",\"2020\",\"2020\",\"2020\",\"2020\",\"2020\",\"2020\",\"2020\",\"2020\",\"2020\",\"2020\",\"2020\",\"2020\",\"2020\",\"2020\",\"2020\",\"2020\",\"2020\",\"2020\",\"2020\",\"2020\",\"2020\",\"2020\",\"2020\",\"2020\",\"2020\",\"2020\",\"2020\",\"2020\",\"2020\",\"2020\",\"2020\",\"2020\",\"2020\",\"2020\",\"2020\",\"2020\",\"2020\",\"2020\",\"2020\",\"2020\",\"2020\",\"2020\",\"2020\",\"2020\",\"2020\",\"2020\",\"2020\",\"2020\",\"2020\",\"2020\",\"2020\",\"2020\",\"2020\",\"2020\",\"2020\",\"2021\",\"2021\",\"2021\",\"2021\",\"2021\",\"2021\",\"2021\",\"2021\",\"2021\",\"2021\",\"2021\",\"2021\",\"2021\",\"2021\",\"2021\",\"2021\",\"2021\",\"2021\",\"2021\",\"2021\",\"2021\",\"2021\",\"2021\",\"2021\",\"2021\",\"2021\",\"2021\",\"2021\",\"2021\",\"2021\",\"2021\",\"2021\",\"2021\",\"2021\",\"2021\",\"2021\",\"2021\",\"2021\",\"2021\",\"2021\",\"2021\",\"2021\",\"2021\",\"2021\",\"2021\",\"2021\",\"2021\",\"2021\",\"2021\",\"2021\",\"2021\",\"2021\",\"2021\",\"2021\",\"2021\",\"2021\",\"2021\",\"2021\",\"2021\"],\"yaxis\":\"y\",\"type\":\"histogram\",\"opacity\":0.6},{\"alignmentgroup\":\"True\",\"bingroup\":\"y\",\"histfunc\":\"avg\",\"hovertemplate\":\"CWE-NAME=Unintended Proxy or Intermediary ('Confused Deputy')<br>avg of CVSS-V2=%{x}<br>Year=%{y}<extra></extra>\",\"legendgroup\":\"Unintended Proxy or Intermediary ('Confused Deputy')\",\"marker\":{\"color\":\"#00cc96\",\"pattern\":{\"shape\":\"\"},\"line\":{\"color\":\"rgb(8,48,107)\",\"width\":1.5}},\"name\":\"Unintended Proxy or Intermediary ('Confused Deputy')\",\"offsetgroup\":\"Unintended Proxy or Intermediary ('Confused Deputy')\",\"orientation\":\"h\",\"showlegend\":true,\"texttemplate\":\"%{value:.2s}\",\"x\":[6.4,4.6,4.3,4.9,5.0,6.4],\"xaxis\":\"x\",\"y\":[\"2015\",\"2018\",\"2018\",\"2018\",\"2019\",\"2020\"],\"yaxis\":\"y\",\"type\":\"histogram\",\"opacity\":0.6},{\"alignmentgroup\":\"True\",\"bingroup\":\"y\",\"histfunc\":\"avg\",\"hovertemplate\":\"CWE-NAME=Missing Cryptographic Step<br>avg of CVSS-V2=%{x}<br>Year=%{y}<extra></extra>\",\"legendgroup\":\"Missing Cryptographic Step\",\"marker\":{\"color\":\"#ab63fa\",\"pattern\":{\"shape\":\"\"},\"line\":{\"color\":\"rgb(8,48,107)\",\"width\":1.5}},\"name\":\"Missing Cryptographic Step\",\"offsetgroup\":\"Missing Cryptographic Step\",\"orientation\":\"h\",\"showlegend\":true,\"texttemplate\":\"%{value:.2s}\",\"x\":[4.3],\"xaxis\":\"x\",\"y\":[\"2019\"],\"yaxis\":\"y\",\"type\":\"histogram\",\"opacity\":0.6},{\"alignmentgroup\":\"True\",\"bingroup\":\"y\",\"histfunc\":\"avg\",\"hovertemplate\":\"CWE-NAME=Expected Behavior Violation<br>avg of CVSS-V2=%{x}<br>Year=%{y}<extra></extra>\",\"legendgroup\":\"Expected Behavior Violation\",\"marker\":{\"color\":\"#FFA15A\",\"pattern\":{\"shape\":\"\"},\"line\":{\"color\":\"rgb(8,48,107)\",\"width\":1.5}},\"name\":\"Expected Behavior Violation\",\"offsetgroup\":\"Expected Behavior Violation\",\"orientation\":\"h\",\"showlegend\":true,\"texttemplate\":\"%{value:.2s}\",\"x\":[6.4],\"xaxis\":\"x\",\"y\":[\"2019\"],\"yaxis\":\"y\",\"type\":\"histogram\",\"opacity\":0.6},{\"alignmentgroup\":\"True\",\"bingroup\":\"y\",\"histfunc\":\"avg\",\"hovertemplate\":\"CWE-NAME=Missing Protection Against Hardware Reverse Engineering Using Integrated Circuit (IC) Imaging Techniques<br>avg of CVSS-V2=%{x}<br>Year=%{y}<extra></extra>\",\"legendgroup\":\"Missing Protection Against Hardware Reverse Engineering Using Integrated Circuit (IC) Imaging Techniques\",\"marker\":{\"color\":\"#19d3f3\",\"pattern\":{\"shape\":\"\"},\"line\":{\"color\":\"rgb(8,48,107)\",\"width\":1.5}},\"name\":\"Missing Protection Against Hardware Reverse Engineering Using Integrated Circuit (IC) Imaging Techniques\",\"offsetgroup\":\"Missing Protection Against Hardware Reverse Engineering Using Integrated Circuit (IC) Imaging Techniques\",\"orientation\":\"h\",\"showlegend\":true,\"texttemplate\":\"%{value:.2s}\",\"x\":[6.9],\"xaxis\":\"x\",\"y\":[\"2021\"],\"yaxis\":\"y\",\"type\":\"histogram\",\"opacity\":0.6}],                        {\"template\":{\"data\":{\"bar\":[{\"error_x\":{\"color\":\"#2a3f5f\"},\"error_y\":{\"color\":\"#2a3f5f\"},\"marker\":{\"line\":{\"color\":\"#E5ECF6\",\"width\":0.5},\"pattern\":{\"fillmode\":\"overlay\",\"size\":10,\"solidity\":0.2}},\"type\":\"bar\"}],\"barpolar\":[{\"marker\":{\"line\":{\"color\":\"#E5ECF6\",\"width\":0.5},\"pattern\":{\"fillmode\":\"overlay\",\"size\":10,\"solidity\":0.2}},\"type\":\"barpolar\"}],\"carpet\":[{\"aaxis\":{\"endlinecolor\":\"#2a3f5f\",\"gridcolor\":\"white\",\"linecolor\":\"white\",\"minorgridcolor\":\"white\",\"startlinecolor\":\"#2a3f5f\"},\"baxis\":{\"endlinecolor\":\"#2a3f5f\",\"gridcolor\":\"white\",\"linecolor\":\"white\",\"minorgridcolor\":\"white\",\"startlinecolor\":\"#2a3f5f\"},\"type\":\"carpet\"}],\"choropleth\":[{\"colorbar\":{\"outlinewidth\":0,\"ticks\":\"\"},\"type\":\"choropleth\"}],\"contour\":[{\"colorbar\":{\"outlinewidth\":0,\"ticks\":\"\"},\"colorscale\":[[0.0,\"#0d0887\"],[0.1111111111111111,\"#46039f\"],[0.2222222222222222,\"#7201a8\"],[0.3333333333333333,\"#9c179e\"],[0.4444444444444444,\"#bd3786\"],[0.5555555555555556,\"#d8576b\"],[0.6666666666666666,\"#ed7953\"],[0.7777777777777778,\"#fb9f3a\"],[0.8888888888888888,\"#fdca26\"],[1.0,\"#f0f921\"]],\"type\":\"contour\"}],\"contourcarpet\":[{\"colorbar\":{\"outlinewidth\":0,\"ticks\":\"\"},\"type\":\"contourcarpet\"}],\"heatmap\":[{\"colorbar\":{\"outlinewidth\":0,\"ticks\":\"\"},\"colorscale\":[[0.0,\"#0d0887\"],[0.1111111111111111,\"#46039f\"],[0.2222222222222222,\"#7201a8\"],[0.3333333333333333,\"#9c179e\"],[0.4444444444444444,\"#bd3786\"],[0.5555555555555556,\"#d8576b\"],[0.6666666666666666,\"#ed7953\"],[0.7777777777777778,\"#fb9f3a\"],[0.8888888888888888,\"#fdca26\"],[1.0,\"#f0f921\"]],\"type\":\"heatmap\"}],\"heatmapgl\":[{\"colorbar\":{\"outlinewidth\":0,\"ticks\":\"\"},\"colorscale\":[[0.0,\"#0d0887\"],[0.1111111111111111,\"#46039f\"],[0.2222222222222222,\"#7201a8\"],[0.3333333333333333,\"#9c179e\"],[0.4444444444444444,\"#bd3786\"],[0.5555555555555556,\"#d8576b\"],[0.6666666666666666,\"#ed7953\"],[0.7777777777777778,\"#fb9f3a\"],[0.8888888888888888,\"#fdca26\"],[1.0,\"#f0f921\"]],\"type\":\"heatmapgl\"}],\"histogram\":[{\"marker\":{\"pattern\":{\"fillmode\":\"overlay\",\"size\":10,\"solidity\":0.2}},\"type\":\"histogram\"}],\"histogram2d\":[{\"colorbar\":{\"outlinewidth\":0,\"ticks\":\"\"},\"colorscale\":[[0.0,\"#0d0887\"],[0.1111111111111111,\"#46039f\"],[0.2222222222222222,\"#7201a8\"],[0.3333333333333333,\"#9c179e\"],[0.4444444444444444,\"#bd3786\"],[0.5555555555555556,\"#d8576b\"],[0.6666666666666666,\"#ed7953\"],[0.7777777777777778,\"#fb9f3a\"],[0.8888888888888888,\"#fdca26\"],[1.0,\"#f0f921\"]],\"type\":\"histogram2d\"}],\"histogram2dcontour\":[{\"colorbar\":{\"outlinewidth\":0,\"ticks\":\"\"},\"colorscale\":[[0.0,\"#0d0887\"],[0.1111111111111111,\"#46039f\"],[0.2222222222222222,\"#7201a8\"],[0.3333333333333333,\"#9c179e\"],[0.4444444444444444,\"#bd3786\"],[0.5555555555555556,\"#d8576b\"],[0.6666666666666666,\"#ed7953\"],[0.7777777777777778,\"#fb9f3a\"],[0.8888888888888888,\"#fdca26\"],[1.0,\"#f0f921\"]],\"type\":\"histogram2dcontour\"}],\"mesh3d\":[{\"colorbar\":{\"outlinewidth\":0,\"ticks\":\"\"},\"type\":\"mesh3d\"}],\"parcoords\":[{\"line\":{\"colorbar\":{\"outlinewidth\":0,\"ticks\":\"\"}},\"type\":\"parcoords\"}],\"pie\":[{\"automargin\":true,\"type\":\"pie\"}],\"scatter\":[{\"marker\":{\"colorbar\":{\"outlinewidth\":0,\"ticks\":\"\"}},\"type\":\"scatter\"}],\"scatter3d\":[{\"line\":{\"colorbar\":{\"outlinewidth\":0,\"ticks\":\"\"}},\"marker\":{\"colorbar\":{\"outlinewidth\":0,\"ticks\":\"\"}},\"type\":\"scatter3d\"}],\"scattercarpet\":[{\"marker\":{\"colorbar\":{\"outlinewidth\":0,\"ticks\":\"\"}},\"type\":\"scattercarpet\"}],\"scattergeo\":[{\"marker\":{\"colorbar\":{\"outlinewidth\":0,\"ticks\":\"\"}},\"type\":\"scattergeo\"}],\"scattergl\":[{\"marker\":{\"colorbar\":{\"outlinewidth\":0,\"ticks\":\"\"}},\"type\":\"scattergl\"}],\"scattermapbox\":[{\"marker\":{\"colorbar\":{\"outlinewidth\":0,\"ticks\":\"\"}},\"type\":\"scattermapbox\"}],\"scatterpolar\":[{\"marker\":{\"colorbar\":{\"outlinewidth\":0,\"ticks\":\"\"}},\"type\":\"scatterpolar\"}],\"scatterpolargl\":[{\"marker\":{\"colorbar\":{\"outlinewidth\":0,\"ticks\":\"\"}},\"type\":\"scatterpolargl\"}],\"scatterternary\":[{\"marker\":{\"colorbar\":{\"outlinewidth\":0,\"ticks\":\"\"}},\"type\":\"scatterternary\"}],\"surface\":[{\"colorbar\":{\"outlinewidth\":0,\"ticks\":\"\"},\"colorscale\":[[0.0,\"#0d0887\"],[0.1111111111111111,\"#46039f\"],[0.2222222222222222,\"#7201a8\"],[0.3333333333333333,\"#9c179e\"],[0.4444444444444444,\"#bd3786\"],[0.5555555555555556,\"#d8576b\"],[0.6666666666666666,\"#ed7953\"],[0.7777777777777778,\"#fb9f3a\"],[0.8888888888888888,\"#fdca26\"],[1.0,\"#f0f921\"]],\"type\":\"surface\"}],\"table\":[{\"cells\":{\"fill\":{\"color\":\"#EBF0F8\"},\"line\":{\"color\":\"white\"}},\"header\":{\"fill\":{\"color\":\"#C8D4E3\"},\"line\":{\"color\":\"white\"}},\"type\":\"table\"}]},\"layout\":{\"annotationdefaults\":{\"arrowcolor\":\"#2a3f5f\",\"arrowhead\":0,\"arrowwidth\":1},\"autotypenumbers\":\"strict\",\"coloraxis\":{\"colorbar\":{\"outlinewidth\":0,\"ticks\":\"\"}},\"colorscale\":{\"diverging\":[[0,\"#8e0152\"],[0.1,\"#c51b7d\"],[0.2,\"#de77ae\"],[0.3,\"#f1b6da\"],[0.4,\"#fde0ef\"],[0.5,\"#f7f7f7\"],[0.6,\"#e6f5d0\"],[0.7,\"#b8e186\"],[0.8,\"#7fbc41\"],[0.9,\"#4d9221\"],[1,\"#276419\"]],\"sequential\":[[0.0,\"#0d0887\"],[0.1111111111111111,\"#46039f\"],[0.2222222222222222,\"#7201a8\"],[0.3333333333333333,\"#9c179e\"],[0.4444444444444444,\"#bd3786\"],[0.5555555555555556,\"#d8576b\"],[0.6666666666666666,\"#ed7953\"],[0.7777777777777778,\"#fb9f3a\"],[0.8888888888888888,\"#fdca26\"],[1.0,\"#f0f921\"]],\"sequentialminus\":[[0.0,\"#0d0887\"],[0.1111111111111111,\"#46039f\"],[0.2222222222222222,\"#7201a8\"],[0.3333333333333333,\"#9c179e\"],[0.4444444444444444,\"#bd3786\"],[0.5555555555555556,\"#d8576b\"],[0.6666666666666666,\"#ed7953\"],[0.7777777777777778,\"#fb9f3a\"],[0.8888888888888888,\"#fdca26\"],[1.0,\"#f0f921\"]]},\"colorway\":[\"#636efa\",\"#EF553B\",\"#00cc96\",\"#ab63fa\",\"#FFA15A\",\"#19d3f3\",\"#FF6692\",\"#B6E880\",\"#FF97FF\",\"#FECB52\"],\"font\":{\"color\":\"#2a3f5f\"},\"geo\":{\"bgcolor\":\"white\",\"lakecolor\":\"white\",\"landcolor\":\"#E5ECF6\",\"showlakes\":true,\"showland\":true,\"subunitcolor\":\"white\"},\"hoverlabel\":{\"align\":\"left\"},\"hovermode\":\"closest\",\"mapbox\":{\"style\":\"light\"},\"paper_bgcolor\":\"white\",\"plot_bgcolor\":\"#E5ECF6\",\"polar\":{\"angularaxis\":{\"gridcolor\":\"white\",\"linecolor\":\"white\",\"ticks\":\"\"},\"bgcolor\":\"#E5ECF6\",\"radialaxis\":{\"gridcolor\":\"white\",\"linecolor\":\"white\",\"ticks\":\"\"}},\"scene\":{\"xaxis\":{\"backgroundcolor\":\"#E5ECF6\",\"gridcolor\":\"white\",\"gridwidth\":2,\"linecolor\":\"white\",\"showbackground\":true,\"ticks\":\"\",\"zerolinecolor\":\"white\"},\"yaxis\":{\"backgroundcolor\":\"#E5ECF6\",\"gridcolor\":\"white\",\"gridwidth\":2,\"linecolor\":\"white\",\"showbackground\":true,\"ticks\":\"\",\"zerolinecolor\":\"white\"},\"zaxis\":{\"backgroundcolor\":\"#E5ECF6\",\"gridcolor\":\"white\",\"gridwidth\":2,\"linecolor\":\"white\",\"showbackground\":true,\"ticks\":\"\",\"zerolinecolor\":\"white\"}},\"shapedefaults\":{\"line\":{\"color\":\"#2a3f5f\"}},\"ternary\":{\"aaxis\":{\"gridcolor\":\"white\",\"linecolor\":\"white\",\"ticks\":\"\"},\"baxis\":{\"gridcolor\":\"white\",\"linecolor\":\"white\",\"ticks\":\"\"},\"bgcolor\":\"#E5ECF6\",\"caxis\":{\"gridcolor\":\"white\",\"linecolor\":\"white\",\"ticks\":\"\"}},\"title\":{\"x\":0.05},\"xaxis\":{\"automargin\":true,\"gridcolor\":\"white\",\"linecolor\":\"white\",\"ticks\":\"\",\"title\":{\"standoff\":15},\"zerolinecolor\":\"white\",\"zerolinewidth\":2},\"yaxis\":{\"automargin\":true,\"gridcolor\":\"white\",\"linecolor\":\"white\",\"ticks\":\"\",\"title\":{\"standoff\":15},\"zerolinecolor\":\"white\",\"zerolinewidth\":2}}},\"xaxis\":{\"anchor\":\"y\",\"domain\":[0.0,1.0],\"title\":{\"text\":\"avg of CVSS-V2\"}},\"yaxis\":{\"anchor\":\"x\",\"domain\":[0.0,1.0],\"title\":{\"text\":\"Year\"}},\"legend\":{\"title\":{\"text\":\"CWE-NAME\"},\"tracegroupgap\":0},\"title\":{\"text\":\"Hardware Design- Average CVSS-V2 Score by CWE NAME and Year\"},\"barmode\":\"relative\",\"height\":700,\"width\":1500},                        {\"responsive\": true}                    ).then(function(){\n",
       "                            \n",
       "var gd = document.getElementById('11c5c75b-eabe-4533-a8c3-24e39de2d5b7');\n",
       "var x = new MutationObserver(function (mutations, observer) {{\n",
       "        var display = window.getComputedStyle(gd).display;\n",
       "        if (!display || display === 'none') {{\n",
       "            console.log([gd, 'removed!']);\n",
       "            Plotly.purge(gd);\n",
       "            observer.disconnect();\n",
       "        }}\n",
       "}});\n",
       "\n",
       "// Listen for the removal of the full notebook cells\n",
       "var notebookContainer = gd.closest('#notebook-container');\n",
       "if (notebookContainer) {{\n",
       "    x.observe(notebookContainer, {childList: true});\n",
       "}}\n",
       "\n",
       "// Listen for the clearing of the current output cell\n",
       "var outputEl = gd.closest('.output');\n",
       "if (outputEl) {{\n",
       "    x.observe(outputEl, {childList: true});\n",
       "}}\n",
       "\n",
       "                        })                };                });            </script>        </div>"
      ]
     },
     "metadata": {},
     "output_type": "display_data"
    }
   ],
   "source": [
    "import plotly.express as px\n",
    "\n",
    "fig = px.histogram(dataHD, x=\"CVSS-V2\", histfunc='avg',y=\"Year\",color=\"CWE-NAME\",orientation='h', height=700,width=1500,text_auto='.2s',title=\"Hardware Design- Average CVSS-V2 Score by CWE NAME and Year\")\n",
    "fig.update_traces( marker_line_color='rgb(8,48,107)',\n",
    "                  marker_line_width=1.5, opacity=0.6)\n",
    "fig.show()"
   ]
  },
  {
   "cell_type": "markdown",
   "id": "6bec9896",
   "metadata": {
    "papermill": {
     "duration": 0.083806,
     "end_time": "2022-01-24T20:32:55.042831",
     "exception": false,
     "start_time": "2022-01-24T20:32:54.959025",
     "status": "completed"
    },
    "tags": []
   },
   "source": [
    "### 3. SOFTWARE DEVELOPMENT DATASET\n",
    "\n",
    "This dataset is a subset to Global_Dataset contains only those vulnerabilities whose CWE category is present in the Software Development Hierarchy. The general information of vulnerability includes CVE-ID, Description, Severity, CWE-Name, CWE-ID."
   ]
  },
  {
   "cell_type": "code",
   "execution_count": 13,
   "id": "2f562351",
   "metadata": {
    "_kg_hide-input": true,
    "execution": {
     "iopub.execute_input": "2022-01-24T20:32:55.213538Z",
     "iopub.status.busy": "2022-01-24T20:32:55.212878Z",
     "iopub.status.idle": "2022-01-24T20:33:03.070124Z",
     "shell.execute_reply": "2022-01-24T20:33:03.069619Z",
     "shell.execute_reply.started": "2022-01-24T19:11:11.950963Z"
    },
    "papermill": {
     "duration": 7.944572,
     "end_time": "2022-01-24T20:33:03.070300",
     "exception": false,
     "start_time": "2022-01-24T20:32:55.125728",
     "status": "completed"
    },
    "tags": []
   },
   "outputs": [],
   "source": [
    "dataSD=pd.read_excel(\"../input/cve-and-cwe-mapping-dataset/Software Development/SD_Vulnerability_Dataset.xlsx\")"
   ]
  },
  {
   "cell_type": "code",
   "execution_count": 14,
   "id": "359a51b0",
   "metadata": {
    "_kg_hide-input": true,
    "execution": {
     "iopub.execute_input": "2022-01-24T20:33:03.243746Z",
     "iopub.status.busy": "2022-01-24T20:33:03.243035Z",
     "iopub.status.idle": "2022-01-24T20:33:03.552825Z",
     "shell.execute_reply": "2022-01-24T20:33:03.553381Z",
     "shell.execute_reply.started": "2022-01-24T19:11:34.898Z"
    },
    "papermill": {
     "duration": 0.397296,
     "end_time": "2022-01-24T20:33:03.553559",
     "exception": false,
     "start_time": "2022-01-24T20:33:03.156263",
     "status": "completed"
    },
    "tags": []
   },
   "outputs": [],
   "source": [
    "year_list=[]\n",
    "for i in range(0,len(dataSD[\"CVE-ID\"])):\n",
    "    a=dataSD[\"CVE-ID\"][i].split(\"-\")[1]\n",
    "    year_list.append(a)\n",
    "\n",
    "dataSD.insert(loc=2, column='Year', value=year_list)"
   ]
  },
  {
   "cell_type": "code",
   "execution_count": 15,
   "id": "ab9177d0",
   "metadata": {
    "_kg_hide-input": true,
    "execution": {
     "iopub.execute_input": "2022-01-24T20:33:03.724582Z",
     "iopub.status.busy": "2022-01-24T20:33:03.723577Z",
     "iopub.status.idle": "2022-01-24T20:33:03.818321Z",
     "shell.execute_reply": "2022-01-24T20:33:03.817769Z",
     "shell.execute_reply.started": "2022-01-24T19:11:50.013977Z"
    },
    "papermill": {
     "duration": 0.181045,
     "end_time": "2022-01-24T20:33:03.818485",
     "exception": false,
     "start_time": "2022-01-24T20:33:03.637440",
     "status": "completed"
    },
    "tags": []
   },
   "outputs": [],
   "source": [
    "dfs2014=dataSD[dataSD.Year==\"2014\"][\"CWE-NAME\"].value_counts().to_frame().reset_index()[0:20]\n",
    "dfs2015=dataSD[dataSD.Year==\"2015\"][\"CWE-NAME\"].value_counts().to_frame().reset_index()[0:20]\n",
    "dfs2016=dataSD[dataSD.Year==\"2016\"][\"CWE-NAME\"].value_counts().to_frame().reset_index()[0:20]\n",
    "dfs2017=dataSD[dataSD.Year==\"2017\"][\"CWE-NAME\"].value_counts().to_frame().reset_index()[0:20]\n",
    "dfs2018=dataSD[dataSD.Year==\"2018\"][\"CWE-NAME\"].value_counts().to_frame().reset_index()[0:20]\n",
    "dfs2019=dataSD[dataSD.Year==\"2019\"][\"CWE-NAME\"].value_counts().to_frame().reset_index()[0:20]\n",
    "dfs2020=dataSD[dataSD.Year==\"2020\"][\"CWE-NAME\"].value_counts().to_frame().reset_index()[0:20]\n",
    "dfs2021=dataSD[dataSD.Year==\"2021\"][\"CWE-NAME\"].value_counts().to_frame().reset_index()[0:20]\n"
   ]
  },
  {
   "cell_type": "markdown",
   "id": "c8ea9d14",
   "metadata": {
    "papermill": {
     "duration": 0.085014,
     "end_time": "2022-01-24T20:33:03.987303",
     "exception": false,
     "start_time": "2022-01-24T20:33:03.902289",
     "status": "completed"
    },
    "tags": []
   },
   "source": [
    "Following pie charts show number of top 20 Software Development Vulnerabilities according to CWE Name between 2014-2021. Cross site scripting has been the most reported vulnerability in all 8 years."
   ]
  },
  {
   "cell_type": "code",
   "execution_count": 16,
   "id": "5d69f33a",
   "metadata": {
    "_kg_hide-input": true,
    "execution": {
     "iopub.execute_input": "2022-01-24T20:33:04.183623Z",
     "iopub.status.busy": "2022-01-24T20:33:04.171684Z",
     "iopub.status.idle": "2022-01-24T20:33:04.227494Z",
     "shell.execute_reply": "2022-01-24T20:33:04.228211Z",
     "shell.execute_reply.started": "2022-01-24T19:25:34.924281Z"
    },
    "papermill": {
     "duration": 0.154801,
     "end_time": "2022-01-24T20:33:04.228440",
     "exception": false,
     "start_time": "2022-01-24T20:33:04.073639",
     "status": "completed"
    },
    "tags": []
   },
   "outputs": [
    {
     "data": {
      "application/vnd.plotly.v1+json": {
       "config": {
        "plotlyServerURL": "https://plot.ly"
       },
       "data": [
        {
         "domain": {
          "x": [
           0.0,
           0.2125
          ],
          "y": [
           0.625,
           1.0
          ]
         },
         "hoverinfo": "label+percent",
         "labels": [
          "Improper Neutralization of Input During Web Page Generation ('Cross-site Scripting')",
          "Improper Neutralization of Special Elements used in an SQL Command ('SQL Injection')",
          "Improper Control of Generation of Code ('Code Injection')",
          "Improper Link Resolution Before File Access ('Link Following')",
          "Improper Neutralization of Special Elements used in an OS Command ('OS Command Injection')",
          "Out-of-bounds Write",
          "Out-of-bounds Read",
          "NULL Pointer Dereference",
          "Integer Overflow or Wraparound",
          "Improper Restriction of XML External Entity Reference",
          "Improper Certificate Validation",
          "Unrestricted Upload of File with Dangerous Type",
          "Buffer Copy without Checking Size of Input ('Classic Buffer Overflow')",
          "Use of Hard-coded Credentials",
          "Incorrect Default Permissions",
          "Use of Externally-Controlled Format String",
          "Improper Validation of Array Index",
          "Deserialization of Untrusted Data",
          "Integer Underflow (Wrap or Wraparound)",
          "Untrusted Search Path"
         ],
         "marker": {
          "line": {
           "color": "#000000",
           "width": 2
          }
         },
         "name": "2014",
         "textfont": {
          "size": 15
         },
         "textinfo": "value",
         "textposition": "inside",
         "type": "pie",
         "values": [
          1013,
          288,
          161,
          49,
          47,
          28,
          27,
          21,
          21,
          17,
          15,
          13,
          11,
          9,
          6,
          6,
          6,
          5,
          4,
          3
         ]
        },
        {
         "domain": {
          "x": [
           0.2625,
           0.475
          ],
          "y": [
           0.625,
           1.0
          ]
         },
         "hoverinfo": "label+percent",
         "labels": [
          "Improper Neutralization of Input During Web Page Generation ('Cross-site Scripting')",
          "Improper Neutralization of Special Elements used in an SQL Command ('SQL Injection')",
          "NULL Pointer Dereference",
          "Improper Control of Generation of Code ('Code Injection')",
          "Improper Neutralization of Special Elements used in an OS Command ('OS Command Injection')",
          "Improper Link Resolution Before File Access ('Link Following')",
          "Integer Overflow or Wraparound",
          "Out-of-bounds Write",
          "Out-of-bounds Read",
          "Unrestricted Upload of File with Dangerous Type",
          "Improper Certificate Validation",
          "URL Redirection to Untrusted Site ('Open Redirect')",
          "Buffer Copy without Checking Size of Input ('Classic Buffer Overflow')",
          "Improper Restriction of XML External Entity Reference",
          "Missing Release of Resource after Effective Lifetime",
          "Loop with Unreachable Exit Condition ('Infinite Loop')",
          "Use of Hard-coded Credentials",
          "Use of Externally-Controlled Format String",
          "Integer Underflow (Wrap or Wraparound)",
          "Untrusted Search Path"
         ],
         "marker": {
          "line": {
           "color": "#000000",
           "width": 2
          }
         },
         "name": "2015",
         "textfont": {
          "size": 15
         },
         "textinfo": "value",
         "textposition": "inside",
         "type": "pie",
         "values": [
          941,
          271,
          60,
          60,
          47,
          38,
          38,
          35,
          33,
          31,
          29,
          18,
          18,
          17,
          10,
          10,
          10,
          7,
          6,
          6
         ]
        },
        {
         "domain": {
          "x": [
           0.525,
           0.7375
          ],
          "y": [
           0.625,
           1.0
          ]
         },
         "hoverinfo": "label+percent",
         "labels": [
          "Improper Neutralization of Input During Web Page Generation ('Cross-site Scripting')",
          "Out-of-bounds Read",
          "Improper Neutralization of Special Elements used in an SQL Command ('SQL Injection')",
          "NULL Pointer Dereference",
          "Integer Overflow or Wraparound",
          "Out-of-bounds Write",
          "Improper Restriction of XML External Entity Reference",
          "Improper Certificate Validation",
          "Deserialization of Untrusted Data",
          "URL Redirection to Untrusted Site ('Open Redirect')",
          "Use of Hard-coded Credentials",
          "Improper Neutralization of Special Elements used in an OS Command ('OS Command Injection')",
          "Improper Control of Generation of Code ('Code Injection')",
          "Unrestricted Upload of File with Dangerous Type",
          "Divide By Zero",
          "Untrusted Search Path",
          "Insertion of Sensitive Information into Log File",
          "Improper Link Resolution Before File Access ('Link Following')",
          "Missing Release of Resource after Effective Lifetime",
          "Buffer Copy without Checking Size of Input ('Classic Buffer Overflow')"
         ],
         "marker": {
          "line": {
           "color": "#000000",
           "width": 2
          }
         },
         "name": "2016",
         "textfont": {
          "size": 15
         },
         "textinfo": "value",
         "textposition": "inside",
         "type": "pie",
         "values": [
          814,
          200,
          170,
          146,
          129,
          95,
          52,
          43,
          41,
          41,
          40,
          39,
          38,
          29,
          22,
          21,
          16,
          15,
          11,
          9
         ]
        },
        {
         "domain": {
          "x": [
           0.7875,
           1.0
          ],
          "y": [
           0.625,
           1.0
          ]
         },
         "hoverinfo": "label+percent",
         "labels": [
          "Improper Neutralization of Input During Web Page Generation ('Cross-site Scripting')",
          "Out-of-bounds Read",
          "Improper Neutralization of Special Elements used in an SQL Command ('SQL Injection')",
          "NULL Pointer Dereference",
          "Out-of-bounds Write",
          "Integer Overflow or Wraparound",
          "Missing Release of Resource after Effective Lifetime",
          "Improper Neutralization of Special Elements used in an OS Command ('OS Command Injection')",
          "Improper Certificate Validation",
          "Untrusted Search Path",
          "Loop with Unreachable Exit Condition ('Infinite Loop')",
          "Use of Hard-coded Credentials",
          "Improper Restriction of XML External Entity Reference",
          "URL Redirection to Untrusted Site ('Open Redirect')",
          "Deserialization of Untrusted Data",
          "Unrestricted Upload of File with Dangerous Type",
          "Improper Control of Generation of Code ('Code Injection')",
          "Allocation of Resources Without Limits or Throttling",
          "Reachable Assertion",
          "Buffer Copy without Checking Size of Input ('Classic Buffer Overflow')"
         ],
         "marker": {
          "line": {
           "color": "#000000",
           "width": 2
          }
         },
         "name": "2017",
         "textfont": {
          "size": 15
         },
         "textinfo": "value",
         "textposition": "inside",
         "type": "pie",
         "values": [
          1480,
          696,
          489,
          307,
          278,
          219,
          204,
          177,
          160,
          131,
          117,
          102,
          92,
          87,
          87,
          86,
          82,
          49,
          47,
          45
         ]
        },
        {
         "domain": {
          "x": [
           0.0,
           0.2125
          ],
          "y": [
           0.0,
           0.375
          ]
         },
         "hoverinfo": "label+percent",
         "labels": [
          "Improper Neutralization of Input During Web Page Generation ('Cross-site Scripting')",
          "Out-of-bounds Write",
          "Out-of-bounds Read",
          "Integer Overflow or Wraparound",
          "Improper Neutralization of Special Elements used in an SQL Command ('SQL Injection')",
          "Improper Neutralization of Special Elements used in an OS Command ('OS Command Injection')",
          "NULL Pointer Dereference",
          "Improper Restriction of XML External Entity Reference",
          "Unrestricted Upload of File with Dangerous Type",
          "Improper Control of Generation of Code ('Code Injection')",
          "Use of Hard-coded Credentials",
          "Deserialization of Untrusted Data",
          "Loop with Unreachable Exit Condition ('Infinite Loop')",
          "Improper Certificate Validation",
          "Missing Release of Resource after Effective Lifetime",
          "Untrusted Search Path",
          "URL Redirection to Untrusted Site ('Open Redirect')",
          "Insertion of Sensitive Information into Log File",
          "Buffer Copy without Checking Size of Input ('Classic Buffer Overflow')",
          "Missing Authentication for Critical Function"
         ],
         "marker": {
          "line": {
           "color": "#000000",
           "width": 2
          }
         },
         "name": "2018",
         "textfont": {
          "size": 15
         },
         "textinfo": "value",
         "textposition": "inside",
         "type": "pie",
         "values": [
          2083,
          918,
          816,
          659,
          501,
          381,
          278,
          178,
          169,
          153,
          130,
          103,
          95,
          95,
          88,
          84,
          79,
          63,
          47,
          44
         ]
        },
        {
         "domain": {
          "x": [
           0.2625,
           0.475
          ],
          "y": [
           0.0,
           0.375
          ]
         },
         "hoverinfo": "label+percent",
         "labels": [
          "Improper Neutralization of Input During Web Page Generation ('Cross-site Scripting')",
          "Out-of-bounds Write",
          "Out-of-bounds Read",
          "Improper Neutralization of Special Elements used in an SQL Command ('SQL Injection')",
          "Improper Neutralization of Special Elements used in an OS Command ('OS Command Injection')",
          "NULL Pointer Dereference",
          "Missing Authentication for Critical Function",
          "Integer Overflow or Wraparound",
          "Unrestricted Upload of File with Dangerous Type",
          "Buffer Copy without Checking Size of Input ('Classic Buffer Overflow')",
          "Deserialization of Untrusted Data",
          "Use of Hard-coded Credentials",
          "Improper Restriction of XML External Entity Reference",
          "Cleartext Transmission of Sensitive Information",
          "Improper Control of Generation of Code ('Code Injection')",
          "Insertion of Sensitive Information into Log File",
          "URL Redirection to Untrusted Site ('Open Redirect')",
          "Allocation of Resources Without Limits or Throttling",
          "Incorrect Default Permissions",
          "Improper Link Resolution Before File Access ('Link Following')"
         ],
         "marker": {
          "line": {
           "color": "#000000",
           "width": 2
          }
         },
         "name": "2019",
         "textfont": {
          "size": 15
         },
         "textinfo": "value",
         "textposition": "inside",
         "type": "pie",
         "values": [
          1791,
          1404,
          817,
          417,
          402,
          254,
          215,
          210,
          179,
          173,
          124,
          123,
          114,
          113,
          109,
          102,
          97,
          97,
          96,
          94
         ]
        },
        {
         "domain": {
          "x": [
           0.525,
           0.7375
          ],
          "y": [
           0.0,
           0.375
          ]
         },
         "hoverinfo": "label+percent",
         "labels": [
          "Improper Neutralization of Input During Web Page Generation ('Cross-site Scripting')",
          "Out-of-bounds Write",
          "Out-of-bounds Read",
          "Improper Neutralization of Special Elements used in an SQL Command ('SQL Injection')",
          "Improper Neutralization of Special Elements used in an OS Command ('OS Command Injection')",
          "Buffer Copy without Checking Size of Input ('Classic Buffer Overflow')",
          "Unrestricted Upload of File with Dangerous Type",
          "Incorrect Default Permissions",
          "Missing Authentication for Critical Function",
          "NULL Pointer Dereference",
          "Integer Overflow or Wraparound",
          "Deserialization of Untrusted Data",
          "Use of Hard-coded Credentials",
          "Improper Certificate Validation",
          "Improper Restriction of XML External Entity Reference",
          "Cleartext Transmission of Sensitive Information",
          "Uncontrolled Search Path Element",
          "URL Redirection to Untrusted Site ('Open Redirect')",
          "Improper Control of Generation of Code ('Code Injection')",
          "Improper Link Resolution Before File Access ('Link Following')"
         ],
         "marker": {
          "line": {
           "color": "#000000",
           "width": 2
          }
         },
         "name": "2020",
         "textfont": {
          "size": 15
         },
         "textinfo": "value",
         "textposition": "inside",
         "type": "pie",
         "values": [
          2182,
          1403,
          730,
          573,
          447,
          326,
          258,
          223,
          215,
          203,
          195,
          168,
          167,
          125,
          113,
          110,
          109,
          99,
          94,
          90
         ]
        },
        {
         "domain": {
          "x": [
           0.7875,
           1.0
          ],
          "y": [
           0.0,
           0.375
          ]
         },
         "hoverinfo": "label+percent",
         "labels": [
          "Improper Neutralization of Input During Web Page Generation ('Cross-site Scripting')",
          "Out-of-bounds Write",
          "Improper Neutralization of Special Elements used in an SQL Command ('SQL Injection')",
          "Out-of-bounds Read",
          "Buffer Copy without Checking Size of Input ('Classic Buffer Overflow')",
          "NULL Pointer Dereference",
          "Improper Neutralization of Special Elements used in an OS Command ('OS Command Injection')",
          "Unrestricted Upload of File with Dangerous Type",
          "Integer Overflow or Wraparound",
          "Deserialization of Untrusted Data",
          "Improper Control of Generation of Code ('Code Injection')",
          "Incorrect Default Permissions",
          "Use of Hard-coded Credentials",
          "URL Redirection to Untrusted Site ('Open Redirect')",
          "Improper Restriction of XML External Entity Reference",
          "Improper Certificate Validation",
          "Cleartext Storage of Sensitive Information",
          "Uncontrolled Search Path Element",
          "Insertion of Sensitive Information into Log File",
          "Divide By Zero"
         ],
         "marker": {
          "line": {
           "color": "#000000",
           "width": 2
          }
         },
         "name": "2021",
         "textfont": {
          "size": 15
         },
         "textinfo": "value",
         "textposition": "inside",
         "type": "pie",
         "values": [
          2006,
          959,
          512,
          498,
          289,
          272,
          235,
          226,
          192,
          176,
          145,
          114,
          113,
          108,
          96,
          96,
          81,
          79,
          67,
          65
         ]
        }
       ],
       "layout": {
        "annotations": [
         {
          "font": {
           "size": 16
          },
          "showarrow": false,
          "text": "2014",
          "x": 0.10625,
          "xanchor": "center",
          "xref": "paper",
          "y": 1.0,
          "yanchor": "bottom",
          "yref": "paper"
         },
         {
          "font": {
           "size": 16
          },
          "showarrow": false,
          "text": "2015",
          "x": 0.36875,
          "xanchor": "center",
          "xref": "paper",
          "y": 1.0,
          "yanchor": "bottom",
          "yref": "paper"
         },
         {
          "font": {
           "size": 16
          },
          "showarrow": false,
          "text": "2016",
          "x": 0.6312500000000001,
          "xanchor": "center",
          "xref": "paper",
          "y": 1.0,
          "yanchor": "bottom",
          "yref": "paper"
         },
         {
          "font": {
           "size": 16
          },
          "showarrow": false,
          "text": "2017",
          "x": 0.89375,
          "xanchor": "center",
          "xref": "paper",
          "y": 1.0,
          "yanchor": "bottom",
          "yref": "paper"
         },
         {
          "font": {
           "size": 16
          },
          "showarrow": false,
          "text": "2018",
          "x": 0.10625,
          "xanchor": "center",
          "xref": "paper",
          "y": 0.375,
          "yanchor": "bottom",
          "yref": "paper"
         },
         {
          "font": {
           "size": 16
          },
          "showarrow": false,
          "text": "2019",
          "x": 0.36875,
          "xanchor": "center",
          "xref": "paper",
          "y": 0.375,
          "yanchor": "bottom",
          "yref": "paper"
         },
         {
          "font": {
           "size": 16
          },
          "showarrow": false,
          "text": "2020",
          "x": 0.6312500000000001,
          "xanchor": "center",
          "xref": "paper",
          "y": 0.375,
          "yanchor": "bottom",
          "yref": "paper"
         },
         {
          "font": {
           "size": 16
          },
          "showarrow": false,
          "text": "2021",
          "x": 0.89375,
          "xanchor": "center",
          "xref": "paper",
          "y": 0.375,
          "yanchor": "bottom",
          "yref": "paper"
         }
        ],
        "colorway": [
         "#17BECF",
         "#BCBD22",
         "#7F7F7F",
         "#E377C2",
         "#8C564B",
         "#9467BD",
         "#D62728",
         "#2CA02C",
         "#FF7F0E",
         "#1F77B4"
        ],
        "height": 800,
        "template": {
         "data": {
          "bar": [
           {
            "error_x": {
             "color": "#2a3f5f"
            },
            "error_y": {
             "color": "#2a3f5f"
            },
            "marker": {
             "line": {
              "color": "#E5ECF6",
              "width": 0.5
             },
             "pattern": {
              "fillmode": "overlay",
              "size": 10,
              "solidity": 0.2
             }
            },
            "type": "bar"
           }
          ],
          "barpolar": [
           {
            "marker": {
             "line": {
              "color": "#E5ECF6",
              "width": 0.5
             },
             "pattern": {
              "fillmode": "overlay",
              "size": 10,
              "solidity": 0.2
             }
            },
            "type": "barpolar"
           }
          ],
          "carpet": [
           {
            "aaxis": {
             "endlinecolor": "#2a3f5f",
             "gridcolor": "white",
             "linecolor": "white",
             "minorgridcolor": "white",
             "startlinecolor": "#2a3f5f"
            },
            "baxis": {
             "endlinecolor": "#2a3f5f",
             "gridcolor": "white",
             "linecolor": "white",
             "minorgridcolor": "white",
             "startlinecolor": "#2a3f5f"
            },
            "type": "carpet"
           }
          ],
          "choropleth": [
           {
            "colorbar": {
             "outlinewidth": 0,
             "ticks": ""
            },
            "type": "choropleth"
           }
          ],
          "contour": [
           {
            "colorbar": {
             "outlinewidth": 0,
             "ticks": ""
            },
            "colorscale": [
             [
              0.0,
              "#0d0887"
             ],
             [
              0.1111111111111111,
              "#46039f"
             ],
             [
              0.2222222222222222,
              "#7201a8"
             ],
             [
              0.3333333333333333,
              "#9c179e"
             ],
             [
              0.4444444444444444,
              "#bd3786"
             ],
             [
              0.5555555555555556,
              "#d8576b"
             ],
             [
              0.6666666666666666,
              "#ed7953"
             ],
             [
              0.7777777777777778,
              "#fb9f3a"
             ],
             [
              0.8888888888888888,
              "#fdca26"
             ],
             [
              1.0,
              "#f0f921"
             ]
            ],
            "type": "contour"
           }
          ],
          "contourcarpet": [
           {
            "colorbar": {
             "outlinewidth": 0,
             "ticks": ""
            },
            "type": "contourcarpet"
           }
          ],
          "heatmap": [
           {
            "colorbar": {
             "outlinewidth": 0,
             "ticks": ""
            },
            "colorscale": [
             [
              0.0,
              "#0d0887"
             ],
             [
              0.1111111111111111,
              "#46039f"
             ],
             [
              0.2222222222222222,
              "#7201a8"
             ],
             [
              0.3333333333333333,
              "#9c179e"
             ],
             [
              0.4444444444444444,
              "#bd3786"
             ],
             [
              0.5555555555555556,
              "#d8576b"
             ],
             [
              0.6666666666666666,
              "#ed7953"
             ],
             [
              0.7777777777777778,
              "#fb9f3a"
             ],
             [
              0.8888888888888888,
              "#fdca26"
             ],
             [
              1.0,
              "#f0f921"
             ]
            ],
            "type": "heatmap"
           }
          ],
          "heatmapgl": [
           {
            "colorbar": {
             "outlinewidth": 0,
             "ticks": ""
            },
            "colorscale": [
             [
              0.0,
              "#0d0887"
             ],
             [
              0.1111111111111111,
              "#46039f"
             ],
             [
              0.2222222222222222,
              "#7201a8"
             ],
             [
              0.3333333333333333,
              "#9c179e"
             ],
             [
              0.4444444444444444,
              "#bd3786"
             ],
             [
              0.5555555555555556,
              "#d8576b"
             ],
             [
              0.6666666666666666,
              "#ed7953"
             ],
             [
              0.7777777777777778,
              "#fb9f3a"
             ],
             [
              0.8888888888888888,
              "#fdca26"
             ],
             [
              1.0,
              "#f0f921"
             ]
            ],
            "type": "heatmapgl"
           }
          ],
          "histogram": [
           {
            "marker": {
             "pattern": {
              "fillmode": "overlay",
              "size": 10,
              "solidity": 0.2
             }
            },
            "type": "histogram"
           }
          ],
          "histogram2d": [
           {
            "colorbar": {
             "outlinewidth": 0,
             "ticks": ""
            },
            "colorscale": [
             [
              0.0,
              "#0d0887"
             ],
             [
              0.1111111111111111,
              "#46039f"
             ],
             [
              0.2222222222222222,
              "#7201a8"
             ],
             [
              0.3333333333333333,
              "#9c179e"
             ],
             [
              0.4444444444444444,
              "#bd3786"
             ],
             [
              0.5555555555555556,
              "#d8576b"
             ],
             [
              0.6666666666666666,
              "#ed7953"
             ],
             [
              0.7777777777777778,
              "#fb9f3a"
             ],
             [
              0.8888888888888888,
              "#fdca26"
             ],
             [
              1.0,
              "#f0f921"
             ]
            ],
            "type": "histogram2d"
           }
          ],
          "histogram2dcontour": [
           {
            "colorbar": {
             "outlinewidth": 0,
             "ticks": ""
            },
            "colorscale": [
             [
              0.0,
              "#0d0887"
             ],
             [
              0.1111111111111111,
              "#46039f"
             ],
             [
              0.2222222222222222,
              "#7201a8"
             ],
             [
              0.3333333333333333,
              "#9c179e"
             ],
             [
              0.4444444444444444,
              "#bd3786"
             ],
             [
              0.5555555555555556,
              "#d8576b"
             ],
             [
              0.6666666666666666,
              "#ed7953"
             ],
             [
              0.7777777777777778,
              "#fb9f3a"
             ],
             [
              0.8888888888888888,
              "#fdca26"
             ],
             [
              1.0,
              "#f0f921"
             ]
            ],
            "type": "histogram2dcontour"
           }
          ],
          "mesh3d": [
           {
            "colorbar": {
             "outlinewidth": 0,
             "ticks": ""
            },
            "type": "mesh3d"
           }
          ],
          "parcoords": [
           {
            "line": {
             "colorbar": {
              "outlinewidth": 0,
              "ticks": ""
             }
            },
            "type": "parcoords"
           }
          ],
          "pie": [
           {
            "automargin": true,
            "type": "pie"
           }
          ],
          "scatter": [
           {
            "marker": {
             "colorbar": {
              "outlinewidth": 0,
              "ticks": ""
             }
            },
            "type": "scatter"
           }
          ],
          "scatter3d": [
           {
            "line": {
             "colorbar": {
              "outlinewidth": 0,
              "ticks": ""
             }
            },
            "marker": {
             "colorbar": {
              "outlinewidth": 0,
              "ticks": ""
             }
            },
            "type": "scatter3d"
           }
          ],
          "scattercarpet": [
           {
            "marker": {
             "colorbar": {
              "outlinewidth": 0,
              "ticks": ""
             }
            },
            "type": "scattercarpet"
           }
          ],
          "scattergeo": [
           {
            "marker": {
             "colorbar": {
              "outlinewidth": 0,
              "ticks": ""
             }
            },
            "type": "scattergeo"
           }
          ],
          "scattergl": [
           {
            "marker": {
             "colorbar": {
              "outlinewidth": 0,
              "ticks": ""
             }
            },
            "type": "scattergl"
           }
          ],
          "scattermapbox": [
           {
            "marker": {
             "colorbar": {
              "outlinewidth": 0,
              "ticks": ""
             }
            },
            "type": "scattermapbox"
           }
          ],
          "scatterpolar": [
           {
            "marker": {
             "colorbar": {
              "outlinewidth": 0,
              "ticks": ""
             }
            },
            "type": "scatterpolar"
           }
          ],
          "scatterpolargl": [
           {
            "marker": {
             "colorbar": {
              "outlinewidth": 0,
              "ticks": ""
             }
            },
            "type": "scatterpolargl"
           }
          ],
          "scatterternary": [
           {
            "marker": {
             "colorbar": {
              "outlinewidth": 0,
              "ticks": ""
             }
            },
            "type": "scatterternary"
           }
          ],
          "surface": [
           {
            "colorbar": {
             "outlinewidth": 0,
             "ticks": ""
            },
            "colorscale": [
             [
              0.0,
              "#0d0887"
             ],
             [
              0.1111111111111111,
              "#46039f"
             ],
             [
              0.2222222222222222,
              "#7201a8"
             ],
             [
              0.3333333333333333,
              "#9c179e"
             ],
             [
              0.4444444444444444,
              "#bd3786"
             ],
             [
              0.5555555555555556,
              "#d8576b"
             ],
             [
              0.6666666666666666,
              "#ed7953"
             ],
             [
              0.7777777777777778,
              "#fb9f3a"
             ],
             [
              0.8888888888888888,
              "#fdca26"
             ],
             [
              1.0,
              "#f0f921"
             ]
            ],
            "type": "surface"
           }
          ],
          "table": [
           {
            "cells": {
             "fill": {
              "color": "#EBF0F8"
             },
             "line": {
              "color": "white"
             }
            },
            "header": {
             "fill": {
              "color": "#C8D4E3"
             },
             "line": {
              "color": "white"
             }
            },
            "type": "table"
           }
          ]
         },
         "layout": {
          "annotationdefaults": {
           "arrowcolor": "#2a3f5f",
           "arrowhead": 0,
           "arrowwidth": 1
          },
          "autotypenumbers": "strict",
          "coloraxis": {
           "colorbar": {
            "outlinewidth": 0,
            "ticks": ""
           }
          },
          "colorscale": {
           "diverging": [
            [
             0,
             "#8e0152"
            ],
            [
             0.1,
             "#c51b7d"
            ],
            [
             0.2,
             "#de77ae"
            ],
            [
             0.3,
             "#f1b6da"
            ],
            [
             0.4,
             "#fde0ef"
            ],
            [
             0.5,
             "#f7f7f7"
            ],
            [
             0.6,
             "#e6f5d0"
            ],
            [
             0.7,
             "#b8e186"
            ],
            [
             0.8,
             "#7fbc41"
            ],
            [
             0.9,
             "#4d9221"
            ],
            [
             1,
             "#276419"
            ]
           ],
           "sequential": [
            [
             0.0,
             "#0d0887"
            ],
            [
             0.1111111111111111,
             "#46039f"
            ],
            [
             0.2222222222222222,
             "#7201a8"
            ],
            [
             0.3333333333333333,
             "#9c179e"
            ],
            [
             0.4444444444444444,
             "#bd3786"
            ],
            [
             0.5555555555555556,
             "#d8576b"
            ],
            [
             0.6666666666666666,
             "#ed7953"
            ],
            [
             0.7777777777777778,
             "#fb9f3a"
            ],
            [
             0.8888888888888888,
             "#fdca26"
            ],
            [
             1.0,
             "#f0f921"
            ]
           ],
           "sequentialminus": [
            [
             0.0,
             "#0d0887"
            ],
            [
             0.1111111111111111,
             "#46039f"
            ],
            [
             0.2222222222222222,
             "#7201a8"
            ],
            [
             0.3333333333333333,
             "#9c179e"
            ],
            [
             0.4444444444444444,
             "#bd3786"
            ],
            [
             0.5555555555555556,
             "#d8576b"
            ],
            [
             0.6666666666666666,
             "#ed7953"
            ],
            [
             0.7777777777777778,
             "#fb9f3a"
            ],
            [
             0.8888888888888888,
             "#fdca26"
            ],
            [
             1.0,
             "#f0f921"
            ]
           ]
          },
          "colorway": [
           "#636efa",
           "#EF553B",
           "#00cc96",
           "#ab63fa",
           "#FFA15A",
           "#19d3f3",
           "#FF6692",
           "#B6E880",
           "#FF97FF",
           "#FECB52"
          ],
          "font": {
           "color": "#2a3f5f"
          },
          "geo": {
           "bgcolor": "white",
           "lakecolor": "white",
           "landcolor": "#E5ECF6",
           "showlakes": true,
           "showland": true,
           "subunitcolor": "white"
          },
          "hoverlabel": {
           "align": "left"
          },
          "hovermode": "closest",
          "mapbox": {
           "style": "light"
          },
          "paper_bgcolor": "white",
          "plot_bgcolor": "#E5ECF6",
          "polar": {
           "angularaxis": {
            "gridcolor": "white",
            "linecolor": "white",
            "ticks": ""
           },
           "bgcolor": "#E5ECF6",
           "radialaxis": {
            "gridcolor": "white",
            "linecolor": "white",
            "ticks": ""
           }
          },
          "scene": {
           "xaxis": {
            "backgroundcolor": "#E5ECF6",
            "gridcolor": "white",
            "gridwidth": 2,
            "linecolor": "white",
            "showbackground": true,
            "ticks": "",
            "zerolinecolor": "white"
           },
           "yaxis": {
            "backgroundcolor": "#E5ECF6",
            "gridcolor": "white",
            "gridwidth": 2,
            "linecolor": "white",
            "showbackground": true,
            "ticks": "",
            "zerolinecolor": "white"
           },
           "zaxis": {
            "backgroundcolor": "#E5ECF6",
            "gridcolor": "white",
            "gridwidth": 2,
            "linecolor": "white",
            "showbackground": true,
            "ticks": "",
            "zerolinecolor": "white"
           }
          },
          "shapedefaults": {
           "line": {
            "color": "#2a3f5f"
           }
          },
          "ternary": {
           "aaxis": {
            "gridcolor": "white",
            "linecolor": "white",
            "ticks": ""
           },
           "baxis": {
            "gridcolor": "white",
            "linecolor": "white",
            "ticks": ""
           },
           "bgcolor": "#E5ECF6",
           "caxis": {
            "gridcolor": "white",
            "linecolor": "white",
            "ticks": ""
           }
          },
          "title": {
           "x": 0.05
          },
          "xaxis": {
           "automargin": true,
           "gridcolor": "white",
           "linecolor": "white",
           "ticks": "",
           "title": {
            "standoff": 15
           },
           "zerolinecolor": "white",
           "zerolinewidth": 2
          },
          "yaxis": {
           "automargin": true,
           "gridcolor": "white",
           "linecolor": "white",
           "ticks": "",
           "title": {
            "standoff": 15
           },
           "zerolinecolor": "white",
           "zerolinewidth": 2
          }
         }
        },
        "title": {
         "text": "Number of Top 20 Software Development Vulnerabilities between 2014-2021"
        },
        "width": 1700
       }
      },
      "text/html": [
       "<div>                            <div id=\"a86765d1-cdb2-49ac-997d-ce59aa7b944e\" class=\"plotly-graph-div\" style=\"height:800px; width:1700px;\"></div>            <script type=\"text/javascript\">                require([\"plotly\"], function(Plotly) {                    window.PLOTLYENV=window.PLOTLYENV || {};                                    if (document.getElementById(\"a86765d1-cdb2-49ac-997d-ce59aa7b944e\")) {                    Plotly.newPlot(                        \"a86765d1-cdb2-49ac-997d-ce59aa7b944e\",                        [{\"labels\":[\"Improper Neutralization of Input During Web Page Generation ('Cross-site Scripting')\",\"Improper Neutralization of Special Elements used in an SQL Command ('SQL Injection')\",\"Improper Control of Generation of Code ('Code Injection')\",\"Improper Link Resolution Before File Access ('Link Following')\",\"Improper Neutralization of Special Elements used in an OS Command ('OS Command Injection')\",\"Out-of-bounds Write\",\"Out-of-bounds Read\",\"NULL Pointer Dereference\",\"Integer Overflow or Wraparound\",\"Improper Restriction of XML External Entity Reference\",\"Improper Certificate Validation\",\"Unrestricted Upload of File with Dangerous Type\",\"Buffer Copy without Checking Size of Input ('Classic Buffer Overflow')\",\"Use of Hard-coded Credentials\",\"Incorrect Default Permissions\",\"Use of Externally-Controlled Format String\",\"Improper Validation of Array Index\",\"Deserialization of Untrusted Data\",\"Integer Underflow (Wrap or Wraparound)\",\"Untrusted Search Path\"],\"name\":\"2014\",\"values\":[1013,288,161,49,47,28,27,21,21,17,15,13,11,9,6,6,6,5,4,3],\"type\":\"pie\",\"domain\":{\"x\":[0.0,0.2125],\"y\":[0.625,1.0]},\"textfont\":{\"size\":15},\"marker\":{\"line\":{\"color\":\"#000000\",\"width\":2}},\"hoverinfo\":\"label+percent\",\"textinfo\":\"value\",\"textposition\":\"inside\"},{\"labels\":[\"Improper Neutralization of Input During Web Page Generation ('Cross-site Scripting')\",\"Improper Neutralization of Special Elements used in an SQL Command ('SQL Injection')\",\"NULL Pointer Dereference\",\"Improper Control of Generation of Code ('Code Injection')\",\"Improper Neutralization of Special Elements used in an OS Command ('OS Command Injection')\",\"Improper Link Resolution Before File Access ('Link Following')\",\"Integer Overflow or Wraparound\",\"Out-of-bounds Write\",\"Out-of-bounds Read\",\"Unrestricted Upload of File with Dangerous Type\",\"Improper Certificate Validation\",\"URL Redirection to Untrusted Site ('Open Redirect')\",\"Buffer Copy without Checking Size of Input ('Classic Buffer Overflow')\",\"Improper Restriction of XML External Entity Reference\",\"Missing Release of Resource after Effective Lifetime\",\"Loop with Unreachable Exit Condition ('Infinite Loop')\",\"Use of Hard-coded Credentials\",\"Use of Externally-Controlled Format String\",\"Integer Underflow (Wrap or Wraparound)\",\"Untrusted Search Path\"],\"name\":\"2015\",\"values\":[941,271,60,60,47,38,38,35,33,31,29,18,18,17,10,10,10,7,6,6],\"type\":\"pie\",\"domain\":{\"x\":[0.2625,0.475],\"y\":[0.625,1.0]},\"textfont\":{\"size\":15},\"marker\":{\"line\":{\"color\":\"#000000\",\"width\":2}},\"hoverinfo\":\"label+percent\",\"textinfo\":\"value\",\"textposition\":\"inside\"},{\"labels\":[\"Improper Neutralization of Input During Web Page Generation ('Cross-site Scripting')\",\"Out-of-bounds Read\",\"Improper Neutralization of Special Elements used in an SQL Command ('SQL Injection')\",\"NULL Pointer Dereference\",\"Integer Overflow or Wraparound\",\"Out-of-bounds Write\",\"Improper Restriction of XML External Entity Reference\",\"Improper Certificate Validation\",\"Deserialization of Untrusted Data\",\"URL Redirection to Untrusted Site ('Open Redirect')\",\"Use of Hard-coded Credentials\",\"Improper Neutralization of Special Elements used in an OS Command ('OS Command Injection')\",\"Improper Control of Generation of Code ('Code Injection')\",\"Unrestricted Upload of File with Dangerous Type\",\"Divide By Zero\",\"Untrusted Search Path\",\"Insertion of Sensitive Information into Log File\",\"Improper Link Resolution Before File Access ('Link Following')\",\"Missing Release of Resource after Effective Lifetime\",\"Buffer Copy without Checking Size of Input ('Classic Buffer Overflow')\"],\"name\":\"2016\",\"values\":[814,200,170,146,129,95,52,43,41,41,40,39,38,29,22,21,16,15,11,9],\"type\":\"pie\",\"domain\":{\"x\":[0.525,0.7375],\"y\":[0.625,1.0]},\"textfont\":{\"size\":15},\"marker\":{\"line\":{\"color\":\"#000000\",\"width\":2}},\"hoverinfo\":\"label+percent\",\"textinfo\":\"value\",\"textposition\":\"inside\"},{\"labels\":[\"Improper Neutralization of Input During Web Page Generation ('Cross-site Scripting')\",\"Out-of-bounds Read\",\"Improper Neutralization of Special Elements used in an SQL Command ('SQL Injection')\",\"NULL Pointer Dereference\",\"Out-of-bounds Write\",\"Integer Overflow or Wraparound\",\"Missing Release of Resource after Effective Lifetime\",\"Improper Neutralization of Special Elements used in an OS Command ('OS Command Injection')\",\"Improper Certificate Validation\",\"Untrusted Search Path\",\"Loop with Unreachable Exit Condition ('Infinite Loop')\",\"Use of Hard-coded Credentials\",\"Improper Restriction of XML External Entity Reference\",\"URL Redirection to Untrusted Site ('Open Redirect')\",\"Deserialization of Untrusted Data\",\"Unrestricted Upload of File with Dangerous Type\",\"Improper Control of Generation of Code ('Code Injection')\",\"Allocation of Resources Without Limits or Throttling\",\"Reachable Assertion\",\"Buffer Copy without Checking Size of Input ('Classic Buffer Overflow')\"],\"name\":\"2017\",\"values\":[1480,696,489,307,278,219,204,177,160,131,117,102,92,87,87,86,82,49,47,45],\"type\":\"pie\",\"domain\":{\"x\":[0.7875,1.0],\"y\":[0.625,1.0]},\"textfont\":{\"size\":15},\"marker\":{\"line\":{\"color\":\"#000000\",\"width\":2}},\"hoverinfo\":\"label+percent\",\"textinfo\":\"value\",\"textposition\":\"inside\"},{\"labels\":[\"Improper Neutralization of Input During Web Page Generation ('Cross-site Scripting')\",\"Out-of-bounds Write\",\"Out-of-bounds Read\",\"Integer Overflow or Wraparound\",\"Improper Neutralization of Special Elements used in an SQL Command ('SQL Injection')\",\"Improper Neutralization of Special Elements used in an OS Command ('OS Command Injection')\",\"NULL Pointer Dereference\",\"Improper Restriction of XML External Entity Reference\",\"Unrestricted Upload of File with Dangerous Type\",\"Improper Control of Generation of Code ('Code Injection')\",\"Use of Hard-coded Credentials\",\"Deserialization of Untrusted Data\",\"Loop with Unreachable Exit Condition ('Infinite Loop')\",\"Improper Certificate Validation\",\"Missing Release of Resource after Effective Lifetime\",\"Untrusted Search Path\",\"URL Redirection to Untrusted Site ('Open Redirect')\",\"Insertion of Sensitive Information into Log File\",\"Buffer Copy without Checking Size of Input ('Classic Buffer Overflow')\",\"Missing Authentication for Critical Function\"],\"name\":\"2018\",\"values\":[2083,918,816,659,501,381,278,178,169,153,130,103,95,95,88,84,79,63,47,44],\"type\":\"pie\",\"domain\":{\"x\":[0.0,0.2125],\"y\":[0.0,0.375]},\"textfont\":{\"size\":15},\"marker\":{\"line\":{\"color\":\"#000000\",\"width\":2}},\"hoverinfo\":\"label+percent\",\"textinfo\":\"value\",\"textposition\":\"inside\"},{\"labels\":[\"Improper Neutralization of Input During Web Page Generation ('Cross-site Scripting')\",\"Out-of-bounds Write\",\"Out-of-bounds Read\",\"Improper Neutralization of Special Elements used in an SQL Command ('SQL Injection')\",\"Improper Neutralization of Special Elements used in an OS Command ('OS Command Injection')\",\"NULL Pointer Dereference\",\"Missing Authentication for Critical Function\",\"Integer Overflow or Wraparound\",\"Unrestricted Upload of File with Dangerous Type\",\"Buffer Copy without Checking Size of Input ('Classic Buffer Overflow')\",\"Deserialization of Untrusted Data\",\"Use of Hard-coded Credentials\",\"Improper Restriction of XML External Entity Reference\",\"Cleartext Transmission of Sensitive Information\",\"Improper Control of Generation of Code ('Code Injection')\",\"Insertion of Sensitive Information into Log File\",\"URL Redirection to Untrusted Site ('Open Redirect')\",\"Allocation of Resources Without Limits or Throttling\",\"Incorrect Default Permissions\",\"Improper Link Resolution Before File Access ('Link Following')\"],\"name\":\"2019\",\"values\":[1791,1404,817,417,402,254,215,210,179,173,124,123,114,113,109,102,97,97,96,94],\"type\":\"pie\",\"domain\":{\"x\":[0.2625,0.475],\"y\":[0.0,0.375]},\"textfont\":{\"size\":15},\"marker\":{\"line\":{\"color\":\"#000000\",\"width\":2}},\"hoverinfo\":\"label+percent\",\"textinfo\":\"value\",\"textposition\":\"inside\"},{\"labels\":[\"Improper Neutralization of Input During Web Page Generation ('Cross-site Scripting')\",\"Out-of-bounds Write\",\"Out-of-bounds Read\",\"Improper Neutralization of Special Elements used in an SQL Command ('SQL Injection')\",\"Improper Neutralization of Special Elements used in an OS Command ('OS Command Injection')\",\"Buffer Copy without Checking Size of Input ('Classic Buffer Overflow')\",\"Unrestricted Upload of File with Dangerous Type\",\"Incorrect Default Permissions\",\"Missing Authentication for Critical Function\",\"NULL Pointer Dereference\",\"Integer Overflow or Wraparound\",\"Deserialization of Untrusted Data\",\"Use of Hard-coded Credentials\",\"Improper Certificate Validation\",\"Improper Restriction of XML External Entity Reference\",\"Cleartext Transmission of Sensitive Information\",\"Uncontrolled Search Path Element\",\"URL Redirection to Untrusted Site ('Open Redirect')\",\"Improper Control of Generation of Code ('Code Injection')\",\"Improper Link Resolution Before File Access ('Link Following')\"],\"name\":\"2020\",\"values\":[2182,1403,730,573,447,326,258,223,215,203,195,168,167,125,113,110,109,99,94,90],\"type\":\"pie\",\"domain\":{\"x\":[0.525,0.7375],\"y\":[0.0,0.375]},\"textfont\":{\"size\":15},\"marker\":{\"line\":{\"color\":\"#000000\",\"width\":2}},\"hoverinfo\":\"label+percent\",\"textinfo\":\"value\",\"textposition\":\"inside\"},{\"labels\":[\"Improper Neutralization of Input During Web Page Generation ('Cross-site Scripting')\",\"Out-of-bounds Write\",\"Improper Neutralization of Special Elements used in an SQL Command ('SQL Injection')\",\"Out-of-bounds Read\",\"Buffer Copy without Checking Size of Input ('Classic Buffer Overflow')\",\"NULL Pointer Dereference\",\"Improper Neutralization of Special Elements used in an OS Command ('OS Command Injection')\",\"Unrestricted Upload of File with Dangerous Type\",\"Integer Overflow or Wraparound\",\"Deserialization of Untrusted Data\",\"Improper Control of Generation of Code ('Code Injection')\",\"Incorrect Default Permissions\",\"Use of Hard-coded Credentials\",\"URL Redirection to Untrusted Site ('Open Redirect')\",\"Improper Restriction of XML External Entity Reference\",\"Improper Certificate Validation\",\"Cleartext Storage of Sensitive Information\",\"Uncontrolled Search Path Element\",\"Insertion of Sensitive Information into Log File\",\"Divide By Zero\"],\"name\":\"2021\",\"values\":[2006,959,512,498,289,272,235,226,192,176,145,114,113,108,96,96,81,79,67,65],\"type\":\"pie\",\"domain\":{\"x\":[0.7875,1.0],\"y\":[0.0,0.375]},\"textfont\":{\"size\":15},\"marker\":{\"line\":{\"color\":\"#000000\",\"width\":2}},\"hoverinfo\":\"label+percent\",\"textinfo\":\"value\",\"textposition\":\"inside\"}],                        {\"template\":{\"data\":{\"bar\":[{\"error_x\":{\"color\":\"#2a3f5f\"},\"error_y\":{\"color\":\"#2a3f5f\"},\"marker\":{\"line\":{\"color\":\"#E5ECF6\",\"width\":0.5},\"pattern\":{\"fillmode\":\"overlay\",\"size\":10,\"solidity\":0.2}},\"type\":\"bar\"}],\"barpolar\":[{\"marker\":{\"line\":{\"color\":\"#E5ECF6\",\"width\":0.5},\"pattern\":{\"fillmode\":\"overlay\",\"size\":10,\"solidity\":0.2}},\"type\":\"barpolar\"}],\"carpet\":[{\"aaxis\":{\"endlinecolor\":\"#2a3f5f\",\"gridcolor\":\"white\",\"linecolor\":\"white\",\"minorgridcolor\":\"white\",\"startlinecolor\":\"#2a3f5f\"},\"baxis\":{\"endlinecolor\":\"#2a3f5f\",\"gridcolor\":\"white\",\"linecolor\":\"white\",\"minorgridcolor\":\"white\",\"startlinecolor\":\"#2a3f5f\"},\"type\":\"carpet\"}],\"choropleth\":[{\"colorbar\":{\"outlinewidth\":0,\"ticks\":\"\"},\"type\":\"choropleth\"}],\"contour\":[{\"colorbar\":{\"outlinewidth\":0,\"ticks\":\"\"},\"colorscale\":[[0.0,\"#0d0887\"],[0.1111111111111111,\"#46039f\"],[0.2222222222222222,\"#7201a8\"],[0.3333333333333333,\"#9c179e\"],[0.4444444444444444,\"#bd3786\"],[0.5555555555555556,\"#d8576b\"],[0.6666666666666666,\"#ed7953\"],[0.7777777777777778,\"#fb9f3a\"],[0.8888888888888888,\"#fdca26\"],[1.0,\"#f0f921\"]],\"type\":\"contour\"}],\"contourcarpet\":[{\"colorbar\":{\"outlinewidth\":0,\"ticks\":\"\"},\"type\":\"contourcarpet\"}],\"heatmap\":[{\"colorbar\":{\"outlinewidth\":0,\"ticks\":\"\"},\"colorscale\":[[0.0,\"#0d0887\"],[0.1111111111111111,\"#46039f\"],[0.2222222222222222,\"#7201a8\"],[0.3333333333333333,\"#9c179e\"],[0.4444444444444444,\"#bd3786\"],[0.5555555555555556,\"#d8576b\"],[0.6666666666666666,\"#ed7953\"],[0.7777777777777778,\"#fb9f3a\"],[0.8888888888888888,\"#fdca26\"],[1.0,\"#f0f921\"]],\"type\":\"heatmap\"}],\"heatmapgl\":[{\"colorbar\":{\"outlinewidth\":0,\"ticks\":\"\"},\"colorscale\":[[0.0,\"#0d0887\"],[0.1111111111111111,\"#46039f\"],[0.2222222222222222,\"#7201a8\"],[0.3333333333333333,\"#9c179e\"],[0.4444444444444444,\"#bd3786\"],[0.5555555555555556,\"#d8576b\"],[0.6666666666666666,\"#ed7953\"],[0.7777777777777778,\"#fb9f3a\"],[0.8888888888888888,\"#fdca26\"],[1.0,\"#f0f921\"]],\"type\":\"heatmapgl\"}],\"histogram\":[{\"marker\":{\"pattern\":{\"fillmode\":\"overlay\",\"size\":10,\"solidity\":0.2}},\"type\":\"histogram\"}],\"histogram2d\":[{\"colorbar\":{\"outlinewidth\":0,\"ticks\":\"\"},\"colorscale\":[[0.0,\"#0d0887\"],[0.1111111111111111,\"#46039f\"],[0.2222222222222222,\"#7201a8\"],[0.3333333333333333,\"#9c179e\"],[0.4444444444444444,\"#bd3786\"],[0.5555555555555556,\"#d8576b\"],[0.6666666666666666,\"#ed7953\"],[0.7777777777777778,\"#fb9f3a\"],[0.8888888888888888,\"#fdca26\"],[1.0,\"#f0f921\"]],\"type\":\"histogram2d\"}],\"histogram2dcontour\":[{\"colorbar\":{\"outlinewidth\":0,\"ticks\":\"\"},\"colorscale\":[[0.0,\"#0d0887\"],[0.1111111111111111,\"#46039f\"],[0.2222222222222222,\"#7201a8\"],[0.3333333333333333,\"#9c179e\"],[0.4444444444444444,\"#bd3786\"],[0.5555555555555556,\"#d8576b\"],[0.6666666666666666,\"#ed7953\"],[0.7777777777777778,\"#fb9f3a\"],[0.8888888888888888,\"#fdca26\"],[1.0,\"#f0f921\"]],\"type\":\"histogram2dcontour\"}],\"mesh3d\":[{\"colorbar\":{\"outlinewidth\":0,\"ticks\":\"\"},\"type\":\"mesh3d\"}],\"parcoords\":[{\"line\":{\"colorbar\":{\"outlinewidth\":0,\"ticks\":\"\"}},\"type\":\"parcoords\"}],\"pie\":[{\"automargin\":true,\"type\":\"pie\"}],\"scatter\":[{\"marker\":{\"colorbar\":{\"outlinewidth\":0,\"ticks\":\"\"}},\"type\":\"scatter\"}],\"scatter3d\":[{\"line\":{\"colorbar\":{\"outlinewidth\":0,\"ticks\":\"\"}},\"marker\":{\"colorbar\":{\"outlinewidth\":0,\"ticks\":\"\"}},\"type\":\"scatter3d\"}],\"scattercarpet\":[{\"marker\":{\"colorbar\":{\"outlinewidth\":0,\"ticks\":\"\"}},\"type\":\"scattercarpet\"}],\"scattergeo\":[{\"marker\":{\"colorbar\":{\"outlinewidth\":0,\"ticks\":\"\"}},\"type\":\"scattergeo\"}],\"scattergl\":[{\"marker\":{\"colorbar\":{\"outlinewidth\":0,\"ticks\":\"\"}},\"type\":\"scattergl\"}],\"scattermapbox\":[{\"marker\":{\"colorbar\":{\"outlinewidth\":0,\"ticks\":\"\"}},\"type\":\"scattermapbox\"}],\"scatterpolar\":[{\"marker\":{\"colorbar\":{\"outlinewidth\":0,\"ticks\":\"\"}},\"type\":\"scatterpolar\"}],\"scatterpolargl\":[{\"marker\":{\"colorbar\":{\"outlinewidth\":0,\"ticks\":\"\"}},\"type\":\"scatterpolargl\"}],\"scatterternary\":[{\"marker\":{\"colorbar\":{\"outlinewidth\":0,\"ticks\":\"\"}},\"type\":\"scatterternary\"}],\"surface\":[{\"colorbar\":{\"outlinewidth\":0,\"ticks\":\"\"},\"colorscale\":[[0.0,\"#0d0887\"],[0.1111111111111111,\"#46039f\"],[0.2222222222222222,\"#7201a8\"],[0.3333333333333333,\"#9c179e\"],[0.4444444444444444,\"#bd3786\"],[0.5555555555555556,\"#d8576b\"],[0.6666666666666666,\"#ed7953\"],[0.7777777777777778,\"#fb9f3a\"],[0.8888888888888888,\"#fdca26\"],[1.0,\"#f0f921\"]],\"type\":\"surface\"}],\"table\":[{\"cells\":{\"fill\":{\"color\":\"#EBF0F8\"},\"line\":{\"color\":\"white\"}},\"header\":{\"fill\":{\"color\":\"#C8D4E3\"},\"line\":{\"color\":\"white\"}},\"type\":\"table\"}]},\"layout\":{\"annotationdefaults\":{\"arrowcolor\":\"#2a3f5f\",\"arrowhead\":0,\"arrowwidth\":1},\"autotypenumbers\":\"strict\",\"coloraxis\":{\"colorbar\":{\"outlinewidth\":0,\"ticks\":\"\"}},\"colorscale\":{\"diverging\":[[0,\"#8e0152\"],[0.1,\"#c51b7d\"],[0.2,\"#de77ae\"],[0.3,\"#f1b6da\"],[0.4,\"#fde0ef\"],[0.5,\"#f7f7f7\"],[0.6,\"#e6f5d0\"],[0.7,\"#b8e186\"],[0.8,\"#7fbc41\"],[0.9,\"#4d9221\"],[1,\"#276419\"]],\"sequential\":[[0.0,\"#0d0887\"],[0.1111111111111111,\"#46039f\"],[0.2222222222222222,\"#7201a8\"],[0.3333333333333333,\"#9c179e\"],[0.4444444444444444,\"#bd3786\"],[0.5555555555555556,\"#d8576b\"],[0.6666666666666666,\"#ed7953\"],[0.7777777777777778,\"#fb9f3a\"],[0.8888888888888888,\"#fdca26\"],[1.0,\"#f0f921\"]],\"sequentialminus\":[[0.0,\"#0d0887\"],[0.1111111111111111,\"#46039f\"],[0.2222222222222222,\"#7201a8\"],[0.3333333333333333,\"#9c179e\"],[0.4444444444444444,\"#bd3786\"],[0.5555555555555556,\"#d8576b\"],[0.6666666666666666,\"#ed7953\"],[0.7777777777777778,\"#fb9f3a\"],[0.8888888888888888,\"#fdca26\"],[1.0,\"#f0f921\"]]},\"colorway\":[\"#636efa\",\"#EF553B\",\"#00cc96\",\"#ab63fa\",\"#FFA15A\",\"#19d3f3\",\"#FF6692\",\"#B6E880\",\"#FF97FF\",\"#FECB52\"],\"font\":{\"color\":\"#2a3f5f\"},\"geo\":{\"bgcolor\":\"white\",\"lakecolor\":\"white\",\"landcolor\":\"#E5ECF6\",\"showlakes\":true,\"showland\":true,\"subunitcolor\":\"white\"},\"hoverlabel\":{\"align\":\"left\"},\"hovermode\":\"closest\",\"mapbox\":{\"style\":\"light\"},\"paper_bgcolor\":\"white\",\"plot_bgcolor\":\"#E5ECF6\",\"polar\":{\"angularaxis\":{\"gridcolor\":\"white\",\"linecolor\":\"white\",\"ticks\":\"\"},\"bgcolor\":\"#E5ECF6\",\"radialaxis\":{\"gridcolor\":\"white\",\"linecolor\":\"white\",\"ticks\":\"\"}},\"scene\":{\"xaxis\":{\"backgroundcolor\":\"#E5ECF6\",\"gridcolor\":\"white\",\"gridwidth\":2,\"linecolor\":\"white\",\"showbackground\":true,\"ticks\":\"\",\"zerolinecolor\":\"white\"},\"yaxis\":{\"backgroundcolor\":\"#E5ECF6\",\"gridcolor\":\"white\",\"gridwidth\":2,\"linecolor\":\"white\",\"showbackground\":true,\"ticks\":\"\",\"zerolinecolor\":\"white\"},\"zaxis\":{\"backgroundcolor\":\"#E5ECF6\",\"gridcolor\":\"white\",\"gridwidth\":2,\"linecolor\":\"white\",\"showbackground\":true,\"ticks\":\"\",\"zerolinecolor\":\"white\"}},\"shapedefaults\":{\"line\":{\"color\":\"#2a3f5f\"}},\"ternary\":{\"aaxis\":{\"gridcolor\":\"white\",\"linecolor\":\"white\",\"ticks\":\"\"},\"baxis\":{\"gridcolor\":\"white\",\"linecolor\":\"white\",\"ticks\":\"\"},\"bgcolor\":\"#E5ECF6\",\"caxis\":{\"gridcolor\":\"white\",\"linecolor\":\"white\",\"ticks\":\"\"}},\"title\":{\"x\":0.05},\"xaxis\":{\"automargin\":true,\"gridcolor\":\"white\",\"linecolor\":\"white\",\"ticks\":\"\",\"title\":{\"standoff\":15},\"zerolinecolor\":\"white\",\"zerolinewidth\":2},\"yaxis\":{\"automargin\":true,\"gridcolor\":\"white\",\"linecolor\":\"white\",\"ticks\":\"\",\"title\":{\"standoff\":15},\"zerolinecolor\":\"white\",\"zerolinewidth\":2}}},\"annotations\":[{\"font\":{\"size\":16},\"showarrow\":false,\"text\":\"2014\",\"x\":0.10625,\"xanchor\":\"center\",\"xref\":\"paper\",\"y\":1.0,\"yanchor\":\"bottom\",\"yref\":\"paper\"},{\"font\":{\"size\":16},\"showarrow\":false,\"text\":\"2015\",\"x\":0.36875,\"xanchor\":\"center\",\"xref\":\"paper\",\"y\":1.0,\"yanchor\":\"bottom\",\"yref\":\"paper\"},{\"font\":{\"size\":16},\"showarrow\":false,\"text\":\"2016\",\"x\":0.6312500000000001,\"xanchor\":\"center\",\"xref\":\"paper\",\"y\":1.0,\"yanchor\":\"bottom\",\"yref\":\"paper\"},{\"font\":{\"size\":16},\"showarrow\":false,\"text\":\"2017\",\"x\":0.89375,\"xanchor\":\"center\",\"xref\":\"paper\",\"y\":1.0,\"yanchor\":\"bottom\",\"yref\":\"paper\"},{\"font\":{\"size\":16},\"showarrow\":false,\"text\":\"2018\",\"x\":0.10625,\"xanchor\":\"center\",\"xref\":\"paper\",\"y\":0.375,\"yanchor\":\"bottom\",\"yref\":\"paper\"},{\"font\":{\"size\":16},\"showarrow\":false,\"text\":\"2019\",\"x\":0.36875,\"xanchor\":\"center\",\"xref\":\"paper\",\"y\":0.375,\"yanchor\":\"bottom\",\"yref\":\"paper\"},{\"font\":{\"size\":16},\"showarrow\":false,\"text\":\"2020\",\"x\":0.6312500000000001,\"xanchor\":\"center\",\"xref\":\"paper\",\"y\":0.375,\"yanchor\":\"bottom\",\"yref\":\"paper\"},{\"font\":{\"size\":16},\"showarrow\":false,\"text\":\"2021\",\"x\":0.89375,\"xanchor\":\"center\",\"xref\":\"paper\",\"y\":0.375,\"yanchor\":\"bottom\",\"yref\":\"paper\"}],\"title\":{\"text\":\"Number of Top 20 Software Development Vulnerabilities between 2014-2021\"},\"height\":800,\"width\":1700,\"colorway\":[\"#17BECF\",\"#BCBD22\",\"#7F7F7F\",\"#E377C2\",\"#8C564B\",\"#9467BD\",\"#D62728\",\"#2CA02C\",\"#FF7F0E\",\"#1F77B4\"]},                        {\"responsive\": true}                    ).then(function(){\n",
       "                            \n",
       "var gd = document.getElementById('a86765d1-cdb2-49ac-997d-ce59aa7b944e');\n",
       "var x = new MutationObserver(function (mutations, observer) {{\n",
       "        var display = window.getComputedStyle(gd).display;\n",
       "        if (!display || display === 'none') {{\n",
       "            console.log([gd, 'removed!']);\n",
       "            Plotly.purge(gd);\n",
       "            observer.disconnect();\n",
       "        }}\n",
       "}});\n",
       "\n",
       "// Listen for the removal of the full notebook cells\n",
       "var notebookContainer = gd.closest('#notebook-container');\n",
       "if (notebookContainer) {{\n",
       "    x.observe(notebookContainer, {childList: true});\n",
       "}}\n",
       "\n",
       "// Listen for the clearing of the current output cell\n",
       "var outputEl = gd.closest('.output');\n",
       "if (outputEl) {{\n",
       "    x.observe(outputEl, {childList: true});\n",
       "}}\n",
       "\n",
       "                        })                };                });            </script>        </div>"
      ]
     },
     "metadata": {},
     "output_type": "display_data"
    }
   ],
   "source": [
    "\n",
    "import plotly.express as px\n",
    "fig = make_subplots(rows=2, cols=4,  subplot_titles=(\"2014\", \"2015\", \"2016\",\"2017\",\"2018\",\"2019\",\"2020\",\"2021\"),\n",
    "                    specs=[[{\"type\": \"pie\"}, {\"type\": \"pie\"}, {\"type\": \"pie\"}, {\"type\": \"pie\"}],[{\"type\": \"pie\"},{\"type\": \"pie\"},{\"type\": \"pie\"},{\"type\": \"pie\"}]])\n",
    "\n",
    "fig.add_trace(go.Pie(labels=dfs2014[\"index\"].values, values=dfs2014[\"CWE-NAME\"].values,name=2014) ,row=1, col=1)\n",
    "fig.add_trace(go.Pie(labels=dfs2015[\"index\"].values, values=dfs2015[\"CWE-NAME\"].values,name=2015) ,row=1, col=2)\n",
    "fig.add_trace(go.Pie(labels=dfs2016[\"index\"].values, values=dfs2016[\"CWE-NAME\"].values,name=2016) ,row=1, col=3)\n",
    "fig.add_trace(go.Pie(labels=dfs2017[\"index\"].values, values=dfs2017[\"CWE-NAME\"].values,name=2017) ,row=1, col=4)\n",
    "fig.add_trace(go.Pie(labels=dfs2018[\"index\"].values, values=dfs2018[\"CWE-NAME\"].values,name=2018) ,row=2, col=1)\n",
    "fig.add_trace(go.Pie(labels=dfs2019[\"index\"].values, values=dfs2019[\"CWE-NAME\"].values,name=2019) ,row=2, col=2)\n",
    "fig.add_trace(go.Pie(labels=dfs2020[\"index\"].values, values=dfs2020[\"CWE-NAME\"].values,name=2020) ,row=2, col=3)\n",
    "fig.add_trace(go.Pie(labels=dfs2021[\"index\"].values, values=dfs2021[\"CWE-NAME\"].values,name=2021) ,row=2, col=4)\n",
    "\n",
    "fig.update_traces(hoverinfo='label+percent', textinfo='value', textfont_size=15,textposition='inside',\n",
    "                  marker=dict(line=dict(color='#000000', width=2)))\n",
    "fig.update_layout(height=800, width=1700,colorway=px.colors.qualitative.D3_r,\n",
    "                  title_text=\"Number of Top 20 Software Development Vulnerabilities between 2014-2021\")\n",
    "\n",
    "fig.show()"
   ]
  }
 ],
 "metadata": {
  "kernelspec": {
   "display_name": "Python 3",
   "language": "python",
   "name": "python3"
  },
  "language_info": {
   "codemirror_mode": {
    "name": "ipython",
    "version": 3
   },
   "file_extension": ".py",
   "mimetype": "text/x-python",
   "name": "python",
   "nbconvert_exporter": "python",
   "pygments_lexer": "ipython3",
   "version": "3.7.12"
  },
  "papermill": {
   "default_parameters": {},
   "duration": 117.844695,
   "end_time": "2022-01-24T20:33:05.233102",
   "environment_variables": {},
   "exception": null,
   "input_path": "__notebook__.ipynb",
   "output_path": "__notebook__.ipynb",
   "parameters": {},
   "start_time": "2022-01-24T20:31:07.388407",
   "version": "2.3.3"
  }
 },
 "nbformat": 4,
 "nbformat_minor": 5
}
